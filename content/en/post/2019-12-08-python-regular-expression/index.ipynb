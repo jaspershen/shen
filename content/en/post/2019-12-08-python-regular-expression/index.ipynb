{
 "cells": [
  {
   "cell_type": "markdown",
   "metadata": {},
   "source": [
    "# Python正则表达式"
   ]
  },
  {
   "cell_type": "markdown",
   "metadata": {},
   "source": [
    "正则表达式是一个特殊的字符序列，它能帮助你方便的检查一个字符串是否与某种模式匹配。"
   ]
  },
  {
   "cell_type": "markdown",
   "metadata": {},
   "source": [
    "## 原意字符(literal characters)"
   ]
  },
  {
   "cell_type": "markdown",
   "metadata": {},
   "source": [
    "  Literal character | Meaning\n",
    "  -----------------|---------\n",
    "    \\f        |换页符\n",
    "    \\n        |换行符\n",
    "    \\r        |回车键\n",
    "    \\t        |Tab键\n",
    "    \\v        |垂直制表符\n",
    "    \\a        |Alarm (beep)不懂什么意思\n",
    "    \\xHH      |The ASCII character specified by the two digit hexadecimal code. For octal use \\OOO except JS\n",
    "    \\x{HHHH}   |PHP: ASCII character represented by a four digit hexadecimal code. Javascript uses \\uHHHH\n",
    "    \\cX      |The control character ^X. For example, \\cI is equivalent to \\t and \\cJ is equivalent to \\n"
   ]
  },
  {
   "cell_type": "markdown",
   "metadata": {},
   "source": [
    "## 重复(repetition)"
   ]
  },
  {
   "cell_type": "markdown",
   "metadata": {},
   "source": [
    "定义某个对象是否要重复几次."
   ]
  },
  {
   "cell_type": "markdown",
   "metadata": {},
   "source": [
    " Character | Meaning\n",
    "  -----------------|---------\n",
    "  {n,m}        |匹配前面的对象至少n次,但是不超过m次.\n",
    "  {n,}        |匹配前面的对象至少n次.\n",
    "  {n}        |匹配前面的对象n次.\n",
    "  ?        |匹配前面的对象0次或者1次.等于{0,1}\n",
    "  +        |匹配前面的对象至少1次.等于{1,}\n",
    "  *        |匹配前面的对象0次或者多次.等于{0,}\n",
    "  {}?        |非贪婪匹配(non-greedy match),不会包括剩下的`group/match characters`.\n",
    "  ??        |非贪婪匹配(non-greedy match),不会包括剩下的`group/match characters`.\n",
    "  +?        |非贪婪匹配(non-greedy match),不会包括剩下的`group/match characters`.\n",
    "  *?        |非贪婪匹配(non-greedy match)."
   ]
  },
  {
   "cell_type": "markdown",
   "metadata": {},
   "source": [
    "非贪婪匹配时一种特殊的匹配,当重复一个正则表达式时,比如`a*`,星号是指匹配0次或者多次,那么python匹配时会尽可能匹配多的a.非贪婪匹配其实就是在原来的重复后面加上一个问好.\n",
    "下面举个例子:"
   ]
  },
  {
   "cell_type": "code",
   "execution_count": 30,
   "metadata": {},
   "outputs": [],
   "source": [
    "import re as re\n",
    "s = '<html><head><title>Title</title>'"
   ]
  },
  {
   "cell_type": "markdown",
   "metadata": {},
   "source": [
    "比如我们像匹配第一个`<html>`,如果使用`<.*>`作为正则表达式,那么右边的`>`则会一直匹配到最右边的`title`的`>`."
   ]
  },
  {
   "cell_type": "code",
   "execution_count": 31,
   "metadata": {},
   "outputs": [
    {
     "name": "stdout",
     "output_type": "stream",
     "text": [
      "(0, 32)\n",
      "<html><head><title>Title</title>\n"
     ]
    }
   ],
   "source": [
    "print(re.match('<.*>', s).span())\n",
    "print(re.match('<.*>', s).group())"
   ]
  },
  {
   "cell_type": "markdown",
   "metadata": {},
   "source": [
    "`re`在`<html>`中匹配 `<`，`.*`会消耗掉字符串的剩余部分。`re`中保持更多的向左匹配，不能在字符串结尾匹配`>`，因此正则表达式必须一个字符一个字符地回溯，直到它找到`>`的匹配。最终的匹配从`<html`中的`<`到`</title>`中的`>`,这变成了全文匹配，并不是你想要的结果。\n",
    "\n",
    "在这种情况下，解决方案是使用不贪婪的限定符`*?`,`+?`,`??`或`{m,n}?`，尽可能匹配小的文本。在上面的例子里，在第一个 `<` 之后立即尝试匹配`>`，当它失败时，引擎一次增加一个字符，并在每步重试匹配`>`。这个处理将得到正确的结果："
   ]
  },
  {
   "cell_type": "code",
   "execution_count": 32,
   "metadata": {},
   "outputs": [
    {
     "name": "stdout",
     "output_type": "stream",
     "text": [
      "<html>\n"
     ]
    }
   ],
   "source": [
    "print(re.match('<.*?>', s).group())"
   ]
  },
  {
   "cell_type": "markdown",
   "metadata": {},
   "source": [
    "## 组(grouping)"
   ]
  },
  {
   "cell_type": "markdown",
   "metadata": {},
   "source": [
    " Character | Meaning\n",
    "  -----------------|---------\n",
    "  (...)|大括号中的内容会作为一个整体进行匹配,然后可以跟着重复符,或者`|`等.\n",
    "    `\\|`  | 或者的标志.匹配该符号的左边或者右边的内容.\n",
    "    \\n | Match the same characters that were matched when group number n was first matched. Groups are subexpressions within (possibly nested) parentheses."
   ]
  },
  {
   "cell_type": "markdown",
   "metadata": {},
   "source": [
    "## 锚点(Anchors)"
   ]
  },
  {
   "cell_type": "markdown",
   "metadata": {},
   "source": [
    "Character | Meaning\n",
    "  -----------------|---------\n",
    "  ^|匹配字符串的开始.\n",
    "  $ | 匹配字符串的的结尾\n",
    "    "
   ]
  },
  {
   "cell_type": "markdown",
   "metadata": {},
   "source": [
    "Python自1.5版本起增加了`re`模块，它提供Perl风格的正则表达式模式。\n",
    "`re`模块使Python语言拥有全部的正则表达式功能。\n",
    "`compile()`函数根据一个模式字符串和可选的标志参数生成一个正则表达式对象。该对象拥有一系列方法用于正则表达式匹配和替换。\n",
    "`re`模块也提供了与这些方法功能完全一致的函数，这些函数使用一个模式字符串做为它们的第一个参数。"
   ]
  },
  {
   "cell_type": "markdown",
   "metadata": {},
   "source": [
    "# re.match()函数"
   ]
  },
  {
   "cell_type": "markdown",
   "metadata": {},
   "source": [
    "尝试从字符串的**起始位置**匹配一个字符,如果匹配不成功的话,就会返回`None`.注意,这个方法并不是完全匹配。它仅仅决定在字符串开始的位置是否匹配。所以当pattern结束时若还有剩余字符，仍然视为成功。想要完全匹配，可以在表达式末尾加上边界匹配符`$`.   \n",
    "例如：    \n",
    "```\n",
    "match('p','python')\n",
    "```\n",
    "返回值为真；\n",
    "```\n",
    "match('p','www.python.org')\n",
    "```\n",
    "返回值为假。\n"
   ]
  },
  {
   "cell_type": "markdown",
   "metadata": {},
   "source": [
    "## 函数语法"
   ]
  },
  {
   "cell_type": "markdown",
   "metadata": {},
   "source": [
    "```\n",
    "re.match(pattern, string, flags = 0)\n",
    "```"
   ]
  },
  {
   "cell_type": "markdown",
   "metadata": {},
   "source": [
    "## 参数说明"
   ]
  },
  {
   "cell_type": "markdown",
   "metadata": {},
   "source": [
    "Aargument | Meaning\n",
    "----------|--------\n",
    "pattern  |要匹配的字符或者正则表达式\n",
    "string  |要匹配的自负床\n",
    "flags  |标志位,用于控制正则表达式的匹配方式.如是否区分大小写,多行匹配等"
   ]
  },
  {
   "cell_type": "markdown",
   "metadata": {},
   "source": [
    "## 返回对象"
   ]
  },
  {
   "cell_type": "markdown",
   "metadata": {},
   "source": [
    "返回的是一个匹配对象,如果没有匹配成功,否则返回`None`.    \n",
    "我们可以使用`group(num)`或`groups()`配对象函数来获取匹配表达式。"
   ]
  },
  {
   "cell_type": "markdown",
   "metadata": {},
   "source": [
    "## 例子"
   ]
  },
  {
   "cell_type": "code",
   "execution_count": 33,
   "metadata": {},
   "outputs": [],
   "source": [
    "import re as re"
   ]
  },
  {
   "cell_type": "code",
   "execution_count": 34,
   "metadata": {},
   "outputs": [],
   "source": [
    "string = 'www.runoob.com'"
   ]
  },
  {
   "cell_type": "code",
   "execution_count": 35,
   "metadata": {},
   "outputs": [],
   "source": [
    "result = re.match('www', string)"
   ]
  },
  {
   "cell_type": "code",
   "execution_count": 36,
   "metadata": {},
   "outputs": [
    {
     "name": "stdout",
     "output_type": "stream",
     "text": [
      "<re.Match object; span=(0, 3), match='www'>\n",
      "<class 're.Match'>\n"
     ]
    }
   ],
   "source": [
    "print(result)\n",
    "print(type(result))"
   ]
  },
  {
   "cell_type": "code",
   "execution_count": 10,
   "metadata": {},
   "outputs": [
    {
     "data": {
      "text/plain": [
       "(0, 3)"
      ]
     },
     "execution_count": 10,
     "metadata": {},
     "output_type": "execute_result"
    }
   ],
   "source": [
    "result.span()"
   ]
  },
  {
   "cell_type": "code",
   "execution_count": 11,
   "metadata": {},
   "outputs": [
    {
     "data": {
      "text/plain": [
       "'www'"
      ]
     },
     "execution_count": 11,
     "metadata": {},
     "output_type": "execute_result"
    }
   ],
   "source": [
    "result.group()"
   ]
  },
  {
   "cell_type": "code",
   "execution_count": 15,
   "metadata": {},
   "outputs": [
    {
     "data": {
      "text/plain": [
       "'www'"
      ]
     },
     "execution_count": 15,
     "metadata": {},
     "output_type": "execute_result"
    }
   ],
   "source": [
    "result.group(0)"
   ]
  },
  {
   "cell_type": "markdown",
   "metadata": {},
   "source": [
    "`group`方法输出匹配到的内容.如果只使用字符进行匹配,那返回的就是字符,如果时使用正则表达式,那么就是返回匹配的的符合正则表达式的字符."
   ]
  },
  {
   "cell_type": "code",
   "execution_count": 40,
   "metadata": {},
   "outputs": [
    {
     "name": "stdout",
     "output_type": "stream",
     "text": [
      "RegexFlag.MULTILINE\n",
      "RegexFlag.IGNORECASE\n"
     ]
    }
   ],
   "source": [
    "line = 'Cats are smarter than dogs'\n",
    "print(re.M)\n",
    "print(re.I)"
   ]
  },
  {
   "cell_type": "code",
   "execution_count": 48,
   "metadata": {},
   "outputs": [],
   "source": [
    "match_object = re.match(r'(.*) are (.*?) .*', line, flags = re.M|re.I)"
   ]
  },
  {
   "cell_type": "markdown",
   "metadata": {},
   "source": [
    "这个`pattern`就是所谓的正则表达式.   \n",
    "`()`括号括起来的内容意味着他们作为一个整体进行匹配.    \n",
    "`.`点代表着任意字符.    \n",
    "`*`星号放在某个字符后面,代表着该字符或者对象出现0或者多次.    \n",
    "`*?`在星号后加上问好,是指非贪婪匹配(Non-greedy match).参考上面内容.\n",
    "\n",
    "另外一个要重点提的就是`r`,在一个正则表达式的最前面加上`r`,则不需要使用转义符."
   ]
  },
  {
   "cell_type": "markdown",
   "metadata": {},
   "source": [
    "`flags`参数设置为了`re.M|re.I`.\n",
    "其中`re.I`(`IGNORECASE`)是指进行忽略大小写匹配.    \n",
    "`re.M`(`MULTILINE`)是指多行匹配."
   ]
  },
  {
   "cell_type": "code",
   "execution_count": 49,
   "metadata": {},
   "outputs": [
    {
     "name": "stdout",
     "output_type": "stream",
     "text": [
      "match_object.group() :  Cats are smarter than dogs\n",
      "match_object.group(0) :  Cats are smarter than dogs\n",
      "match_object.group(1) :  Cats\n",
      "match_object.group(2) :  smarter\n"
     ]
    }
   ],
   "source": [
    "if match_object:\n",
    "   print(\"match_object.group() : \", match_object.group())\n",
    "   print(\"match_object.group(0) : \", match_object.group(0))\n",
    "   print(\"match_object.group(1) : \", match_object.group(1))\n",
    "   print(\"match_object.group(2) : \", match_object.group(2))\n",
    "else:\n",
    "   print(\"No match!!\")"
   ]
  },
  {
   "cell_type": "markdown",
   "metadata": {},
   "source": [
    "# re.search()函数"
   ]
  },
  {
   "cell_type": "markdown",
   "metadata": {},
   "source": [
    "该函数用来扫描整个字符串,并返回第一个成功的匹配.跟`re.match`不同,`re.match`时从开头开始匹配的."
   ]
  },
  {
   "cell_type": "markdown",
   "metadata": {},
   "source": [
    "## 函数语法"
   ]
  },
  {
   "cell_type": "markdown",
   "metadata": {},
   "source": [
    "```\n",
    "re.search(pattern, string, flags=0)\n",
    "```"
   ]
  },
  {
   "cell_type": "markdown",
   "metadata": {},
   "source": [
    "参数跟`re.match()`的完全一样,含义也相同."
   ]
  },
  {
   "cell_type": "markdown",
   "metadata": {},
   "source": [
    "## 返回对象"
   ]
  },
  {
   "cell_type": "markdown",
   "metadata": {},
   "source": [
    "返回的对象也跟`re.match()`相同."
   ]
  },
  {
   "cell_type": "markdown",
   "metadata": {},
   "source": [
    "## 例子"
   ]
  },
  {
   "cell_type": "code",
   "execution_count": 51,
   "metadata": {},
   "outputs": [
    {
     "name": "stdout",
     "output_type": "stream",
     "text": [
      "(0, 3)\n",
      "(11, 14)\n"
     ]
    }
   ],
   "source": [
    "import re as re\n",
    "print(re.search('www', 'www.runoob.com').span())  # 在起始位置匹配\n",
    "print(re.search('com', 'www.runoob.com').span())# 不在起始位置匹配"
   ]
  },
  {
   "cell_type": "code",
   "execution_count": 52,
   "metadata": {},
   "outputs": [
    {
     "name": "stdout",
     "output_type": "stream",
     "text": [
      "search_object.group() :  Cats are smarter than dogs\n",
      "search_object.group(1) :  Cats\n",
      "search_object.group(2) :  smarter\n"
     ]
    }
   ],
   "source": [
    "import re as re\n",
    "line = \"Cats are smarter than dogs\";\n",
    "search_object = re.search( r'(.*) are (.*?) .*', line, re.M|re.I)\n",
    "if search_object:\n",
    "   print(\"search_object.group() : \", search_object.group())\n",
    "   print(\"search_object.group(1) : \", search_object.group(1))\n",
    "   print(\"search_object.group(2) : \", search_object.group(2))\n",
    "else:\n",
    "   print(\"Nothing found!!\")"
   ]
  },
  {
   "cell_type": "code",
   "execution_count": null,
   "metadata": {},
   "outputs": [],
   "source": [
    "\n"
   ]
  }
 ],
 "metadata": {
  "kernelspec": {
   "display_name": "Python 3",
   "language": "python",
   "name": "python3"
  },
  "language_info": {
   "codemirror_mode": {
    "name": "ipython",
    "version": 3
   },
   "file_extension": ".py",
   "mimetype": "text/x-python",
   "name": "python",
   "nbconvert_exporter": "python",
   "pygments_lexer": "ipython3",
   "version": "3.7.4"
  }
 },
 "nbformat": 4,
 "nbformat_minor": 2
}
