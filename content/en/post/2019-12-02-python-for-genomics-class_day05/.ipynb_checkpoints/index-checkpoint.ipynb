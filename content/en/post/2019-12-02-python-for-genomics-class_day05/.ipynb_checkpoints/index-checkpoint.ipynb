{
 "cells": [
  {
   "cell_type": "markdown",
   "metadata": {},
   "source": [
    "第五天的知识点总结."
   ]
  },
  {
   "cell_type": "markdown",
   "metadata": {},
   "source": [
    "# FASTQ格式数据\n",
    "                                            \n",
    "Fastq是测序数据下机格式，其中包含测序序列(reads)的序列信息及其对应的测序质量信息。FASTQ格式文件中每个read由四行(name,sequence,comment,quality)描述，如下：\n",
    "                                            \n",
    "```\n",
    "@YJM244_SRR800767.1 1 length=202      \n",
    "TGTGAAACTTAGTTTTCTTTTTGTATTGGGGTGTAATTTCTTATTTTCCCTGTATTTCACCGCATGCAA      \n",
    "+YJM244 : Geographic Location of Isolate: Romania, Source: Clinical      \n",
    "CC@FDDFFHHHHHJJJJJJIIIJFHJGJJJJ:DCDDGHIJJG4DGIDGH<9??9=F@))B8-''557=A)? \n",
    "```\n",
    "\n",
    "最开始,桑格研究所的FASTQ格式允许序列与质量信息分成多行进行保存,但是一般不推荐采用这种方式,因为第一和第三行开头的@与+符号同样也可能出现在质量信息中,可能会造成信息提取的困难.\n",
    "\n",
    "## name\n",
    "\n",
    "其中第一行是该read的name,以“@”开头，随后为Illumina 测序标识符(Sequence Identifiers)和描述文字(选择性部分).不同的公司或者软件不太一样.他是每一条read的唯一标识符,同一份FASTQ文件中不会出现重复,甚至不同的FASTQ的文件中也不会出现重复.\n",
    "\n",
    "以下面的为例:\n",
    "\n",
    "```\n",
    "@HWUSI-EAS100R:6:73:941:1973#0/1\n",
    "```\n",
    "\n",
    "\n",
    "Identifier   | Meaning\n",
    "--------------|--------------------------\n",
    "HWUSI-EAS100R | the unique instrument name\n",
    "6 | flowcell lane\n",
    "73 | tile number within the flowcell lane\n",
    "941 | 'x'-coordinate of the cluster within the tile\n",
    "1973 | 'y'-coordinate of the cluster within the tile\n",
    "#0 | index number for a multiplexed sample (0 for no indexing)\n",
    "/1| the member of a pair, /1 or /2 (paired-end or mate-pair reads only)\n",
    "\n",
    "\n",
    "## Sequence\n",
    "\n",
    "第二行是碱基序列.由A,C,T,C.N五个字母组成,这也是我们真正关心的DNA序列,NA代表的是那些无法被识别出来的碱基.\n",
    "\n",
    "## Comment\n",
    "\n",
    "第三行以“+”开头，在旧版的FASTQ文件中,会直接赋值第一行的信息,但是现在一般什么都不加,用以节省存储空间.  \n",
    "\n",
    "## Quality\n",
    "\n",
    "第四行是对应序列的测序质量。是和第二行的sequence一一对应的,所以第四行和第二行的长度必须相等.第四行中每个字符对应的ASCII值减去33，即为第二行对应碱基质量。用来描述每个测序碱基的可靠程度,用ASCII码表示.\n",
    "\n",
    "FASTQ格式中质量值具有重要的作用，在很多的分析中会用到这个质量值，例如数据质控，数据过滤，序列拼接，短序列比对，变异检测中都要用到这个质量值。\n",
    "这个质量值是基于phred质量值体系.\n",
    "\n",
    "但是由于单个碱基无法与两位的质量值相匹配，例如A碱基对应的质量值为40，一个A字符对应两个字符40，因此需要将原始质量值加上33或者64，在转换为对应的ASCII码值，为何加33，因为33以下ASCII码无法用键盘字符表示出来。illumina测序1.8版本以上加33，以下加64。\n",
    "\n",
    "质量评分(quality score,Q-score)是一个碱基的错误概率的对数值。由phred程序的开发者定义,一般可以称之为phred quality,\n",
    "\n",
    "如果测序错误率用e表示，Illumina测序平台的碱基质量值用Qphred表示，则有下列关系：\n",
    "\n",
    "$ASCII - 33 = Qphred　=　-10log10(e)$\n",
    "\n",
    "此公式可说明，quality score越大测序错误率(e)越低，准确性越高.\n",
    "\n",
    "A quality score (or Q-score) expresses an error probability. In particular, it serves as a convenient and compact way to communicate very small error probabilities.\n",
    "\n",
    "Given an assertion, A, the quality score, Q(A), expresses the probability that A is not true, P(~A), according to the relationship:\n",
    "\n",
    " Q(A) =-10 log10(P(~A))\n",
    "\n",
    "where P(~A) is the estimated probability of an assertion A being wrong.\n",
    "\n",
    "https://support.illumina.com/help/BaseSpace_OLH_009008/Content/Source/Informatics/BS/QualityScores_swBS.htm\n",
    "\n",
    "碱基的quality score是怎么来的呢?\n",
    "\n",
    "Phred最初是一个从测序仪中产生的荧光记录数据中识别碱基的程序。在早期的荧光染料测序中，每次发生碱基合成时会释放出荧光信号，该信号被CCD图像传感器捕获。记录下荧光信号的峰值，生成一个实时的轨迹数据（chromatogram）。因为不同的碱基用不用的颜色标记，检测这些峰值即可判断出对应的碱基。但由于这些信号的波峰、密度、形状和位置等是不连续或模糊的，有时很难根据波峰判断出正确的碱基。\n",
    "\n",
    "Phred计算许多与波峰大小和分辨率相关的参数，根据这些参数，从一个巨大的查询表中找出碱基质量得分。这个查询表是根据对已知序列的测序数据分析得到的（应该是分析得到波峰参数与碱基错误率的关系，再通过公式把错误率转换成质量得分，得到波峰参数与质量得分的直接对应表）。不同的测序试剂和机器用不同的查询表。为了节约磁盘空间，质量得分（可能占用两个字符）按一定规则（Phred+33或Phred+64）被转换为单个字符表示。\n",
    "\n",
    "碱基错误率和质量得分的关系由如下两种:\n",
    "\n",
    "$Qphred = -10*log10(p)$\n",
    "\n",
    "\n",
    "$Qillumina-prior to v.1.4 = -10log10(p/(1-p))$\n"
   ]
  },
  {
   "cell_type": "markdown",
   "metadata": {},
   "source": [
    "# 读取FASTQ数据"
   ]
  },
  {
   "cell_type": "markdown",
   "metadata": {},
   "source": [
    "首先定义读取FASTQ数据的函数."
   ]
  },
  {
   "cell_type": "code",
   "execution_count": 1,
   "metadata": {},
   "outputs": [],
   "source": [
    "def seq_list_from_fastq_file(filename):\n",
    "'''\n",
    "this function only get the sequence and quality informaton\n",
    "'''\n",
    "    seq_list = []\n",
    "    quality_list = []\n",
    "    \n",
    "    with open(filename) as FASTQ_INPUT:\n",
    "        line_cnt = 0\n",
    "        for line in FASTQ_INPUT:\n",
    "            line_cnt += 1\n",
    "            if line_cnt == 2:\n",
    "                seq_list.append(line.strip())\n",
    "            if line_cnt % 4 == 0:\n",
    "                quality_list.append(line.strip())\n",
    "                line_cnt = 0\n",
    "\n",
    "    return seq_list, quality_list"
   ]
  },
  {
   "cell_type": "markdown",
   "metadata": {},
   "source": [
    "读取一个实例数据\n",
    "下图是该数据的截图.可以看到comment除了`+`意外,没有任何内容."
   ]
  },
  {
   "cell_type": "markdown",
   "metadata": {},
   "source": [
    "![](fastq.png)"
   ]
  },
  {
   "cell_type": "code",
   "execution_count": 4,
   "metadata": {},
   "outputs": [],
   "source": [
    "# FASTQ from ChIP-seq experiment ENCSR784FYS\n",
    "# file accession ENCFF733YBM\n",
    "fastq_filename = 'ENCFF733YBM-trunc.fastq'\n",
    "sequence, quality = seq_list_from_fastq_file(fastq_filename)"
   ]
  },
  {
   "cell_type": "markdown",
   "metadata": {},
   "source": [
    "将读取到的sequence和quality信息打印出来."
   ]
  },
  {
   "cell_type": "code",
   "execution_count": 6,
   "metadata": {},
   "outputs": [
    {
     "name": "stdout",
     "output_type": "stream",
     "text": [
      "Length of sequence list = 100,\tFirst sequence = 'GGCCGCCGCCCGAGTTCTGCGTACGAGAAGAAAGACGCGG'\n",
      "Length of quality list  = 100,\tFirst quality  = '<B/<BFFFFFFFFFFFFFFFFFFFFFFFFFFFFFFFFFFF'\n"
     ]
    }
   ],
   "source": [
    "# string at index 0 of list\n",
    "print('Length of sequence list = ', len(sequence), ',\\tFirst sequence = \\'', \\\n",
    "      sequence[0], '\\'', sep='')\n",
    "print('Length of quality list  = ', len(quality),  ',\\tFirst quality  = \\'', \\\n",
    "      quality[0], '\\'', sep='')"
   ]
  },
  {
   "cell_type": "markdown",
   "metadata": {},
   "source": [
    "可以看到该文件一共有100条read信息.根据对碱基质量的定义,我们可以把第一个read的每个碱基的quality score打印出来."
   ]
  },
  {
   "cell_type": "code",
   "execution_count": 7,
   "metadata": {},
   "outputs": [
    {
     "name": "stdout",
     "output_type": "stream",
     "text": [
      "G\t<\t27\t-2.7\t0.001995262314968879\n",
      "G\tB\t33\t-3.3000000000000003\t0.000501187233627272\n",
      "C\t/\t14\t-1.4000000000000001\t0.03981071705534971\n",
      "C\t<\t27\t-2.7\t0.001995262314968879\n",
      "G\tB\t33\t-3.3000000000000003\t0.000501187233627272\n",
      "C\tF\t37\t-3.7\t0.00019952623149688788\n",
      "C\tF\t37\t-3.7\t0.00019952623149688788\n",
      "G\tF\t37\t-3.7\t0.00019952623149688788\n",
      "C\tF\t37\t-3.7\t0.00019952623149688788\n",
      "C\tF\t37\t-3.7\t0.00019952623149688788\n",
      "C\tF\t37\t-3.7\t0.00019952623149688788\n",
      "G\tF\t37\t-3.7\t0.00019952623149688788\n",
      "A\tF\t37\t-3.7\t0.00019952623149688788\n",
      "G\tF\t37\t-3.7\t0.00019952623149688788\n",
      "T\tF\t37\t-3.7\t0.00019952623149688788\n",
      "T\tF\t37\t-3.7\t0.00019952623149688788\n",
      "C\tF\t37\t-3.7\t0.00019952623149688788\n",
      "T\tF\t37\t-3.7\t0.00019952623149688788\n",
      "G\tF\t37\t-3.7\t0.00019952623149688788\n",
      "C\tF\t37\t-3.7\t0.00019952623149688788\n",
      "G\tF\t37\t-3.7\t0.00019952623149688788\n",
      "T\tF\t37\t-3.7\t0.00019952623149688788\n",
      "A\tF\t37\t-3.7\t0.00019952623149688788\n",
      "C\tF\t37\t-3.7\t0.00019952623149688788\n",
      "G\tF\t37\t-3.7\t0.00019952623149688788\n",
      "A\tF\t37\t-3.7\t0.00019952623149688788\n",
      "G\tF\t37\t-3.7\t0.00019952623149688788\n",
      "A\tF\t37\t-3.7\t0.00019952623149688788\n",
      "A\tF\t37\t-3.7\t0.00019952623149688788\n",
      "G\tF\t37\t-3.7\t0.00019952623149688788\n",
      "A\tF\t37\t-3.7\t0.00019952623149688788\n",
      "A\tF\t37\t-3.7\t0.00019952623149688788\n",
      "A\tF\t37\t-3.7\t0.00019952623149688788\n",
      "G\tF\t37\t-3.7\t0.00019952623149688788\n",
      "A\tF\t37\t-3.7\t0.00019952623149688788\n",
      "C\tF\t37\t-3.7\t0.00019952623149688788\n",
      "G\tF\t37\t-3.7\t0.00019952623149688788\n",
      "C\tF\t37\t-3.7\t0.00019952623149688788\n",
      "G\tF\t37\t-3.7\t0.00019952623149688788\n",
      "G\tF\t37\t-3.7\t0.00019952623149688788\n"
     ]
    }
   ],
   "source": [
    "# take apart quality value encoding\n",
    "for x in range(len(sequence[0])):\n",
    "    print('{}\\t{}\\t{}\\t{}\\t{}'.format(sequence[0][x], \n",
    "                                              quality[0][x],\n",
    "                                              ord(quality[0][x]) - 33,\n",
    "                                              (ord(quality[0][x]) - 33) * -0.1,\n",
    "                                              pow(10, (ord(quality[0][x]) - 33) * -0.1 )))"
   ]
  },
  {
   "cell_type": "markdown",
   "metadata": {},
   "source": [
    "再看一下quality score的计算办法.\n",
    "\n",
    "每个碱基的quality score都是使用一个ASCII字符来表示的.\n",
    "比如第一个read的质量:"
   ]
  },
  {
   "cell_type": "code",
   "execution_count": 11,
   "metadata": {},
   "outputs": [
    {
     "data": {
      "text/plain": [
       "'<'"
      ]
     },
     "execution_count": 11,
     "metadata": {},
     "output_type": "execute_result"
    }
   ],
   "source": [
    "quality[0]\n",
    "quality[0][0]"
   ]
  },
  {
   "cell_type": "code",
   "execution_count": 12,
   "metadata": {},
   "outputs": [
    {
     "data": {
      "text/plain": [
       "60"
      ]
     },
     "execution_count": 12,
     "metadata": {},
     "output_type": "execute_result"
    }
   ],
   "source": [
    "ord(quality[0][0])"
   ]
  },
  {
   "cell_type": "markdown",
   "metadata": {},
   "source": [
    "第一个碱基的quality score的字符是`<`,ord函数是用来返回一个字符的unicode code.所以对于某个碱基,他的quality score就是`ord(quality) - 33`."
   ]
  },
  {
   "cell_type": "code",
   "execution_count": 13,
   "metadata": {},
   "outputs": [
    {
     "name": "stdout",
     "output_type": "stream",
     "text": [
      "Help on built-in function ord in module builtins:\n",
      "\n",
      "ord(c, /)\n",
      "    Return the Unicode code point for a one-character string.\n",
      "\n"
     ]
    }
   ],
   "source": [
    "help(ord)"
   ]
  },
  {
   "cell_type": "code",
   "execution_count": 17,
   "metadata": {},
   "outputs": [
    {
     "name": "stdout",
     "output_type": "stream",
     "text": [
      "G\n",
      "<\n",
      "60\n",
      "27\n"
     ]
    }
   ],
   "source": [
    "print(sequence[0][0])#碱基\n",
    "print(quality[0][0])#碱基质量字符\n",
    "print(ord(quality[0][0]) - 33)#碱基quality score"
   ]
  },
  {
   "cell_type": "markdown",
   "metadata": {},
   "source": [
    "下面我们用quality score这个碱基错误的概率值."
   ]
  },
  {
   "cell_type": "code",
   "execution_count": 29,
   "metadata": {},
   "outputs": [
    {
     "name": "stdout",
     "output_type": "stream",
     "text": [
      "27\n",
      "-2.7\n"
     ]
    },
    {
     "data": {
      "text/plain": [
       "0.001995262314968879"
      ]
     },
     "execution_count": 29,
     "metadata": {},
     "output_type": "execute_result"
    }
   ],
   "source": [
    "qs = ord(quality[0][0]) - 33\n",
    "print(qs)\n",
    "print(qs * -0.1)\n",
    "pow(10, (qs * -0.1 ))"
   ]
  },
  {
   "cell_type": "code",
   "execution_count": 27,
   "metadata": {},
   "outputs": [
    {
     "name": "stdout",
     "output_type": "stream",
     "text": [
      "Help on built-in function pow in module builtins:\n",
      "\n",
      "pow(x, y, z=None, /)\n",
      "    Equivalent to x**y (with two arguments) or x**y % z (with three arguments)\n",
      "    \n",
      "    Some types, such as ints, are able to use a more efficient algorithm when\n",
      "    invoked using the three argument form.\n",
      "\n"
     ]
    }
   ],
   "source": [
    "help(pow)"
   ]
  },
  {
   "cell_type": "markdown",
   "metadata": {},
   "source": [
    "可以看到该碱基错误的概率为0.001995.也就是说,错误概率越小,quality score越大."
   ]
  },
  {
   "cell_type": "code",
   "execution_count": 31,
   "metadata": {},
   "outputs": [
    {
     "name": "stdout",
     "output_type": "stream",
     "text": [
      "{'/', 'B', '<', 'F'}\n",
      "char\tASCII\tqual\texponent\tprob\n",
      "/\t47\t14\t-1.400000\t3.981072e-02\n",
      "B\t66\t33\t-3.300000\t5.011872e-04\n",
      "<\t60\t27\t-2.700000\t1.995262e-03\n",
      "F\t70\t37\t-3.700000\t1.995262e-04\n"
     ]
    }
   ],
   "source": [
    "# a little easier to view with just the unique characters\n",
    "quality_set = set(list(quality[0]))\n",
    "print(quality_set)\n",
    "# add float and scientific notation to output of probability\n",
    "print('char\\tASCII\\tqual\\texponent\\tprob')\n",
    "for x in quality_set:\n",
    "    print('{}\\t{}\\t{}\\t{:f}\\t{:e}'.format(x,\n",
    "                                        ord(x),\n",
    "                                        ord(x) - 33,\n",
    "                                        (ord(x) - 33) * -0.1,\n",
    "                                        pow(10, (ord(x) - 33) * -0.1 )))"
   ]
  },
  {
   "cell_type": "markdown",
   "metadata": {},
   "source": [
    "上面这段代码展示了几种在第一个read中,几种quality的字符所代表的ASCII code,以及错误率."
   ]
  },
  {
   "cell_type": "markdown",
   "metadata": {},
   "source": [
    "完整的ASCII tabe可以看这里.\n",
    "https://www.cs.cmu.edu/~pattis/15-1XX/common/handouts/ascii.html"
   ]
  },
  {
   "cell_type": "markdown",
   "metadata": {},
   "source": [
    "我们在计算一个,如果知道错误率,那么得到的字符应该是什么."
   ]
  },
  {
   "cell_type": "code",
   "execution_count": 33,
   "metadata": {},
   "outputs": [
    {
     "name": "stdout",
     "output_type": "stream",
     "text": [
      "math.log():\t\t 37.000000685570285\n",
      "int(math.log()):\t 37\n",
      "chr(int(math.log())):\t'%'\n"
     ]
    }
   ],
   "source": [
    "# more exploring\n",
    "import math as math\n",
    "quality_prob = 1.995262e-04\n",
    "print('math.log():\\t\\t',                   math.log(quality_prob, 10) * -10)\n",
    "print('int(math.log()):\\t',            int(math.log(quality_prob, 10) * -10))\n",
    "print('chr(int(math.log())):\\t\\'', chr(int(math.log(quality_prob, 10) * -10)), '\\'', sep='')"
   ]
  },
  {
   "cell_type": "code",
   "execution_count": 34,
   "metadata": {},
   "outputs": [
    {
     "name": "stdout",
     "output_type": "stream",
     "text": [
      "chr(int(math.log()) + 33):\t'F'\n"
     ]
    }
   ],
   "source": [
    "print('chr(int(math.log()) + 33):\\t\\'', chr(int(math.log(quality_prob, 10) * -10) + 33), '\\'', sep='')"
   ]
  },
  {
   "cell_type": "markdown",
   "metadata": {},
   "source": [
    "# 另一种读取FASTQ数据的方法"
   ]
  },
  {
   "cell_type": "code",
   "execution_count": 35,
   "metadata": {},
   "outputs": [],
   "source": [
    "ks = ['name', 'sequence', 'optional', 'quality']\n",
    "\n",
    "def process_lines(lines):\n",
    "    '''\n",
    "    process a group of 4 lines from fastq file\n",
    "    dividing them into dictionary, with a key for each category\n",
    "    '''\n",
    "    record = {}\n",
    "\n",
    "    for x in range(len(lines)):\n",
    "        record[ks[x]] = lines[x]\n",
    "\n",
    "    return record"
   ]
  },
  {
   "cell_type": "markdown",
   "metadata": {},
   "source": [
    "首先定义一个读取每个read的函数."
   ]
  },
  {
   "cell_type": "code",
   "execution_count": 37,
   "metadata": {},
   "outputs": [
    {
     "name": "stdout",
     "output_type": "stream",
     "text": [
      "{'name': '@D00611:288:C9C4PANXX:2:2202:1501:2192 1:N:0:0', 'sequence': 'GGCCGCCGCCCGAGTTCTGCGTACGAGAAGAAAGACGCGG', 'optional': '+', 'quality': '<B/<BFFFFFFFFFFFFFFFFFFFFFFFFFFFFFFFFFFF'}\n",
      "{'name': '@D00611:288:C9C4PANXX:2:2202:1586:2227 1:N:0:0', 'sequence': 'GCACGCCGACAGCGAGGGAAGGGAGGAGGAGGGAGACGCG', 'optional': '+', 'quality': '<</<<B/FFFFFFFBFFFBFFFFFFFBFF/FFBFFFFFFF'}\n",
      "{'name': '@D00611:288:C9C4PANXX:2:2202:1699:2242 1:N:0:0', 'sequence': 'CCTTTTTTAGCAATGACCCAAATACTTGTTCAGAAATTAG', 'optional': '+', 'quality': '<B/<BFFFFFFFFFFFFFFFFFFFFFFFFFFFFFFFFFFF'}\n",
      "{'name': '@D00611:288:C9C4PANXX:2:2202:1848:2207 1:N:0:0', 'sequence': 'TGGTATTTATAGAGTAAGGAGTTGCCTCTTCTAAGAAGGG', 'optional': '+', 'quality': '<B/<BFFFFFFFFFFFFFFFFFFFFFFFFFFFFFFFFFFF'}\n",
      "{'name': '@D00611:288:C9C4PANXX:2:2202:1917:2221 1:N:0:0', 'sequence': 'GATCGGAAGAGCACACGTCTCGTATGCCGTCTTCTGCTTG', 'optional': '+', 'quality': '<<<<<<<F<FB<FFFFFFFF/BFFFFFFFFFFFFFBFFF<'}\n",
      "{'name': '@D00611:288:C9C4PANXX:2:2202:1953:2230 1:N:0:0', 'sequence': 'CTTTCTCCTGTCTCAGGTGACCAAGAATATGGCCCAGGTG', 'optional': '+', 'quality': '<</<<FBFFFFFFBFFFFFFFFFFFFFFFFFF<FFFFFFF'}\n"
     ]
    }
   ],
   "source": [
    "fastq_dictionary = {}\n",
    "\n",
    "with open(fastq_filename) as FASTQ_INPUT:\n",
    "    line_cnt = 0\n",
    "    lines = []\n",
    "    output_lines = 0\n",
    "    for line in FASTQ_INPUT:\n",
    "        line_cnt += 1\n",
    "        lines.append(line.rstrip())\n",
    "        if line_cnt % 4 == 0:\n",
    "            record_dict = process_lines(lines)\n",
    "            line_cnt = 0\n",
    "            lines = []\n",
    "            output_lines += 1\n",
    "            if output_lines < 7:\n",
    "                print(record_dict)\n",
    "            fastq_dictionary[record_dict['name']] = record_dict"
   ]
  },
  {
   "cell_type": "code",
   "execution_count": 46,
   "metadata": {},
   "outputs": [
    {
     "name": "stdout",
     "output_type": "stream",
     "text": [
      "100\n",
      "dict_keys(['@D00611:288:C9C4PANXX:2:2202:1501:2192 1:N:0:0', '@D00611:288:C9C4PANXX:2:2202:1586:2227 1:N:0:0', '@D00611:288:C9C4PANXX:2:2202:1699:2242 1:N:0:0', '@D00611:288:C9C4PANXX:2:2202:1848:2207 1:N:0:0', '@D00611:288:C9C4PANXX:2:2202:1917:2221 1:N:0:0', '@D00611:288:C9C4PANXX:2:2202:1953:2230 1:N:0:0', '@D00611:288:C9C4PANXX:2:2202:1787:2250 1:N:0:0', '@D00611:288:C9C4PANXX:2:2202:2095:2230 1:N:0:0', '@D00611:288:C9C4PANXX:2:2202:2296:2185 1:Y:0:0', '@D00611:288:C9C4PANXX:2:2202:2372:2192 1:N:0:0', '@D00611:288:C9C4PANXX:2:2202:3089:2192 1:N:0:0', '@D00611:288:C9C4PANXX:2:2202:3235:2205 1:N:0:0', '@D00611:288:C9C4PANXX:2:2202:3006:2209 1:N:0:0', '@D00611:288:C9C4PANXX:2:2202:3276:2220 1:N:0:0', '@D00611:288:C9C4PANXX:2:2202:3530:2181 1:Y:0:0', '@D00611:288:C9C4PANXX:2:2202:3628:2193 1:N:0:0', '@D00611:288:C9C4PANXX:2:2202:3614:2206 1:N:0:0', '@D00611:288:C9C4PANXX:2:2202:4033:2192 1:N:0:0', '@D00611:288:C9C4PANXX:2:2202:4186:2218 1:N:0:0', '@D00611:288:C9C4PANXX:2:2202:4130:2219 1:N:0:0', '@D00611:288:C9C4PANXX:2:2202:4201:2236 1:N:0:0', '@D00611:288:C9C4PANXX:2:2202:4065:2240 1:N:0:0', '@D00611:288:C9C4PANXX:2:2202:4081:2245 1:N:0:0', '@D00611:288:C9C4PANXX:2:2202:4331:2209 1:N:0:0', '@D00611:288:C9C4PANXX:2:2202:4628:2230 1:N:0:0', '@D00611:288:C9C4PANXX:2:2202:4570:2244 1:N:0:0', '@D00611:288:C9C4PANXX:2:2202:4768:2186 1:Y:0:0', '@D00611:288:C9C4PANXX:2:2202:5165:2217 1:N:0:0', '@D00611:288:C9C4PANXX:2:2202:5406:2197 1:N:0:0', '@D00611:288:C9C4PANXX:2:2202:5733:2194 1:N:0:0', '@D00611:288:C9C4PANXX:2:2202:5618:2239 1:N:0:0', '@D00611:288:C9C4PANXX:2:2202:5995:2220 1:N:0:0', '@D00611:288:C9C4PANXX:2:2202:6095:2222 1:N:0:0', '@D00611:288:C9C4PANXX:2:2202:6170:2241 1:N:0:0', '@D00611:288:C9C4PANXX:2:2202:6261:2196 1:N:0:0', '@D00611:288:C9C4PANXX:2:2202:6395:2231 1:N:0:0', '@D00611:288:C9C4PANXX:2:2202:6642:2202 1:N:0:0', '@D00611:288:C9C4PANXX:2:2202:6547:2249 1:N:0:0', '@D00611:288:C9C4PANXX:2:2202:6870:2238 1:N:0:0', '@D00611:288:C9C4PANXX:2:2202:7035:2220 1:N:0:0', '@D00611:288:C9C4PANXX:2:2202:7395:2192 1:N:0:0', '@D00611:288:C9C4PANXX:2:2202:7336:2215 1:N:0:0', '@D00611:288:C9C4PANXX:2:2202:7473:2235 1:N:0:0', '@D00611:288:C9C4PANXX:2:2202:8050:2179 1:Y:0:0', '@D00611:288:C9C4PANXX:2:2202:8239:2188 1:N:0:0', '@D00611:288:C9C4PANXX:2:2202:8005:2191 1:N:0:0', '@D00611:288:C9C4PANXX:2:2202:8139:2200 1:N:0:0', '@D00611:288:C9C4PANXX:2:2202:8096:2216 1:N:0:0', '@D00611:288:C9C4PANXX:2:2202:8459:2200 1:N:0:0', '@D00611:288:C9C4PANXX:2:2202:8364:2206 1:Y:0:0', '@D00611:288:C9C4PANXX:2:2202:8265:2216 1:N:0:0', '@D00611:288:C9C4PANXX:2:2202:8519:2237 1:N:0:0', '@D00611:288:C9C4PANXX:2:2202:8635:2239 1:N:0:0', '@D00611:288:C9C4PANXX:2:2202:9166:2216 1:N:0:0', '@D00611:288:C9C4PANXX:2:2202:9103:2220 1:N:0:0', '@D00611:288:C9C4PANXX:2:2202:9364:2224 1:N:0:0', '@D00611:288:C9C4PANXX:2:2202:9707:2181 1:Y:0:0', '@D00611:288:C9C4PANXX:2:2202:9748:2215 1:N:0:0', '@D00611:288:C9C4PANXX:2:2202:9558:2248 1:N:0:0', '@D00611:288:C9C4PANXX:2:2202:10105:2194 1:Y:0:0', '@D00611:288:C9C4PANXX:2:2202:10298:2193 1:N:0:0', '@D00611:288:C9C4PANXX:2:2202:10376:2209 1:N:0:0', '@D00611:288:C9C4PANXX:2:2202:10728:2245 1:N:0:0', '@D00611:288:C9C4PANXX:2:2202:10624:2249 1:N:0:0', '@D00611:288:C9C4PANXX:2:2202:10894:2186 1:N:0:0', '@D00611:288:C9C4PANXX:2:2202:10857:2226 1:N:0:0', '@D00611:288:C9C4PANXX:2:2202:10756:2250 1:N:0:0', '@D00611:288:C9C4PANXX:2:2202:11123:2222 1:Y:0:0', '@D00611:288:C9C4PANXX:2:2202:11406:2198 1:N:0:0', '@D00611:288:C9C4PANXX:2:2202:11675:2186 1:N:0:0', '@D00611:288:C9C4PANXX:2:2202:11873:2196 1:N:0:0', '@D00611:288:C9C4PANXX:2:2202:11829:2239 1:N:0:0', '@D00611:288:C9C4PANXX:2:2202:12090:2181 1:N:0:0', '@D00611:288:C9C4PANXX:2:2202:12190:2185 1:N:0:0', '@D00611:288:C9C4PANXX:2:2202:12449:2216 1:N:0:0', '@D00611:288:C9C4PANXX:2:2202:12301:2219 1:N:0:0', '@D00611:288:C9C4PANXX:2:2202:12319:2234 1:Y:0:0', '@D00611:288:C9C4PANXX:2:2202:12354:2246 1:N:0:0', '@D00611:288:C9C4PANXX:2:2202:12965:2208 1:N:0:0', '@D00611:288:C9C4PANXX:2:2202:12947:2215 1:N:0:0', '@D00611:288:C9C4PANXX:2:2202:12928:2221 1:N:0:0', '@D00611:288:C9C4PANXX:2:2202:13024:2177 1:Y:0:0', '@D00611:288:C9C4PANXX:2:2202:13052:2183 1:N:0:0', '@D00611:288:C9C4PANXX:2:2202:13113:2202 1:N:0:0', '@D00611:288:C9C4PANXX:2:2202:13163:2212 1:N:0:0', '@D00611:288:C9C4PANXX:2:2202:13415:2203 1:N:0:0', '@D00611:288:C9C4PANXX:2:2202:13560:2193 1:N:0:0', '@D00611:288:C9C4PANXX:2:2202:13577:2214 1:N:0:0', '@D00611:288:C9C4PANXX:2:2202:13701:2226 1:N:0:0', '@D00611:288:C9C4PANXX:2:2202:13561:2228 1:N:0:0', '@D00611:288:C9C4PANXX:2:2202:13571:2246 1:N:0:0', '@D00611:288:C9C4PANXX:2:2202:13942:2178 1:Y:0:0', '@D00611:288:C9C4PANXX:2:2202:13948:2195 1:Y:0:0', '@D00611:288:C9C4PANXX:2:2202:13885:2220 1:N:0:0', '@D00611:288:C9C4PANXX:2:2202:13796:2224 1:N:0:0', '@D00611:288:C9C4PANXX:2:2202:13837:2236 1:N:0:0', '@D00611:288:C9C4PANXX:2:2202:14097:2186 1:N:0:0', '@D00611:288:C9C4PANXX:2:2202:14026:2199 1:N:0:0', '@D00611:288:C9C4PANXX:2:2202:14242:2220 1:N:0:0', '@D00611:288:C9C4PANXX:2:2202:14052:2226 1:N:0:0'])\n"
     ]
    },
    {
     "data": {
      "text/plain": [
       "{'name': '@D00611:288:C9C4PANXX:2:2202:1501:2192 1:N:0:0',\n",
       " 'sequence': 'GGCCGCCGCCCGAGTTCTGCGTACGAGAAGAAAGACGCGG',\n",
       " 'optional': '+',\n",
       " 'quality': '<B/<BFFFFFFFFFFFFFFFFFFFFFFFFFFFFFFFFFFF'}"
      ]
     },
     "execution_count": 46,
     "metadata": {},
     "output_type": "execute_result"
    }
   ],
   "source": [
    "print(len(fastq_dictionary))\n",
    "print(fastq_dictionary.keys())\n",
    "fastq_dictionary[list(fastq_dictionary.keys())[0]]"
   ]
  },
  {
   "cell_type": "markdown",
   "metadata": {},
   "source": [
    "这段代码,将FASTQ文件读成一个dict中,每个read又是其中一个dict.然后有四个key."
   ]
  },
  {
   "cell_type": "markdown",
   "metadata": {},
   "source": [
    "# BED file format数据"
   ]
  },
  {
   "cell_type": "markdown",
   "metadata": {},
   "source": [
    " This format is used to provide called peaks of signal enrichment based on pooled, normalized (interpreted) data. It is a BED6+4 format.\n",
    "\n",
    " 1. chrom - Name of the chromosome (or contig, scaffold, etc.).\n",
    " 2. chromStart - The starting position of the feature in the\n",
    "    chromosome or scaffold. The first base in a chromosome is numbered 0.\n",
    " 3. chromEnd - The ending position of the feature in the chromosome\n",
    "    or scaffold. The chromEnd base is not included in the display of the\n",
    "    feature. For example, the first 100 bases of a chromosome are\n",
    "    defined as chromStart=0, chromEnd=100, and span the bases numbered\n",
    "    0-99.\n",
    " 4. name - Name given to a region (preferably unique). Use \".\" if no\n",
    "    name is assigned.\n",
    " 5. score - Indicates how dark the peak will be displayed in the\n",
    "    browser (0-1000). If all scores were \"'0\"' when the data were\n",
    "    submitted to the DCC, the DCC assigned scores 1-1000 based on signal\n",
    "    value. Ideally the average signalValue per base spread is between\n",
    "    100-1000.\n",
    " 6. strand - +/- to denote strand or orientation (whenever\n",
    "    applicable). Use \".\" if no orientation is assigned.\n",
    " 7. signalValue - Measurement of overall (usually, average)\n",
    "    enrichment for the region.\n",
    " 8. pValue - Measurement of statistical significance (-log10). Use -1\n",
    "    if no pValue is assigned.\n",
    " 9. qValue - Measurement of statistical significance using false\n",
    "    discovery rate (-log10). Use -1 if no qValue is assigned.\n",
    " 10. peak - Point-source called for this peak; 0-based offset from\n",
    "    chromStart. Use -1 if no point-source called."
   ]
  },
  {
   "cell_type": "markdown",
   "metadata": {},
   "source": [
    "## column headings\n",
    "\n",
    "每个列代表的含义如下:\n",
    "\n",
    "Column | Meaning\n",
    "-------|-------\n",
    "0|CHROM\n",
    "1|CHROMSTART\n",
    "2|CHROMEND\n",
    "3|NAME\n",
    "4|SCORE\n",
    "5|STRAND\n",
    "6|SIGNALVALUE\n",
    "7|PVALUE\n",
    "8|QVALUE\n",
    "9|PEAK"
   ]
  },
  {
   "cell_type": "markdown",
   "metadata": {},
   "source": [
    "下面我们打开一个BED文件."
   ]
  },
  {
   "cell_type": "code",
   "execution_count": 58,
   "metadata": {},
   "outputs": [],
   "source": [
    "# module for handling gzip formatted files.\n",
    "import gzip\n",
    "RBFOX2_HepG2_filename = 'ENCFF014SMJ_RBFOX2_HepG2_ChIP-seq-chr21.bed.gz'"
   ]
  },
  {
   "cell_type": "code",
   "execution_count": 61,
   "metadata": {},
   "outputs": [
    {
     "name": "stdout",
     "output_type": "stream",
     "text": [
      "0.0\n",
      "1000000.0\n"
     ]
    }
   ],
   "source": [
    "# What is the minimum and maximum signal values for this file\n",
    "max_value = 0.0\n",
    "min_value = 1.0e6\n",
    "print(max_value)\n",
    "print(min_value)"
   ]
  },
  {
   "cell_type": "code",
   "execution_count": 85,
   "metadata": {},
   "outputs": [],
   "source": [
    "file = gzip.open(RBFOX2_HepG2_filename, 'rt')"
   ]
  },
  {
   "cell_type": "code",
   "execution_count": 86,
   "metadata": {},
   "outputs": [
    {
     "name": "stdout",
     "output_type": "stream",
     "text": [
      "<_io.TextIOWrapper name='ENCFF014SMJ_RBFOX2_HepG2_ChIP-seq-chr21.bed.gz' encoding='cp936'>\n",
      "<class '_io.TextIOWrapper'>\n"
     ]
    }
   ],
   "source": [
    "print(file)\n",
    "print(type(file))"
   ]
  },
  {
   "cell_type": "code",
   "execution_count": 92,
   "metadata": {},
   "outputs": [
    {
     "ename": "TypeError",
     "evalue": "object of type '_io.TextIOWrapper' has no len()",
     "output_type": "error",
     "traceback": [
      "\u001b[1;31m---------------------------------------------------------------------------\u001b[0m",
      "\u001b[1;31mTypeError\u001b[0m                                 Traceback (most recent call last)",
      "\u001b[1;32m<ipython-input-92-8900d0cb8c79>\u001b[0m in \u001b[0;36m<module>\u001b[1;34m\u001b[0m\n\u001b[0;32m      3\u001b[0m \u001b[1;31m#     print(ols)\u001b[0m\u001b[1;33m\u001b[0m\u001b[1;33m\u001b[0m\u001b[1;33m\u001b[0m\u001b[0m\n\u001b[0;32m      4\u001b[0m \u001b[1;33m\u001b[0m\u001b[0m\n\u001b[1;32m----> 5\u001b[1;33m \u001b[1;32mfor\u001b[0m \u001b[0midx\u001b[0m \u001b[1;32min\u001b[0m \u001b[0mrange\u001b[0m\u001b[1;33m(\u001b[0m\u001b[1;36m0\u001b[0m\u001b[1;33m,\u001b[0m \u001b[0mlen\u001b[0m\u001b[1;33m(\u001b[0m\u001b[0mfile\u001b[0m\u001b[1;33m)\u001b[0m\u001b[1;33m,\u001b[0m \u001b[1;36m5\u001b[0m\u001b[1;33m)\u001b[0m\u001b[1;33m:\u001b[0m\u001b[1;33m\u001b[0m\u001b[1;33m\u001b[0m\u001b[0m\n\u001b[0m\u001b[0;32m      6\u001b[0m     \u001b[0mline\u001b[0m \u001b[1;33m=\u001b[0m \u001b[0mfile\u001b[0m\u001b[1;33m[\u001b[0m\u001b[0midx\u001b[0m\u001b[1;33m]\u001b[0m\u001b[1;33m\u001b[0m\u001b[1;33m\u001b[0m\u001b[0m\n\u001b[0;32m      7\u001b[0m     \u001b[0mols\u001b[0m \u001b[1;33m=\u001b[0m \u001b[0mline\u001b[0m\u001b[1;33m.\u001b[0m\u001b[0mrstrip\u001b[0m\u001b[1;33m(\u001b[0m\u001b[1;34m'\\n'\u001b[0m\u001b[1;33m)\u001b[0m\u001b[1;33m.\u001b[0m\u001b[0msplit\u001b[0m\u001b[1;33m(\u001b[0m\u001b[1;34m'\\t'\u001b[0m\u001b[1;33m)\u001b[0m\u001b[1;33m\u001b[0m\u001b[1;33m\u001b[0m\u001b[0m\n",
      "\u001b[1;31mTypeError\u001b[0m: object of type '_io.TextIOWrapper' has no len()"
     ]
    }
   ],
   "source": [
    "# for line in file:\n",
    "#     ols = line.rstrip('\\n').split('\\t')\n",
    "#     print(ols)\n",
    "    \n",
    "for idx in range(0, len(file), 5):\n",
    "    line = file[idx]\n",
    "    ols = line.rstrip('\\n').split('\\t')\n",
    "    print(ols)\n",
    "    "
   ]
  },
  {
   "cell_type": "code",
   "execution_count": 89,
   "metadata": {},
   "outputs": [
    {
     "name": "stdout",
     "output_type": "stream",
     "text": [
      "min = 2.00053908793031 max = 231.272535106579\n"
     ]
    }
   ],
   "source": [
    "# with gzip.open(RBFOX2_HepG2_filename, 'rt') as BED_FILE:\n",
    "#     for line in BED_FILE:\n",
    "#         cols = line.rstrip('\\n').split('\\t')\n",
    "#         if float(cols[SIGNALVALUE]) > max_value:\n",
    "#             max_value = float(cols[SIGNALVALUE])\n",
    "#         if float(cols[SIGNALVALUE]) < min_value:\n",
    "#             min_value = float(cols[SIGNALVALUE])\n",
    "\n",
    "# print('min =', min_value, 'max =', max_value)\n",
    "\n",
    "with gzip.open(RBFOX2_HepG2_filename, 'rt') as BED_FILE:\n",
    "    for line in BED_FILE:\n",
    "        cols = line.rstrip('\\n').split('\\t')\n",
    "        if float(cols[6]) > max_value:\n",
    "            max_value = float(cols[6])\n",
    "        if float(cols[6]) < min_value:\n",
    "            min_value = float(cols[6])\n",
    "\n",
    "print('min =', min_value, 'max =', max_value)"
   ]
  },
  {
   "cell_type": "code",
   "execution_count": 54,
   "metadata": {},
   "outputs": [
    {
     "data": {
      "text/plain": [
       "'D:\\\\my github\\\\shen\\\\content\\\\en\\\\post\\\\2019-12-02-python-for-genomics-class_day05'"
      ]
     },
     "execution_count": 54,
     "metadata": {},
     "output_type": "execute_result"
    }
   ],
   "source": [
    "os.getcwd()"
   ]
  },
  {
   "cell_type": "code",
   "execution_count": 55,
   "metadata": {},
   "outputs": [
    {
     "data": {
      "text/plain": [
       "['.ipynb_checkpoints',\n",
       " 'ENCFF014SMJ_RBFOX2_HepG2_ChIP-seq-chr21.bed.gz',\n",
       " 'ENCFF733YBM-trunc.fastq',\n",
       " 'fastq.png',\n",
       " 'featured.png',\n",
       " 'index.ipynb']"
      ]
     },
     "execution_count": 55,
     "metadata": {},
     "output_type": "execute_result"
    }
   ],
   "source": [
    "os.listdir()"
   ]
  },
  {
   "cell_type": "code",
   "execution_count": null,
   "metadata": {},
   "outputs": [],
   "source": []
  }
 ],
 "metadata": {
  "kernelspec": {
   "display_name": "Python 3",
   "language": "python",
   "name": "python3"
  },
  "language_info": {
   "codemirror_mode": {
    "name": "ipython",
    "version": 3
   },
   "file_extension": ".py",
   "mimetype": "text/x-python",
   "name": "python",
   "nbconvert_exporter": "python",
   "pygments_lexer": "ipython3",
   "version": "3.7.4"
  }
 },
 "nbformat": 4,
 "nbformat_minor": 2
}
