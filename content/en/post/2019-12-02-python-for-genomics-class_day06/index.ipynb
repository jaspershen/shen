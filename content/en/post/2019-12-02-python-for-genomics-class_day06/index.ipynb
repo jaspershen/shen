{
 "cells": [
  {
   "cell_type": "markdown",
   "metadata": {},
   "source": [
    "主要介绍了几个基础的模块,函数,以及如何创建自定义函数."
   ]
  },
  {
   "cell_type": "markdown",
   "metadata": {},
   "source": [
    "# os模块(os module)"
   ]
  },
  {
   "cell_type": "markdown",
   "metadata": {},
   "source": [
    "os模块是用于路径管理,文件夹管理等的模块."
   ]
  },
  {
   "cell_type": "markdown",
   "metadata": {},
   "source": [
    "## os模块的常用命令\n",
    "\n",
    "Function  |  Meaning\n",
    "-----------|----------------------------------\n",
    "`os.mkdir()` | 创建新的文件夹\n",
    "`os.remove()` | 删除一个文件或者文件夹\n",
    "`os.chdir()` | 更改工作路径\n",
    "`os.rmdir()` | 删除一个文件夹,但是要求该文件夹必须为空\n",
    "`os.getcwd()` | 获取当前工作路径\n",
    "`os.listdir()` | 列出当前路径下的所有文件及文件夹"
   ]
  },
  {
   "cell_type": "code",
   "execution_count": 2,
   "metadata": {},
   "outputs": [
    {
     "name": "stdout",
     "output_type": "stream",
     "text": [
      "D:\\my github\\shen\\content\\en\\post\\2019-12-02-python-for-genomics-class_day06\n"
     ]
    }
   ],
   "source": [
    "import os as os\n",
    "# 获取当前的工作路径\n",
    "result = os.getcwd()\n",
    "print(result)"
   ]
  },
  {
   "cell_type": "code",
   "execution_count": 3,
   "metadata": {},
   "outputs": [
    {
     "name": "stdout",
     "output_type": "stream",
     "text": [
      "['.ipynb_checkpoints', 'index.ipynb', 'Practice06-Veronica.ipynb', 'sample.txt', 'sample.txt.gz']\n"
     ]
    }
   ],
   "source": [
    "#列出当前路径下的所有文件和文件夹\n",
    "result = os.listdir()\n",
    "print(result)"
   ]
  },
  {
   "cell_type": "markdown",
   "metadata": {},
   "source": [
    "得到的结果是一个列表."
   ]
  },
  {
   "cell_type": "code",
   "execution_count": 8,
   "metadata": {},
   "outputs": [
    {
     "name": "stdout",
     "output_type": "stream",
     "text": [
      "This file already exists\n",
      "Directory not created. Directory new_dir_123456 exists.\n"
     ]
    }
   ],
   "source": [
    "#创建新的文件夹\n",
    "dir_name = 'new_dir_123456'\n",
    "try: \n",
    "    os.mkdir(dir_name)\n",
    "except:\n",
    "    print(\"This file already exists\")\n",
    "\n",
    "#这里再次熟悉一下异常捕捉语法\n",
    "# 跟R不一样,R里面如果已有路径,并不会报错,只会给出warning\n",
    "try:\n",
    "    os.mkdir(dir_name)\n",
    "except FileExistsError:\n",
    "    print('Directory not created. Directory', dir_name, 'exists.')\n"
   ]
  },
  {
   "cell_type": "markdown",
   "metadata": {},
   "source": [
    "需要注意的是,如果当前路径中已经存在了要创建的文件夹,则会报错,跟R中不同,R只是会给出warning."
   ]
  },
  {
   "cell_type": "code",
   "execution_count": 9,
   "metadata": {},
   "outputs": [
    {
     "name": "stdout",
     "output_type": "stream",
     "text": [
      "['.ipynb_checkpoints', 'index.ipynb', 'new_dir_123456', 'Practice06-Veronica.ipynb', 'sample.txt', 'sample.txt.gz']\n"
     ]
    }
   ],
   "source": [
    "result = os.listdir()\n",
    "print(result)"
   ]
  },
  {
   "cell_type": "code",
   "execution_count": 10,
   "metadata": {},
   "outputs": [
    {
     "name": "stdout",
     "output_type": "stream",
     "text": [
      "None\n"
     ]
    }
   ],
   "source": [
    "os.chdir('new_dir_123456')"
   ]
  },
  {
   "cell_type": "code",
   "execution_count": 12,
   "metadata": {},
   "outputs": [
    {
     "name": "stdout",
     "output_type": "stream",
     "text": [
      "D:\\my github\\shen\\content\\en\\post\\2019-12-02-python-for-genomics-class_day06\\new_dir_123456\n",
      "No such file or directory\n"
     ]
    }
   ],
   "source": [
    "try:\n",
    "    os.chdir(dir_name)\n",
    "except FileNotFoundError:\n",
    "    print('No such file or directory')"
   ]
  },
  {
   "cell_type": "code",
   "execution_count": 13,
   "metadata": {},
   "outputs": [
    {
     "name": "stdout",
     "output_type": "stream",
     "text": [
      "D:\\my github\\shen\\content\\en\\post\\2019-12-02-python-for-genomics-class_day06\\new_dir_123456\n"
     ]
    }
   ],
   "source": [
    "result = os.getcwd()\n",
    "print(result)"
   ]
  },
  {
   "cell_type": "code",
   "execution_count": 14,
   "metadata": {},
   "outputs": [
    {
     "name": "stdout",
     "output_type": "stream",
     "text": [
      "[]\n"
     ]
    }
   ],
   "source": [
    "result = os.listdir()\n",
    "print(result)"
   ]
  },
  {
   "cell_type": "markdown",
   "metadata": {},
   "source": [
    "将一个示例数据写入到新创建的文件夹中."
   ]
  },
  {
   "cell_type": "code",
   "execution_count": 15,
   "metadata": {},
   "outputs": [
    {
     "name": "stdout",
     "output_type": "stream",
     "text": [
      "Writing test file in new_dir_123456, testing.txt\n"
     ]
    }
   ],
   "source": [
    "print('Writing test file in new_dir_123456, testing.txt')\n",
    "with open('testing.txt', 'w') as TEST:\n",
    "    TEST.write('testing')"
   ]
  },
  {
   "cell_type": "code",
   "execution_count": 16,
   "metadata": {},
   "outputs": [
    {
     "name": "stdout",
     "output_type": "stream",
     "text": [
      "['testing.txt']\n"
     ]
    }
   ],
   "source": [
    "result = os.listdir()\n",
    "print(result)"
   ]
  },
  {
   "cell_type": "markdown",
   "metadata": {},
   "source": [
    "删除掉新创建的实例文件数据,注意,如果没有该文件,会报错."
   ]
  },
  {
   "cell_type": "code",
   "execution_count": 18,
   "metadata": {},
   "outputs": [],
   "source": [
    "try:\n",
    "    os.remove('testing.txt')\n",
    "except FileNotFoundError:\n",
    "    print(\"No this file is found.\")"
   ]
  },
  {
   "cell_type": "code",
   "execution_count": 19,
   "metadata": {},
   "outputs": [
    {
     "name": "stdout",
     "output_type": "stream",
     "text": [
      "None\n"
     ]
    }
   ],
   "source": [
    "os.chdir('..')"
   ]
  },
  {
   "cell_type": "markdown",
   "metadata": {},
   "source": [
    "删除掉新创建的文件夹."
   ]
  },
  {
   "cell_type": "code",
   "execution_count": 20,
   "metadata": {},
   "outputs": [],
   "source": [
    "os.rmdir('new_dir_123456')"
   ]
  },
  {
   "cell_type": "code",
   "execution_count": 21,
   "metadata": {},
   "outputs": [
    {
     "name": "stdout",
     "output_type": "stream",
     "text": [
      "D:\\my github\\shen\\content\\en\\post\\2019-12-02-python-for-genomics-class_day06\n"
     ]
    }
   ],
   "source": [
    "result = os.getcwd()\n",
    "print(result)"
   ]
  },
  {
   "cell_type": "code",
   "execution_count": 22,
   "metadata": {},
   "outputs": [
    {
     "name": "stdout",
     "output_type": "stream",
     "text": [
      "['.ipynb_checkpoints', 'index.ipynb', 'Practice06-Veronica.ipynb', 'sample.txt', 'sample.txt.gz']\n"
     ]
    }
   ],
   "source": [
    "result = os.listdir()\n",
    "print(result)"
   ]
  },
  {
   "cell_type": "markdown",
   "metadata": {},
   "source": [
    "# gzip & urllib模块"
   ]
  },
  {
   "cell_type": "markdown",
   "metadata": {},
   "source": [
    "`gzip`模块是用来处理压缩文件的.`urllib`模块是用来处理网络文件的."
   ]
  },
  {
   "cell_type": "code",
   "execution_count": 23,
   "metadata": {},
   "outputs": [],
   "source": [
    "# Module for URL, interacting with the web\n",
    "import urllib.request\n",
    "# Module for reading and writing the compressed file format, gzip\n",
    "import gzip"
   ]
  },
  {
   "cell_type": "markdown",
   "metadata": {},
   "source": [
    "## GFF/GTF格式文件"
   ]
  },
  {
   "cell_type": "markdown",
   "metadata": {},
   "source": [
    "ensEMBL GFF format: \n",
    "\n",
    "可以参考下面连接.https://uswest.ensembl.org/info/website/upload/gff.html\n",
    "\n",
    "每行一共有9个元素,每个元素名字如下:\n",
    "\n",
    "SEQNAME = 0\n",
    "SOURCE = 1\n",
    "FEATURE = 2\n",
    "START = 3\n",
    "END = 4\n",
    "SCORE = 5\n",
    "STRAND = 6\n",
    "FRAME = 7\n",
    "ATTRIBUTE = 8\n",
    "\n",
    "FTP ensEMBL downloads site: https://uswest.ensembl.org/info/data/ftp/index.html"
   ]
  },
  {
   "cell_type": "markdown",
   "metadata": {},
   "source": [
    "我们将每个元素的index赋值给其代表的字符变量."
   ]
  },
  {
   "cell_type": "code",
   "execution_count": 24,
   "metadata": {},
   "outputs": [],
   "source": [
    "SEQNAME = 0\n",
    "SOURCE = 1\n",
    "FEATURE = 2\n",
    "START = 3\n",
    "END = 4\n",
    "SCORE = 5\n",
    "STRAND = 6\n",
    "FRAME = 7\n",
    "ATTRIBUTE = 8"
   ]
  },
  {
   "cell_type": "markdown",
   "metadata": {},
   "source": [
    "另外以各种格式叫GFF3,相对来说容易解析一些.参考下面连接:\n",
    "\n",
    "ftp://ftp.ensembl.org/pub/release-98/gff3/homo_sapiens\n",
    "\n",
    "举个例子"
   ]
  },
  {
   "cell_type": "code",
   "execution_count": 26,
   "metadata": {},
   "outputs": [],
   "source": [
    "GTF_URL = 'https://web.stanford.edu/class/gene211/handouts/Homo_sapiens.GRCh38.chr21-truncated.gtf.gz'\n",
    "GFF3_URL = 'https://web.stanford.edu/class/gene211/handouts/Homo_sapiens.GRCh38.98.chr21-partial.gff3.gz'"
   ]
  },
  {
   "cell_type": "markdown",
   "metadata": {},
   "source": [
    "首先读取GTF格式的数据"
   ]
  },
  {
   "cell_type": "code",
   "execution_count": 27,
   "metadata": {},
   "outputs": [
    {
     "name": "stdout",
     "output_type": "stream",
     "text": [
      "['21', 'havana', 'gene', '5011799', '5017145', '.', '+', '.', 'gene_id \"ENSG00000279493\"; gene_version \"1\"; gene_name \"FP565260.4\"; gene_source \"havana\"; gene_biotype \"protein_coding\";']\n",
      "9\n"
     ]
    }
   ],
   "source": [
    "#首先使用urllib模块将文件地址进行解析\n",
    "response = urllib.request.urlopen(GTF_URL)\n",
    "line_count = 0\n",
    "##使用gzip模块的open函数打开文件\n",
    "with gzip.open(response, 'rt') as inFile:\n",
    "    for line in inFile:\n",
    "        # skip file comment lines\n",
    "        if line.startswith('#'):\n",
    "            continue\n",
    "        if line_count < 1:\n",
    "            line = line.rstrip('\\n').split('\\t')\n",
    "            print(line)\n",
    "            print(len(line))\n",
    "        line_count += 1"
   ]
  },
  {
   "cell_type": "markdown",
   "metadata": {},
   "source": [
    "只打印了一行,先来看一下这个文件的格式.每行都是一个str.然后是`\\t`分割符进行分割.分割之后变为list,然后每个list有9个元素.\n",
    "\n",
    "下面我们在比较一下GTF和GFF3格式数据的差异."
   ]
  },
  {
   "cell_type": "markdown",
   "metadata": {},
   "source": [
    "读取GFF3格式数据"
   ]
  },
  {
   "cell_type": "code",
   "execution_count": 28,
   "metadata": {},
   "outputs": [
    {
     "name": "stdout",
     "output_type": "stream",
     "text": [
      "['21', 'Ensembl', 'chromosome', '1', '46709983', '.', '.', '.', 'ID=chromosome:21;Alias=CM000683.2,chr21,NC_000021.9']\n",
      "9\n"
     ]
    }
   ],
   "source": [
    "# Just to compare GTF and GFF3. The difference is in the ATTRIBUTE column (index 8)\n",
    "response = urllib.request.urlopen(GFF3_URL)\n",
    "line_count = 0\n",
    "with gzip.open(response, 'rt') as inFile:\n",
    "    for line in inFile:\n",
    "        # skip file comment lines\n",
    "        if line.startswith('#'):\n",
    "            continue\n",
    "        if line_count < 1:\n",
    "            line = line.rstrip('\\n').split('\\t') \n",
    "            print(line)\n",
    "            print(len(line))\n",
    "        line_count += 1"
   ]
  },
  {
   "cell_type": "code",
   "execution_count": null,
   "metadata": {},
   "outputs": [],
   "source": []
  },
  {
   "cell_type": "code",
   "execution_count": 29,
   "metadata": {},
   "outputs": [
    {
     "name": "stdout",
     "output_type": "stream",
     "text": [
      "{'gene_id': 'ENSG00000280071', 'chromsome': 21, 'start': 5079294, 'end': 5128413, 'biotype': 'protein_coding'}\n"
     ]
    }
   ],
   "source": [
    "response = urllib.request.urlopen(GTF_URL)\n",
    "genes = {}\n",
    "attribute_names = ['gene_id', 'gene_name']\n",
    "with gzip.open(response, 'rt') as inFile:\n",
    "    for line in inFile:\n",
    "        # skip file comment lines\n",
    "        if line.startswith('#'):\n",
    "            continue\n",
    "        # split line into columns that are separated by TAB \n",
    "        column = line.rstrip('\\n').split('\\t')\n",
    "        # manipulate column #8, attributes\n",
    "        if column[FEATURE] == 'gene':\n",
    "            # starting ATTRIBUTE string\n",
    "            # gene_id \"ENSG00000279493\"; gene_version \"1\"; gene_name \"FP565260.4\";\n",
    "            # remove semi-colon from right\n",
    "            # gene_id \"ENSG00000279493\"; gene_version \"1\"; gene_name \"FP565260.4\"            \n",
    "            column[ATTRIBUTE] = column[ATTRIBUTE].rstrip(';')\n",
    "            # replace semi-colon space with just semi-colon, and delete double-quotes\n",
    "            # then split on semi-colon\n",
    "            # ['gene_id ENSG00000279493', 'gene_version 1', 'gene_name FP565260.4']\n",
    "            attribute = column[ATTRIBUTE].replace('; ', ';').replace('\"', '').split(';')\n",
    "            for item in attribute:\n",
    "                name, value = item.split(' ')\n",
    "                if name == 'gene_id':\n",
    "                    gene_id = value\n",
    "                if name == 'gene_name':\n",
    "                    gene_name = value\n",
    "                if name == 'gene_biotype':\n",
    "                    gene_biotype = value\n",
    "            genes[gene_name] = {'gene_id': gene_id,\n",
    "                                'chromsome': int(column[SEQNAME]),\n",
    "                                'start': int(column[START]),\n",
    "                                'end': int(column[END]),\n",
    "                                'biotype': gene_biotype\n",
    "                                }\n",
    "            if gene_name == 'GATD3B':\n",
    "                print(genes['GATD3B'])"
   ]
  },
  {
   "cell_type": "code",
   "execution_count": 26,
   "metadata": {},
   "outputs": [
    {
     "data": {
      "text/plain": [
       "{'FP565260.4': {'gene_id': 'ENSG00000279493',\n",
       "  'chromsome': 21,\n",
       "  'start': 5011799,\n",
       "  'end': 5017145,\n",
       "  'biotype': 'protein_coding'},\n",
       " 'FP565260.3': {'gene_id': 'ENSG00000277117',\n",
       "  'chromsome': 21,\n",
       "  'start': 5022493,\n",
       "  'end': 5040666,\n",
       "  'biotype': 'protein_coding'},\n",
       " 'FP565260.5': {'gene_id': 'ENSG00000279687',\n",
       "  'chromsome': 21,\n",
       "  'start': 5073458,\n",
       "  'end': 5087867,\n",
       "  'biotype': 'lncRNA'},\n",
       " 'GATD3B': {'gene_id': 'ENSG00000280071',\n",
       "  'chromsome': 21,\n",
       "  'start': 5079294,\n",
       "  'end': 5128413,\n",
       "  'biotype': 'protein_coding'},\n",
       " 'FP565260.2': {'gene_id': 'ENSG00000276612',\n",
       "  'chromsome': 21,\n",
       "  'start': 5116343,\n",
       "  'end': 5133805,\n",
       "  'biotype': 'protein_coding'},\n",
       " 'FP565260.1': {'gene_id': 'ENSG00000275464',\n",
       "  'chromsome': 21,\n",
       "  'start': 5130871,\n",
       "  'end': 5154658,\n",
       "  'biotype': 'protein_coding'},\n",
       " 'FP565260.6': {'gene_id': 'ENSG00000280433',\n",
       "  'chromsome': 21,\n",
       "  'start': 5155499,\n",
       "  'end': 5165472,\n",
       "  'biotype': 'protein_coding'},\n",
       " 'AC079801.1': {'gene_id': 'ENSG00000279669',\n",
       "  'chromsome': 21,\n",
       "  'start': 5232668,\n",
       "  'end': 5243833,\n",
       "  'biotype': 'lncRNA'},\n",
       " 'LINC01670': {'gene_id': 'ENSG00000279094',\n",
       "  'chromsome': 21,\n",
       "  'start': 5499151,\n",
       "  'end': 5502542,\n",
       "  'biotype': 'lncRNA'},\n",
       " 'CU633967.1': {'gene_id': 'ENSG00000274333',\n",
       "  'chromsome': 21,\n",
       "  'start': 5553637,\n",
       "  'end': 5614880,\n",
       "  'biotype': 'lncRNA'},\n",
       " 'Y_RNA': {'gene_id': 'ENSG00000276902',\n",
       "  'chromsome': 21,\n",
       "  'start': 6365955,\n",
       "  'end': 6366055,\n",
       "  'biotype': 'misc_RNA'},\n",
       " 'FP236315.2': {'gene_id': 'ENSG00000279186',\n",
       "  'chromsome': 21,\n",
       "  'start': 5703182,\n",
       "  'end': 5705637,\n",
       "  'biotype': 'TEC'},\n",
       " 'FP236315.3': {'gene_id': 'ENSG00000279784',\n",
       "  'chromsome': 21,\n",
       "  'start': 5705345,\n",
       "  'end': 5707160,\n",
       "  'biotype': 'lncRNA'},\n",
       " 'FP236315.1': {'gene_id': 'ENSG00000279064',\n",
       "  'chromsome': 21,\n",
       "  'start': 5707004,\n",
       "  'end': 5709456,\n",
       "  'biotype': 'lncRNA'},\n",
       " 'CU639417.1': {'gene_id': 'ENSG00000274559',\n",
       "  'chromsome': 21,\n",
       "  'start': 5972924,\n",
       "  'end': 5973383,\n",
       "  'biotype': 'protein_coding'},\n",
       " 'CU639417.3': {'gene_id': 'ENSG00000280013',\n",
       "  'chromsome': 21,\n",
       "  'start': 6008604,\n",
       "  'end': 6008810,\n",
       "  'biotype': 'processed_pseudogene'},\n",
       " 'CU639417.2': {'gene_id': 'ENSG00000279769',\n",
       "  'chromsome': 21,\n",
       "  'start': 6034690,\n",
       "  'end': 6036093,\n",
       "  'biotype': 'TEC'},\n",
       " 'LINC01669': {'gene_id': 'ENSG00000280191',\n",
       "  'chromsome': 21,\n",
       "  'start': 6060340,\n",
       "  'end': 6076305,\n",
       "  'biotype': 'lncRNA'},\n",
       " 'CU639417.4': {'gene_id': 'ENSG00000280095',\n",
       "  'chromsome': 21,\n",
       "  'start': 6081193,\n",
       "  'end': 6082585,\n",
       "  'biotype': 'lncRNA'},\n",
       " 'CU639417.5': {'gene_id': 'ENSG00000280179',\n",
       "  'chromsome': 21,\n",
       "  'start': 6084364,\n",
       "  'end': 6091407,\n",
       "  'biotype': 'lncRNA'},\n",
       " 'SIK1B': {'gene_id': 'ENSG00000275993',\n",
       "  'chromsome': 21,\n",
       "  'start': 6111131,\n",
       "  'end': 6123778,\n",
       "  'biotype': 'protein_coding'},\n",
       " 'CU633906.5': {'gene_id': 'ENSG00000288187',\n",
       "  'chromsome': 21,\n",
       "  'start': 6215291,\n",
       "  'end': 6217681,\n",
       "  'biotype': 'lncRNA'},\n",
       " 'CU633906.1': {'gene_id': 'ENSG00000275496',\n",
       "  'chromsome': 21,\n",
       "  'start': 6228966,\n",
       "  'end': 6267317,\n",
       "  'biotype': 'lncRNA'},\n",
       " 'CU633906.4': {'gene_id': 'ENSG00000280019',\n",
       "  'chromsome': 21,\n",
       "  'start': 6272135,\n",
       "  'end': 6276532,\n",
       "  'biotype': 'unprocessed_pseudogene'},\n",
       " 'CU633906.3': {'gene_id': 'ENSG00000279709',\n",
       "  'chromsome': 21,\n",
       "  'start': 6309161,\n",
       "  'end': 6312948,\n",
       "  'biotype': 'unprocessed_pseudogene'},\n",
       " 'CU633906.2': {'gene_id': 'ENSG00000278903',\n",
       "  'chromsome': 21,\n",
       "  'start': 6318434,\n",
       "  'end': 6360415,\n",
       "  'biotype': 'lncRNA'},\n",
       " 'CBSL': {'gene_id': 'ENSG00000274276',\n",
       "  'chromsome': 21,\n",
       "  'start': 6444869,\n",
       "  'end': 6468040,\n",
       "  'biotype': 'protein_coding'},\n",
       " 'U2AF1L5': {'gene_id': 'ENSG00000275895',\n",
       "  'chromsome': 21,\n",
       "  'start': 6484623,\n",
       "  'end': 6499261,\n",
       "  'biotype': 'protein_coding'}}"
      ]
     },
     "execution_count": 26,
     "metadata": {},
     "output_type": "execute_result"
    }
   ],
   "source": [
    "genes"
   ]
  },
  {
   "cell_type": "code",
   "execution_count": 30,
   "metadata": {},
   "outputs": [
    {
     "name": "stdout",
     "output_type": "stream",
     "text": [
      "FP565260.4\n",
      "FP565260.3\n",
      "FP565260.5\n",
      "GATD3B\n",
      "FP565260.2\n",
      "FP565260.1\n",
      "FP565260.6\n",
      "AC079801.1\n",
      "LINC01670\n",
      "CU633967.1\n",
      "Y_RNA\n",
      "FP236315.2\n",
      "FP236315.3\n",
      "FP236315.1\n",
      "CU639417.1\n",
      "CU639417.3\n",
      "CU639417.2\n",
      "LINC01669\n",
      "CU639417.4\n",
      "CU639417.5\n",
      "SIK1B\n",
      "CU633906.5\n",
      "CU633906.1\n",
      "CU633906.4\n",
      "CU633906.3\n",
      "CU633906.2\n",
      "CBSL\n",
      "U2AF1L5\n"
     ]
    }
   ],
   "source": [
    "for key in genes:\n",
    "    print(key)"
   ]
  },
  {
   "cell_type": "code",
   "execution_count": 31,
   "metadata": {},
   "outputs": [
    {
     "name": "stdout",
     "output_type": "stream",
     "text": [
      "GATD3B\n",
      "AC079801.1\n",
      "LINC01670\n",
      "Y_RNA\n",
      "LINC01669\n",
      "SIK1B\n",
      "CBSL\n",
      "U2AF1L5\n"
     ]
    }
   ],
   "source": [
    "for key in genes:\n",
    "    if not key.startswith('FP') and not key.startswith('CU'):\n",
    "        print(key)"
   ]
  },
  {
   "cell_type": "code",
   "execution_count": 32,
   "metadata": {},
   "outputs": [
    {
     "name": "stdout",
     "output_type": "stream",
     "text": [
      "FP565260.5 {'gene_id': 'ENSG00000279687', 'chromsome': 21, 'start': 5073458, 'end': 5087867, 'biotype': 'lncRNA'}\n",
      "AC079801.1 {'gene_id': 'ENSG00000279669', 'chromsome': 21, 'start': 5232668, 'end': 5243833, 'biotype': 'lncRNA'}\n",
      "LINC01670 {'gene_id': 'ENSG00000279094', 'chromsome': 21, 'start': 5499151, 'end': 5502542, 'biotype': 'lncRNA'}\n",
      "CU633967.1 {'gene_id': 'ENSG00000274333', 'chromsome': 21, 'start': 5553637, 'end': 5614880, 'biotype': 'lncRNA'}\n",
      "Y_RNA {'gene_id': 'ENSG00000276902', 'chromsome': 21, 'start': 6365955, 'end': 6366055, 'biotype': 'misc_RNA'}\n",
      "FP236315.2 {'gene_id': 'ENSG00000279186', 'chromsome': 21, 'start': 5703182, 'end': 5705637, 'biotype': 'TEC'}\n",
      "FP236315.3 {'gene_id': 'ENSG00000279784', 'chromsome': 21, 'start': 5705345, 'end': 5707160, 'biotype': 'lncRNA'}\n",
      "FP236315.1 {'gene_id': 'ENSG00000279064', 'chromsome': 21, 'start': 5707004, 'end': 5709456, 'biotype': 'lncRNA'}\n",
      "CU639417.3 {'gene_id': 'ENSG00000280013', 'chromsome': 21, 'start': 6008604, 'end': 6008810, 'biotype': 'processed_pseudogene'}\n",
      "CU639417.2 {'gene_id': 'ENSG00000279769', 'chromsome': 21, 'start': 6034690, 'end': 6036093, 'biotype': 'TEC'}\n",
      "LINC01669 {'gene_id': 'ENSG00000280191', 'chromsome': 21, 'start': 6060340, 'end': 6076305, 'biotype': 'lncRNA'}\n",
      "CU639417.4 {'gene_id': 'ENSG00000280095', 'chromsome': 21, 'start': 6081193, 'end': 6082585, 'biotype': 'lncRNA'}\n",
      "CU639417.5 {'gene_id': 'ENSG00000280179', 'chromsome': 21, 'start': 6084364, 'end': 6091407, 'biotype': 'lncRNA'}\n",
      "CU633906.5 {'gene_id': 'ENSG00000288187', 'chromsome': 21, 'start': 6215291, 'end': 6217681, 'biotype': 'lncRNA'}\n",
      "CU633906.1 {'gene_id': 'ENSG00000275496', 'chromsome': 21, 'start': 6228966, 'end': 6267317, 'biotype': 'lncRNA'}\n",
      "CU633906.4 {'gene_id': 'ENSG00000280019', 'chromsome': 21, 'start': 6272135, 'end': 6276532, 'biotype': 'unprocessed_pseudogene'}\n",
      "CU633906.3 {'gene_id': 'ENSG00000279709', 'chromsome': 21, 'start': 6309161, 'end': 6312948, 'biotype': 'unprocessed_pseudogene'}\n",
      "CU633906.2 {'gene_id': 'ENSG00000278903', 'chromsome': 21, 'start': 6318434, 'end': 6360415, 'biotype': 'lncRNA'}\n"
     ]
    }
   ],
   "source": [
    "for key in genes:\n",
    "    if genes[key] ['biotype'] != 'protein_coding':\n",
    "        print(key, genes[key])"
   ]
  },
  {
   "cell_type": "markdown",
   "metadata": {},
   "source": [
    "# 创建函数(defining functions)"
   ]
  },
  {
   "cell_type": "markdown",
   "metadata": {},
   "source": [
    "使用`def`语句进行函数创建.下面举一些例子."
   ]
  },
  {
   "cell_type": "code",
   "execution_count": 33,
   "metadata": {},
   "outputs": [],
   "source": [
    "def f_to_c(fahrenheit):\n",
    "    celsius = (float(fahrenheit) - 32) * 5 / 9\n",
    "    return round(celsius, 2)"
   ]
  },
  {
   "cell_type": "code",
   "execution_count": 34,
   "metadata": {},
   "outputs": [
    {
     "data": {
      "text/plain": [
       "13.33"
      ]
     },
     "execution_count": 34,
     "metadata": {},
     "output_type": "execute_result"
    }
   ],
   "source": [
    "ftemp = 110\n",
    "ctemp = f_to_c(56)\n",
    "ctemp"
   ]
  },
  {
   "cell_type": "code",
   "execution_count": 35,
   "metadata": {},
   "outputs": [
    {
     "name": "stdout",
     "output_type": "stream",
     "text": [
      "C = 43.33\n"
     ]
    }
   ],
   "source": [
    "print('C =', f_to_c(ftemp))"
   ]
  },
  {
   "cell_type": "code",
   "execution_count": 36,
   "metadata": {},
   "outputs": [],
   "source": [
    "def roman(string):\n",
    "    '''\n",
    "    Returns the integer value of a string in Roman numerals\n",
    "    ''' \n",
    "    dictionary = {'M':1000, 'D':500, 'C':100, 'L':50, 'X':10, 'V':5, 'I':1}\n",
    "    arabic = []\n",
    "    # list that holds the Roman numerals as Arabic ciphers\n",
    "    for letter in string.upper():\n",
    "        if letter in dictionary:\n",
    "            arabic.append(dictionary[letter])\n",
    "\n",
    "    for i in range(len(arabic) - 1):\n",
    "        if arabic[i] < arabic[i+1]:\n",
    "            arabic[i] *= -1 # (5,10) -> (-5,10)\n",
    "    print(arabic)\n",
    "    return sum(arabic)"
   ]
  },
  {
   "cell_type": "code",
   "execution_count": 37,
   "metadata": {},
   "outputs": [],
   "source": [
    "def seq_list_from_fastq_file(filename):\n",
    "    '''\n",
    "    Parse fastq file returning two lists, one of all sequences\n",
    "    the other of the quality strings\n",
    "    '''\n",
    "    seq_list = []\n",
    "    quality_list = []\n",
    "    \n",
    "    with open(filename) as FASTQ_INPUT:\n",
    "        line_cnt = 0\n",
    "        for line in FASTQ_INPUT:\n",
    "            line_cnt += 1\n",
    "            if line_cnt == 2:\n",
    "                seq_list.append(line.rstrip('\\n'))\n",
    "            if line_cnt % 4 == 0:\n",
    "                quality_list.append(line.rstrip('\\n'))\n",
    "                line_cnt = 0\n",
    "\n",
    "    return seq_list, quality_list"
   ]
  },
  {
   "cell_type": "code",
   "execution_count": 38,
   "metadata": {},
   "outputs": [],
   "source": [
    "DNA_codon_table = {\n",
    "#                        Second Base\n",
    "#        T             C             A             G\n",
    "# T\n",
    "    'TTT': 'Phe', 'TCT': 'Ser', 'TAT': 'Tyr', 'TGT': 'Cys',     # TxT\n",
    "    'TTC': 'Phe', 'TCC': 'Ser', 'TAC': 'Tyr', 'TGC': 'Cys',     # TxC\n",
    "    'TTA': 'Leu', 'TCA': 'Ser', 'TAA': '---', 'TGA': '---',     # TxA\n",
    "    'TTG': 'Leu', 'TCG': 'Ser', 'TAG': '---', 'TGG': 'Trp',     # TxG\n",
    "# C\n",
    "    'CTT': 'Leu', 'CCT': 'Pro', 'CAT': 'His', 'CGT': 'Arg',     # CxT\n",
    "    'CTC': 'Leu', 'CCC': 'Pro', 'CAC': 'His', 'CGC': 'Arg',     # CxC\n",
    "    'CTA': 'Leu', 'CCA': 'Pro', 'CAA': 'Gln', 'CGA': 'Arg',     # CxA\n",
    "    'CTG': 'Leu', 'CCG': 'Pro', 'CAG': 'Gln', 'CGG': 'Arg',     # CxG\n",
    "# A\n",
    "    'ATT': 'Ile', 'ACT': 'Thr', 'AAT': 'Asn', 'AGT': 'Ser',     # AxT\n",
    "    'ATC': 'Ile', 'ACC': 'Thr', 'AAC': 'Asn', 'AGC': 'Ser',     # AxC\n",
    "    'ATA': 'Ile', 'ACA': 'Thr', 'AAA': 'Lys', 'AGA': 'Arg',     # AxA\n",
    "    'ATG': 'Met', 'ACG': 'Thr', 'AAG': 'Lys', 'AGG': 'Arg',     # AxG\n",
    "# G\n",
    "    'GTT': 'Val', 'GCT': 'Ala', 'GAT': 'Asp', 'GGT': 'Gly',     # GxT\n",
    "    'GTC': 'Val', 'GCC': 'Ala', 'GAC': 'Asp', 'GGC': 'Gly',     # GxC\n",
    "    'GTA': 'Val', 'GCA': 'Ala', 'GAA': 'Glu', 'GGA': 'Gly',     # GxA\n",
    "    'GTG': 'Val', 'GCG': 'Ala', 'GAG': 'Glu', 'GGG': 'Gly'      # GxG\n",
    "}\n",
    "\n",
    "dna_seq = 'ATGATATGGAGGAGGTAGCCGCGCGCCATGCGCGCTATATTTTGGTAT'"
   ]
  },
  {
   "cell_type": "code",
   "execution_count": 39,
   "metadata": {},
   "outputs": [],
   "source": [
    "def translate_DNA_codon(codon):\n",
    "    return DNA_codon_table[codon]"
   ]
  },
  {
   "cell_type": "code",
   "execution_count": 40,
   "metadata": {},
   "outputs": [],
   "source": [
    "def translate(seq):\n",
    "    '''Return the animo acid sequence corresponding to the DNA\n",
    "    sequence seq'''\n",
    "    translation = ''\n",
    "    for n in range(0, len(seq) - (len(seq) % 3), 3): # every third base\n",
    "        translation += translate_DNA_codon(seq[n:n+3])\n",
    "    return translation"
   ]
  },
  {
   "cell_type": "code",
   "execution_count": 41,
   "metadata": {},
   "outputs": [
    {
     "data": {
      "text/plain": [
       "'MetIleTrpArgArg---ProArgAlaMetArgAlaIlePheTrpTyr'"
      ]
     },
     "execution_count": 41,
     "metadata": {},
     "output_type": "execute_result"
    }
   ],
   "source": [
    "translate(dna_seq)"
   ]
  },
  {
   "cell_type": "code",
   "execution_count": 42,
   "metadata": {},
   "outputs": [],
   "source": [
    "def translate_in_frame(seq, framenum):\n",
    "    '''Return the translation of seq in framenum 1, 2, or 3'''\n",
    "    return translate(seq[framenum-1:])"
   ]
  },
  {
   "cell_type": "code",
   "execution_count": 43,
   "metadata": {},
   "outputs": [
    {
     "data": {
      "text/plain": [
       "'---TyrGlyGlyGlySerArgAlaProCysAlaLeuTyrPheGly'"
      ]
     },
     "execution_count": 43,
     "metadata": {},
     "output_type": "execute_result"
    }
   ],
   "source": [
    "translate_in_frame(dna_seq, 2)"
   ]
  },
  {
   "cell_type": "code",
   "execution_count": 44,
   "metadata": {},
   "outputs": [],
   "source": [
    "def print_translation_in_frame(seq, framenum, prefix):\n",
    "    '''Print the translation of seq in framenum preceded by prefix'''\n",
    "    print(prefix,\n",
    "          framenum,\n",
    "          ' ' * framenum,\n",
    "          translate_in_frame(seq, framenum),\n",
    "          sep='')"
   ]
  },
  {
   "cell_type": "code",
   "execution_count": 45,
   "metadata": {},
   "outputs": [
    {
     "name": "stdout",
     "output_type": "stream",
     "text": [
      "Frame 2  ---TyrGlyGlyGlySerArgAlaProCysAlaLeuTyrPheGly\n"
     ]
    }
   ],
   "source": [
    "print_translation_in_frame(dna_seq, 2, 'Frame ')"
   ]
  },
  {
   "cell_type": "code",
   "execution_count": 46,
   "metadata": {},
   "outputs": [],
   "source": [
    "def print_translations(seq, prefix = ''):\n",
    "    '''Print the translations of seq in all three reading frames,\n",
    "    each preceded by prefix'''\n",
    "    # print DNA sequence, indented to line up after prefix is added\n",
    "    # to translation lines\n",
    "    print('\\n', ' ' * (len(prefix) + 2), seq, sep='')\n",
    "    for framenum in range(1,4):\n",
    "        print_translation_in_frame(seq, framenum, prefix)"
   ]
  },
  {
   "cell_type": "code",
   "execution_count": 47,
   "metadata": {},
   "outputs": [
    {
     "name": "stdout",
     "output_type": "stream",
     "text": [
      "\n",
      "  ATGATATGGAGGAGGTAGCCGCGCGCCATGCGCGCTATATTTTGGTAT\n",
      "1 MetIleTrpArgArg---ProArgAlaMetArgAlaIlePheTrpTyr\n",
      "2  ---TyrGlyGlyGlySerArgAlaProCysAlaLeuTyrPheGly\n",
      "3   AspMetGluGluValAlaAlaArgHisAlaArgTyrIleLeuVal\n"
     ]
    }
   ],
   "source": [
    "print_translations(dna_seq)"
   ]
  },
  {
   "cell_type": "code",
   "execution_count": 48,
   "metadata": {},
   "outputs": [],
   "source": [
    "def translate_with_open_reading_frames(seq, framenum):\n",
    "    '''Return the translation of seq in framenum (1, 2, or 3), with\n",
    "    ---'s when not within an open reading frame; assume the read is\n",
    "    not in an open frame when at the beginning of seq'''\n",
    "    open = False\n",
    "    translation = \"\"\n",
    "    seqlength = len(seq) - (framenum - 1)\n",
    "    for n in range(framenum-1, seqlength - (seqlength % 3), 3):\n",
    "        codon = translate_DNA_codon(seq[n:n+3])\n",
    "        open = (open or codon == \"Met\") and not (codon == \"---\")\n",
    "        translation += codon if open else \"---\"\n",
    "    return translation"
   ]
  },
  {
   "cell_type": "code",
   "execution_count": 49,
   "metadata": {},
   "outputs": [
    {
     "data": {
      "text/plain": [
       "'MetIleTrpArgArg------------MetArgAlaIlePheTrpTyr'"
      ]
     },
     "execution_count": 49,
     "metadata": {},
     "output_type": "execute_result"
    }
   ],
   "source": [
    "translate_with_open_reading_frames(dna_seq, 1)"
   ]
  },
  {
   "cell_type": "code",
   "execution_count": 50,
   "metadata": {},
   "outputs": [],
   "source": [
    "def print_translation_with_open_reading_frame(seq, framenum, prefix):\n",
    "    print(prefix,\n",
    "          framenum,\n",
    "          ' ' * framenum,\n",
    "          translate_with_open_reading_frames(seq, framenum),\n",
    "          sep='')"
   ]
  },
  {
   "cell_type": "code",
   "execution_count": 51,
   "metadata": {},
   "outputs": [
    {
     "name": "stdout",
     "output_type": "stream",
     "text": [
      "Seq 1 MetIleTrpArgArg------------MetArgAlaIlePheTrpTyr\n"
     ]
    }
   ],
   "source": [
    "print_translation_with_open_reading_frame(dna_seq, 1, 'Seq ')"
   ]
  },
  {
   "cell_type": "code",
   "execution_count": 52,
   "metadata": {},
   "outputs": [],
   "source": [
    "def print_translations_with_open_reading_frames(seq, prefix=''):\n",
    "    print('\\n', ' ' * (len(prefix) + 2), seq, sep='')\n",
    "    for frame in range(1,4):\n",
    "        print_translation_with_open_reading_frame(seq, frame, prefix)"
   ]
  },
  {
   "cell_type": "code",
   "execution_count": 53,
   "metadata": {},
   "outputs": [
    {
     "name": "stdout",
     "output_type": "stream",
     "text": [
      "\n",
      "  ATGATATGGAGGAGGTAGCCGCGCGCCATGCGCGCTATATTTTGGTAT\n",
      "1 MetIleTrpArgArg------------MetArgAlaIlePheTrpTyr\n",
      "2  ---------------------------------------------\n",
      "3   ---MetGluGluValAlaAlaArgHisAlaArgTyrIleLeuVal\n"
     ]
    }
   ],
   "source": [
    "print_translations_with_open_reading_frames(dna_seq)"
   ]
  },
  {
   "cell_type": "code",
   "execution_count": 54,
   "metadata": {},
   "outputs": [],
   "source": [
    "def print_translations_in_frames_in_both_directions(seq):\n",
    "    print_translations(seq, '5\\'->3\\' ORF ')\n",
    "    print_translations(seq[::-1], '3\\'->5\\' ORF ')"
   ]
  },
  {
   "cell_type": "code",
   "execution_count": 55,
   "metadata": {},
   "outputs": [
    {
     "name": "stdout",
     "output_type": "stream",
     "text": [
      "\n",
      "             ATGATATGGAGGAGGTAGCCGCGCGCCATGCGCGCTATATTTTGGTAT\n",
      "5'->3' ORF 1 MetIleTrpArgArg---ProArgAlaMetArgAlaIlePheTrpTyr\n",
      "5'->3' ORF 2  ---TyrGlyGlyGlySerArgAlaProCysAlaLeuTyrPheGly\n",
      "5'->3' ORF 3   AspMetGluGluValAlaAlaArgHisAlaArgTyrIleLeuVal\n",
      "\n",
      "             TATGGTTTTATATCGCGCGTACCGCGCGCCGATGGAGGAGGTATAGTA\n",
      "3'->5' ORF 1 TyrGlyPheIleSerArgValProArgAlaAspGlyGlyGlyIleVal\n",
      "3'->5' ORF 2  MetValLeuTyrArgAlaTyrArgAlaProMetGluGluVal---\n",
      "3'->5' ORF 3   TrpPheTyrIleAlaArgThrAlaArgArgTrpArgArgTyrSer\n"
     ]
    }
   ],
   "source": [
    "print_translations_in_frames_in_both_directions(dna_seq)"
   ]
  },
  {
   "cell_type": "code",
   "execution_count": 56,
   "metadata": {},
   "outputs": [],
   "source": [
    "def print_translations_with_open_reading_frames_in_both_directions(seq):\n",
    "    print_translations_with_open_reading_frames(seq, '5\\'->3\\' ORF ')\n",
    "    print_translations_with_open_reading_frames(seq[::-1], '3\\'->5\\' ORF ')"
   ]
  },
  {
   "cell_type": "code",
   "execution_count": 57,
   "metadata": {},
   "outputs": [
    {
     "name": "stdout",
     "output_type": "stream",
     "text": [
      "\n",
      "             ATGATATGGAGGAGGTAGCCGCGCGCCATGCGCGCTATATTTTGGTAT\n",
      "5'->3' ORF 1 MetIleTrpArgArg------------MetArgAlaIlePheTrpTyr\n",
      "5'->3' ORF 2  ---------------------------------------------\n",
      "5'->3' ORF 3   ---MetGluGluValAlaAlaArgHisAlaArgTyrIleLeuVal\n",
      "\n",
      "             TATGGTTTTATATCGCGCGTACCGCGCGCCGATGGAGGAGGTATAGTA\n",
      "3'->5' ORF 1 ------------------------------------------------\n",
      "3'->5' ORF 2  MetValLeuTyrArgAlaTyrArgAlaProMetGluGluVal---\n",
      "3'->5' ORF 3   ---------------------------------------------\n"
     ]
    }
   ],
   "source": [
    "print_translations_with_open_reading_frames_in_both_directions(dna_seq)"
   ]
  },
  {
   "cell_type": "markdown",
   "metadata": {},
   "source": [
    "# map函数"
   ]
  },
  {
   "cell_type": "markdown",
   "metadata": {},
   "source": [
    "`map`函数跟R中的`apply`家族有点像.\n",
    "\n",
    "`map`函数接受两个参数,第一个参数为函数,第二个参数为一个列表,然后函数对列表中的每一个元素进行处理.然后返回长度\n",
    "和输入列表相同的列表."
   ]
  },
  {
   "cell_type": "code",
   "execution_count": 58,
   "metadata": {},
   "outputs": [],
   "source": [
    "# starting list\n",
    "mylist = [1.2, 3.2, 5.4, 2.1, 0.8]"
   ]
  },
  {
   "cell_type": "code",
   "execution_count": 59,
   "metadata": {},
   "outputs": [
    {
     "name": "stdout",
     "output_type": "stream",
     "text": [
      "[1, 3, 5, 2, 1]\n"
     ]
    }
   ],
   "source": [
    "# round all values in list to nearest int\n",
    "print(list(map(round, mylist)))"
   ]
  },
  {
   "cell_type": "code",
   "execution_count": 60,
   "metadata": {},
   "outputs": [],
   "source": [
    "# define function to square values\n",
    "def sqr(x):\n",
    "    return round(pow(x,2),3)"
   ]
  },
  {
   "cell_type": "code",
   "execution_count": 61,
   "metadata": {},
   "outputs": [
    {
     "name": "stdout",
     "output_type": "stream",
     "text": [
      "[1.44, 10.24, 29.16, 4.41, 0.64]\n"
     ]
    }
   ],
   "source": [
    "# square each value of list\n",
    "print(list(map(sqr, mylist)))"
   ]
  },
  {
   "cell_type": "code",
   "execution_count": 62,
   "metadata": {},
   "outputs": [],
   "source": [
    "# mylist #2\n",
    "mylist2 = ['71', '72', '73', '74']"
   ]
  },
  {
   "cell_type": "code",
   "execution_count": 63,
   "metadata": {},
   "outputs": [
    {
     "name": "stdout",
     "output_type": "stream",
     "text": [
      "['G', 'H', 'I', 'J']\n"
     ]
    }
   ],
   "source": [
    "# convert each value in list to binary (base 2)\n",
    "print(list(map(chr, map(int, mylist2))))"
   ]
  },
  {
   "cell_type": "markdown",
   "metadata": {},
   "source": [
    "# list comprehension(列表推导表达式)"
   ]
  },
  {
   "cell_type": "markdown",
   "metadata": {},
   "source": [
    "列表推导表达式可以从一个列表快速的得到另外一个列表,在很多情况下,可以替换掉比较简单的`for`循环."
   ]
  },
  {
   "cell_type": "markdown",
   "metadata": {},
   "source": [
    "<b>[</b> expression <b>for</b> item <b>in</b> list <b>if</b> conditional <b>]</b>"
   ]
  },
  {
   "cell_type": "markdown",
   "metadata": {},
   "source": [
    "<code>for item in list:\n",
    "    if conditional:\n",
    "        expression</code>"
   ]
  },
  {
   "cell_type": "code",
   "execution_count": 64,
   "metadata": {},
   "outputs": [
    {
     "name": "stdout",
     "output_type": "stream",
     "text": [
      "[115, 112, 97, 109]\n"
     ]
    }
   ],
   "source": [
    "mylist = []\n",
    "for x in 'spam':\n",
    "    mylist.append(ord(x))\n",
    "print(mylist)"
   ]
  },
  {
   "cell_type": "code",
   "execution_count": 65,
   "metadata": {},
   "outputs": [
    {
     "data": {
      "text/plain": [
       "[115, 112, 97, 109]"
      ]
     },
     "execution_count": 65,
     "metadata": {},
     "output_type": "execute_result"
    }
   ],
   "source": [
    "# convert a string into a list of ASCII values\n",
    "[ord(x) for x in 'spam']"
   ]
  },
  {
   "cell_type": "code",
   "execution_count": 66,
   "metadata": {},
   "outputs": [
    {
     "data": {
      "text/plain": [
       "{97, 109, 112, 115}"
      ]
     },
     "execution_count": 66,
     "metadata": {},
     "output_type": "execute_result"
    }
   ],
   "source": [
    "# convert a string into a set of ASCII values\n",
    "{ord(x) for x in 'spaam'}  # square to curly"
   ]
  },
  {
   "cell_type": "code",
   "execution_count": 67,
   "metadata": {},
   "outputs": [
    {
     "data": {
      "text/plain": [
       "{'s': 115, 'p': 112, 'a': 97, 'm': 109}"
      ]
     },
     "execution_count": 67,
     "metadata": {},
     "output_type": "execute_result"
    }
   ],
   "source": [
    "# convert a string into a dict of ASCII values\n",
    "{x: ord(x) for x in 'spaam'}"
   ]
  },
  {
   "cell_type": "code",
   "execution_count": 68,
   "metadata": {},
   "outputs": [
    {
     "name": "stdout",
     "output_type": "stream",
     "text": [
      "S = [0, 1, 4, 9, 16, 25, 36, 49, 64, 81]\n",
      "V = [1, 2, 4, 8, 16, 32, 64, 128, 256, 512, 1024, 2048, 4096]\n",
      "M = [0, 4, 16, 36, 64]\n"
     ]
    }
   ],
   "source": [
    "S = []\n",
    "V = []\n",
    "M = []\n",
    "for x in range(10):\n",
    "    S.append(x**2)\n",
    "print('S =', S)\n",
    "\n",
    "for i in range(13):\n",
    "    V.append(2**i)\n",
    "print('V =', V)\n",
    "\n",
    "for x in S:\n",
    "    if x % 2 == 0:\n",
    "        M.append(x)\n",
    "print('M =', M)"
   ]
  },
  {
   "cell_type": "code",
   "execution_count": 69,
   "metadata": {},
   "outputs": [
    {
     "name": "stdout",
     "output_type": "stream",
     "text": [
      "S = [0, 1, 4, 9, 16, 25, 36, 49, 64, 81]\n",
      "V = [1, 2, 4, 8, 16, 32, 64, 128, 256, 512, 1024, 2048, 4096]\n",
      "M = [0, 4, 16, 36, 64]\n"
     ]
    }
   ],
   "source": [
    "S = [x**2 for x in range(10)]\n",
    "V = [2**x for x in range(13)]\n",
    "M = [x for x in S if x % 2 == 0]\n",
    "print('S =', S)\n",
    "print('V =', V)\n",
    "print('M =', M)"
   ]
  },
  {
   "cell_type": "code",
   "execution_count": 70,
   "metadata": {},
   "outputs": [],
   "source": [
    "# start with a matrix, in this case represented as three lists\n",
    "M = [[1, 2, 3],\n",
    "     [4, 5, 6],\n",
    "     [7, 8, 9]]\n",
    "col2 = []"
   ]
  },
  {
   "cell_type": "code",
   "execution_count": 71,
   "metadata": {},
   "outputs": [
    {
     "name": "stdout",
     "output_type": "stream",
     "text": [
      "[2, 5, 8]\n"
     ]
    }
   ],
   "source": [
    "# print out just the 2nd column\n",
    "for row in M:\n",
    "    col2.append(row[1])\n",
    "print(col2)"
   ]
  },
  {
   "cell_type": "code",
   "execution_count": 72,
   "metadata": {},
   "outputs": [
    {
     "data": {
      "text/plain": [
       "[2, 5, 8]"
      ]
     },
     "execution_count": 72,
     "metadata": {},
     "output_type": "execute_result"
    }
   ],
   "source": [
    "[row[1] for row in M]"
   ]
  },
  {
   "cell_type": "code",
   "execution_count": 73,
   "metadata": {},
   "outputs": [
    {
     "name": "stdout",
     "output_type": "stream",
     "text": [
      "[(-1, -1), (0, 0), (1, 1)]\n"
     ]
    }
   ],
   "source": [
    "# Nested comprehensions\n",
    "# tuples that are the cross products of two lists: [-1,0,1] and [-1,0,1]\n",
    "mylist = []\n",
    "for x in range(-1,2):\n",
    "    for y in range(-1,2):\n",
    "        if x == y:\n",
    "            mylist.append((x,y))\n",
    "\n",
    "print(mylist)"
   ]
  },
  {
   "cell_type": "code",
   "execution_count": 74,
   "metadata": {},
   "outputs": [
    {
     "data": {
      "text/plain": [
       "[(-1, -1), (0, 0), (1, 1)]"
      ]
     },
     "execution_count": 74,
     "metadata": {},
     "output_type": "execute_result"
    }
   ],
   "source": [
    "[(x, y) for x in range(-1,2) for y in range(-1,2) if x == y]"
   ]
  },
  {
   "cell_type": "code",
   "execution_count": 75,
   "metadata": {},
   "outputs": [
    {
     "name": "stdout",
     "output_type": "stream",
     "text": [
      "[2, 6, 10, 14, 22, 22]\n"
     ]
    }
   ],
   "source": [
    "numbers = [1, 2, 3, 5, 7, 8, 11, 10, 11, 14]\n",
    "doubled_odds = []\n",
    "for n in numbers:\n",
    "    if n % 2 == 1:\n",
    "        doubled_odds.append(n * 2)\n",
    "print(doubled_odds)"
   ]
  },
  {
   "cell_type": "code",
   "execution_count": 76,
   "metadata": {},
   "outputs": [
    {
     "name": "stdout",
     "output_type": "stream",
     "text": [
      "[2, 6, 10, 14, 22, 22]\n"
     ]
    }
   ],
   "source": [
    "doubled_odds = [n * 2 for n in numbers if n % 2 == 1]\n",
    "print (doubled_odds)"
   ]
  },
  {
   "cell_type": "code",
   "execution_count": 77,
   "metadata": {},
   "outputs": [
    {
     "data": {
      "text/plain": [
       "['e',\n",
       " 'el',\n",
       " 'ele',\n",
       " 'elep',\n",
       " 'eleph',\n",
       " 'elepha',\n",
       " 'elephan',\n",
       " 'elephant',\n",
       " 'elephants']"
      ]
     },
     "execution_count": 77,
     "metadata": {},
     "output_type": "execute_result"
    }
   ],
   "source": [
    "# output increasing amount of string\n",
    "string = 'elephants'\n",
    "[string[:c + 1] for c in range(len(string))]"
   ]
  },
  {
   "cell_type": "code",
   "execution_count": 78,
   "metadata": {},
   "outputs": [
    {
     "data": {
      "text/plain": [
       "['ACTGATCGATTACGTATAGTAGA',\n",
       " 'CTGATCGATTACGTATAGTAGAA',\n",
       " 'TGATCGATTACGTATAGTAGAAT',\n",
       " 'GATCGATTACGTATAGTAGAATT',\n",
       " 'ATCGATTACGTATAGTAGAATTC',\n",
       " 'TCGATTACGTATAGTAGAATTCT',\n",
       " 'CGATTACGTATAGTAGAATTCTA',\n",
       " 'GATTACGTATAGTAGAATTCTAT',\n",
       " 'ATTACGTATAGTAGAATTCTATC',\n",
       " 'TTACGTATAGTAGAATTCTATCA',\n",
       " 'TACGTATAGTAGAATTCTATCAT',\n",
       " 'ACGTATAGTAGAATTCTATCATA',\n",
       " 'CGTATAGTAGAATTCTATCATAT',\n",
       " 'GTATAGTAGAATTCTATCATATA',\n",
       " 'TATAGTAGAATTCTATCATATAT',\n",
       " 'ATAGTAGAATTCTATCATATATA',\n",
       " 'TAGTAGAATTCTATCATATATAT',\n",
       " 'AGTAGAATTCTATCATATATATG',\n",
       " 'GTAGAATTCTATCATATATATGG']"
      ]
     },
     "execution_count": 78,
     "metadata": {},
     "output_type": "execute_result"
    }
   ],
   "source": [
    "# generate all k-mers of 23bp for a string of nucleotides\n",
    "#                1         2         3         4\n",
    "#      01234567890123456789012345678901234567890\n",
    "dna = 'ACTGATCGATTACGTATAGTAGAATTCTATCATATATATGG'\n",
    "kmers = []\n",
    "for c in range(0, len(dna) - 22):\n",
    "    kmers.append(dna[c:c+23])\n",
    "kmers"
   ]
  },
  {
   "cell_type": "code",
   "execution_count": 79,
   "metadata": {},
   "outputs": [
    {
     "data": {
      "text/plain": [
       "['ACTGATCGATTACGTATAGTAGA',\n",
       " 'CTGATCGATTACGTATAGTAGAA',\n",
       " 'TGATCGATTACGTATAGTAGAAT',\n",
       " 'GATCGATTACGTATAGTAGAATT',\n",
       " 'ATCGATTACGTATAGTAGAATTC',\n",
       " 'TCGATTACGTATAGTAGAATTCT',\n",
       " 'CGATTACGTATAGTAGAATTCTA',\n",
       " 'GATTACGTATAGTAGAATTCTAT',\n",
       " 'ATTACGTATAGTAGAATTCTATC',\n",
       " 'TTACGTATAGTAGAATTCTATCA',\n",
       " 'TACGTATAGTAGAATTCTATCAT',\n",
       " 'ACGTATAGTAGAATTCTATCATA',\n",
       " 'CGTATAGTAGAATTCTATCATAT',\n",
       " 'GTATAGTAGAATTCTATCATATA',\n",
       " 'TATAGTAGAATTCTATCATATAT',\n",
       " 'ATAGTAGAATTCTATCATATATA',\n",
       " 'TAGTAGAATTCTATCATATATAT',\n",
       " 'AGTAGAATTCTATCATATATATG',\n",
       " 'GTAGAATTCTATCATATATATGG']"
      ]
     },
     "execution_count": 79,
     "metadata": {},
     "output_type": "execute_result"
    }
   ],
   "source": [
    "# generate all 23-mers of dna\n",
    "[dna[c:c+23] for c in range(0, len(dna) - 22)]"
   ]
  },
  {
   "cell_type": "markdown",
   "metadata": {},
   "source": [
    "# zip函数"
   ]
  },
  {
   "cell_type": "code",
   "execution_count": 80,
   "metadata": {},
   "outputs": [
    {
     "name": "stdout",
     "output_type": "stream",
     "text": [
      "{12: 'A', 25: 'B', 23: 'C', 14: 'D'}\n"
     ]
    }
   ],
   "source": [
    "# reverse key and value in mydict\n",
    "mydict = {'A':12, 'B':25, 'C':23, 'D':14}\n",
    "reversed = dict(zip(mydict.values(), mydict))\n",
    "print(reversed)"
   ]
  },
  {
   "cell_type": "code",
   "execution_count": 82,
   "metadata": {},
   "outputs": [
    {
     "name": "stdout",
     "output_type": "stream",
     "text": [
      "{12: 'A', 25: 'B', 23: 'C', 14: 'D'}\n"
     ]
    }
   ],
   "source": [
    "# same as above\n",
    "reversed = dict(zip(mydict.values(), mydict.keys()))\n",
    "print(reversed)"
   ]
  },
  {
   "cell_type": "code",
   "execution_count": null,
   "metadata": {},
   "outputs": [],
   "source": []
  }
 ],
 "metadata": {
  "kernelspec": {
   "display_name": "Python 3",
   "language": "python",
   "name": "python3"
  },
  "language_info": {
   "codemirror_mode": {
    "name": "ipython",
    "version": 3
   },
   "file_extension": ".py",
   "mimetype": "text/x-python",
   "name": "python",
   "nbconvert_exporter": "python",
   "pygments_lexer": "ipython3",
   "version": "3.7.4"
  }
 },
 "nbformat": 4,
 "nbformat_minor": 2
}
