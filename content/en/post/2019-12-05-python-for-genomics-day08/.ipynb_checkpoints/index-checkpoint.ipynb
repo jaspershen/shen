{
 "cells": [
  {
   "cell_type": "markdown",
   "metadata": {},
   "source": [
    "主要介绍正则表达式和如何定义class"
   ]
  },
  {
   "cell_type": "markdown",
   "metadata": {},
   "source": [
    "# Regular Expressions and Classes(正则表达式)"
   ]
  },
  {
   "cell_type": "markdown",
   "metadata": {},
   "source": [
    "## Regular expressions(正则表达式)\n",
    "\n",
    "在python中的正则表达式主要使用`re`library,可以认为是R中的`stringr`包.\n",
    "可以参考下面的链接:\n",
    "https://docs.python.org/3.7/library/re.html"
   ]
  },
  {
   "cell_type": "markdown",
   "metadata": {},
   "source": [
    "常见的`re`模块的一些函数."
   ]
  },
  {
   "cell_type": "markdown",
   "metadata": {},
   "source": [
    "<code>re.match(PATTERN, STRING)</code>: matches at the beginning STRING<br>\n",
    "<code>re.search(PATTERN, STRING)</code>: matches the first instance of PATTERN anywhere in STRING<br>\n",
    "<code>re.findall(PATTERN, STRING)</code>: finds all non-overlapping intances of a PATTERN and returns a list of the patterns found<br>\n",
    "<code>re.sub(PATTERN1, PATTERN2, STRING)</code>: replace all instances of PATTERN1 in STRING with PATTERN2<br>\n",
    "\n",
    "<code>re.compile(PATTERN)</code>: compile PATTERN into a pattern object<br>\n",
    "<code>re.finditer(PATTERN, STRING)</code>: return an iterator over all non-overlapping PATTERNS in the\n",
    "STRING"
   ]
  },
  {
   "cell_type": "markdown",
   "metadata": {},
   "source": [
    "### `re.search`函数"
   ]
  },
  {
   "cell_type": "code",
   "execution_count": 14,
   "metadata": {},
   "outputs": [
    {
     "name": "stdout",
     "output_type": "stream",
     "text": [
      "re.compile('(ACT)|(GC)')\n",
      "ACT 2 5\n"
     ]
    }
   ],
   "source": [
    "# Find the FIRST instance of a pattern using re.search()\n",
    "import re\n",
    "seq = 'TTACTGCTCACTACTA'\n",
    "pattern = re.compile('(ACT)|(GC)')\n",
    "print(pattern)\n",
    "matches = re.search(pattern, seq)\n",
    "#print(matches)\n",
    "subseq = matches.group(0)\n",
    "start = matches.start(0)\n",
    "end = matches.end(0)\n",
    "\n",
    "print(subseq, start, end)"
   ]
  },
  {
   "cell_type": "code",
   "execution_count": 15,
   "metadata": {},
   "outputs": [
    {
     "name": "stdout",
     "output_type": "stream",
     "text": [
      "ACT 2 5\n",
      "GC 5 7\n",
      "ACT 9 12\n",
      "ACT 12 15\n"
     ]
    }
   ],
   "source": [
    "# Find ALL instances of a pattern using re.finditer()\n",
    "import re\n",
    "seq = 'TTACTGCTCACTACTA'\n",
    "pattern = re.compile('(ACT)|(GC)')\n",
    "#pattern = re.compile('(ACT)|(CT)')\n",
    "iterrator = re.finditer(pattern, seq)\n",
    "#print(iterrator)\n",
    "for matches in iterrator:\n",
    "    #print(matches)\n",
    "    subseq = matches.group(0)\n",
    "    start = matches.start(0)\n",
    "    end = matches.end(0)\n",
    "    \n",
    "    print(subseq, start, end)"
   ]
  },
  {
   "cell_type": "code",
   "execution_count": 16,
   "metadata": {},
   "outputs": [],
   "source": [
    "seq = 'TTACTGCTCACTACTA'\n",
    "pattern = re.compile('(ACT)|(GC)')"
   ]
  },
  {
   "cell_type": "code",
   "execution_count": 17,
   "metadata": {},
   "outputs": [
    {
     "data": {
      "text/plain": [
       "re.compile(r'(ACT)|(GC)', re.UNICODE)"
      ]
     },
     "execution_count": 17,
     "metadata": {},
     "output_type": "execute_result"
    }
   ],
   "source": [
    "pattern"
   ]
  },
  {
   "cell_type": "code",
   "execution_count": 18,
   "metadata": {},
   "outputs": [
    {
     "name": "stdout",
     "output_type": "stream",
     "text": [
      "<re.Match object; span=(2, 5), match='ACT'>\n",
      "ACT\n",
      "2\n"
     ]
    }
   ],
   "source": [
    "match = re.search('(ACT)|(GC)', seq)\n",
    "print(match)\n",
    "print(match.group(0))\n",
    "print(match.start(0))"
   ]
  },
  {
   "cell_type": "markdown",
   "metadata": {},
   "source": [
    "**<code>regex</code>: A 3rd party regular expressions library that supports overlapping patterns**"
   ]
  },
  {
   "cell_type": "code",
   "execution_count": 19,
   "metadata": {},
   "outputs": [
    {
     "ename": "ModuleNotFoundError",
     "evalue": "No module named 'regex'",
     "output_type": "error",
     "traceback": [
      "\u001b[1;31m---------------------------------------------------------------------------\u001b[0m",
      "\u001b[1;31mModuleNotFoundError\u001b[0m                       Traceback (most recent call last)",
      "\u001b[1;32m<ipython-input-19-8e409ea01aa1>\u001b[0m in \u001b[0;36m<module>\u001b[1;34m\u001b[0m\n\u001b[0;32m      2\u001b[0m \u001b[1;31m#   using regex (use the flag overlapped=True)\u001b[0m\u001b[1;33m\u001b[0m\u001b[1;33m\u001b[0m\u001b[1;33m\u001b[0m\u001b[0m\n\u001b[0;32m      3\u001b[0m \u001b[1;33m\u001b[0m\u001b[0m\n\u001b[1;32m----> 4\u001b[1;33m \u001b[1;32mimport\u001b[0m \u001b[0mregex\u001b[0m\u001b[1;33m\u001b[0m\u001b[1;33m\u001b[0m\u001b[0m\n\u001b[0m\u001b[0;32m      5\u001b[0m \u001b[1;33m\u001b[0m\u001b[0m\n\u001b[0;32m      6\u001b[0m \u001b[0mseq\u001b[0m \u001b[1;33m=\u001b[0m \u001b[1;34m'TTACTGCTCACTACTA'\u001b[0m\u001b[1;33m\u001b[0m\u001b[1;33m\u001b[0m\u001b[0m\n",
      "\u001b[1;31mModuleNotFoundError\u001b[0m: No module named 'regex'"
     ]
    }
   ],
   "source": [
    "# Find ALL instances of a pattern (including overlapping patterns!) \n",
    "#   using regex (use the flag overlapped=True)\n",
    "\n",
    "import regex\n",
    "\n",
    "seq = 'TTACTGCTCACTACTA'\n",
    "\n",
    "pattern = regex.compile('(ACT)|(GC)')\n",
    "#pattern = regex.compile('(ACT)|(CT)')\n",
    "\n",
    "iterrator = regex.finditer(pattern, seq, overlapped=True)\n",
    "#print(iterrator)\n",
    "\n",
    "for matches in iterrator:\n",
    "    subseq = matches.group(0)\n",
    "    start = matches.start(0)\n",
    "    end = matches.end(0)\n",
    "    \n",
    "    print(subseq, start, end)"
   ]
  },
  {
   "cell_type": "markdown",
   "metadata": {},
   "source": [
    "<a id=\"classes\"></a>\n",
    "## Classes"
   ]
  },
  {
   "cell_type": "code",
   "execution_count": 20,
   "metadata": {},
   "outputs": [
    {
     "name": "stdout",
     "output_type": "stream",
     "text": [
      "Champion is hungry. Champion whines.\n",
      "Feeding Champion ...\n",
      "Champion is happy and full!\n",
      "Champion wags tail.\n",
      "\n",
      "Throwing the ball for Rupert!\n",
      "Rupert naps.\n",
      "\n",
      "Feeding Daisy ...\n",
      "Daisy is not hungry.\n",
      "Daisy wags tail.\n",
      "\n",
      "Throwing the stick for Daisy!\n",
      "Daisy runs and gets the stick back!\n",
      "Daisy wags tail.\n",
      "\n"
     ]
    }
   ],
   "source": [
    "# Thanks to Olivia deGoede for this example!\n",
    "\n",
    "class Dog:\n",
    "    def __init__(self, name, size, mood):\n",
    "        self.name = name\n",
    "        self.size = size\n",
    "        self.mood = mood\n",
    "        self.is_good_dog = True\n",
    "\n",
    "    def action(self):\n",
    "        if self.mood == 'hungry':\n",
    "            return 'whines'\n",
    "        elif self.mood == 'sleepy':\n",
    "            return 'naps'\n",
    "        else:\n",
    "            return 'wags tail'\n",
    "    \n",
    "    def feed(self):\n",
    "        if self.mood == 'hungry':\n",
    "            print(self.name, 'is hungry.', self.name, self.action()+'.')\n",
    "            print('Feeding', self.name, '...')\n",
    "            self.mood = 'happy'\n",
    "            print(self.name, 'is happy and full!')\n",
    "        else:\n",
    "            print('Feeding', self.name, '...')\n",
    "            print(self.name, 'is not hungry.')\n",
    "        print(self.name, self.action()+'.\\n')\n",
    "\n",
    "    def throw(self, toy):\n",
    "        print('Throwing the', toy, 'for', self.name + '!')\n",
    "        if self.mood == 'sleepy':\n",
    "            print(self.name, self.action()+'.\\n')\n",
    "        else:\n",
    "            print(self.name, 'runs and gets the', toy, 'back!')\n",
    "            print(self.name, self.action()+'.\\n')\n",
    "        \n",
    "\n",
    "puppy1 = Dog('Champion', 'medium', 'hungry')\n",
    "puppy1.feed()\n",
    "\n",
    "puppy2 = Dog('Rupert', 'big', 'sleepy')\n",
    "puppy2.throw('ball')\n",
    "\n",
    "puppy3 = Dog('Daisy', 'small', 'happy')\n",
    "puppy3.feed()\n",
    "puppy3.throw('stick')"
   ]
  },
  {
   "cell_type": "markdown",
   "metadata": {},
   "source": [
    "<a id=\"practice\"></a>\n",
    "## Let's practice!"
   ]
  },
  {
   "cell_type": "markdown",
   "metadata": {},
   "source": [
    "### Exercise 1"
   ]
  },
  {
   "cell_type": "markdown",
   "metadata": {},
   "source": [
    "Do Part 1 of PSET 1 using <code>re</code> or <code>regex</code> to find all the cutsites!"
   ]
  },
  {
   "cell_type": "code",
   "execution_count": 21,
   "metadata": {},
   "outputs": [],
   "source": [
    "def read_fasta(fasta_filename):\n",
    "    '''\n",
    "    Go through file, reading one line at a time, using a\n",
    "    dictionary to store the DNA sequence for each of the FASTA\n",
    "    entries (Gavin Sherlock, November 28, 2019)\n",
    "    '''    \n",
    "    with open(fasta_filename, mode='r') as fasta_file:\n",
    "\n",
    "        sequences = {}\n",
    "        \n",
    "        for line in fasta_file:\n",
    "            line = line.rstrip()\n",
    "            if line.startswith('>'): # it's a new fasta record\n",
    "                line = line.lstrip('>')\n",
    "                sequences[line] = '' # intialize dictionary for this entry\n",
    "                currSeqName = line\n",
    "            else:\n",
    "                sequences[currSeqName] += line\n",
    "\n",
    "    return(sequences)"
   ]
  },
  {
   "cell_type": "code",
   "execution_count": 22,
   "metadata": {},
   "outputs": [],
   "source": [
    "enzyme_sites = {'EcoRI': 'GAATTC', 'HindIII': 'AAGCTT',\n",
    "                'BamHI': 'GGATCC', 'HpaI': 'GTTAAC',\n",
    "                'HaeIII': 'GGCC'}\n",
    "\n",
    "cutsite_offset = {'EcoRI': 1, 'HindIII': 1, 'BamHI': 1,\n",
    "                  'HpaI': 3, 'HaeIII': 2}"
   ]
  },
  {
   "cell_type": "code",
   "execution_count": 23,
   "metadata": {},
   "outputs": [],
   "source": [
    "fasta_filename = 'rosalind_dna.fsa'\n",
    "read_seqs = read_fasta(fasta_filename)\n",
    "#read_seqs   # comment out this line once you understand the format of read_seqs!"
   ]
  },
  {
   "cell_type": "code",
   "execution_count": 24,
   "metadata": {},
   "outputs": [
    {
     "ename": "ModuleNotFoundError",
     "evalue": "No module named 'regex'",
     "output_type": "error",
     "traceback": [
      "\u001b[1;31m---------------------------------------------------------------------------\u001b[0m",
      "\u001b[1;31mModuleNotFoundError\u001b[0m                       Traceback (most recent call last)",
      "\u001b[1;32m<ipython-input-24-511513791336>\u001b[0m in \u001b[0;36m<module>\u001b[1;34m\u001b[0m\n\u001b[1;32m----> 1\u001b[1;33m \u001b[1;32mimport\u001b[0m \u001b[0mregex\u001b[0m\u001b[1;33m\u001b[0m\u001b[1;33m\u001b[0m\u001b[0m\n\u001b[0m\u001b[0;32m      2\u001b[0m \u001b[1;33m\u001b[0m\u001b[0m\n\u001b[0;32m      3\u001b[0m \u001b[1;32mfor\u001b[0m \u001b[0mseqName\u001b[0m\u001b[1;33m,\u001b[0m \u001b[0mfastaSeq\u001b[0m \u001b[1;32min\u001b[0m \u001b[0mread_seqs\u001b[0m\u001b[1;33m.\u001b[0m\u001b[0mitems\u001b[0m\u001b[1;33m(\u001b[0m\u001b[1;33m)\u001b[0m\u001b[1;33m:\u001b[0m \u001b[1;31m# go through each DNA sequence\u001b[0m\u001b[1;33m\u001b[0m\u001b[1;33m\u001b[0m\u001b[0m\n\u001b[0;32m      4\u001b[0m \u001b[1;33m\u001b[0m\u001b[0m\n\u001b[0;32m      5\u001b[0m     \u001b[0mprint\u001b[0m\u001b[1;33m(\u001b[0m\u001b[1;34m'Sequence: '\u001b[0m \u001b[1;33m+\u001b[0m \u001b[0mseqName\u001b[0m \u001b[1;33m+\u001b[0m \u001b[1;34m' (cut sites)'\u001b[0m\u001b[1;33m)\u001b[0m \u001b[1;31m# print out the DNA sequence name\u001b[0m\u001b[1;33m\u001b[0m\u001b[1;33m\u001b[0m\u001b[0m\n",
      "\u001b[1;31mModuleNotFoundError\u001b[0m: No module named 'regex'"
     ]
    }
   ],
   "source": [
    "import regex\n",
    "\n",
    "for seqName, fastaSeq in read_seqs.items(): # go through each DNA sequence\n",
    "\n",
    "    print('Sequence: ' + seqName + ' (cut sites)') # print out the DNA sequence name\n",
    "\n",
    "    for enzName, enzSeq in enzyme_sites.items(): # go through each enzyme\n",
    "        \n",
    "        cutsiteList = [] # initialize a list to store all the cutsites for this particular DNA sequence and enzyme\n",
    "        enzOffset = cutsite_offset[enzName] # look up the offset for this particular enzyme\n",
    "        \n",
    "        ### YOUR SOLUTION HERE\n",
    "        ### USE re OR regex TO FIND ALL THE CUTSITES FOR EACH ENZYME AND APPEND THEM TO cutsiteList ###\n",
    "\n",
    "        if cutsiteList:\n",
    "            print(enzName + '\\t' + ', '.join(cutsiteList))\n",
    "\n",
    "    print()"
   ]
  },
  {
   "cell_type": "markdown",
   "metadata": {},
   "source": [
    "### Exercise 2"
   ]
  },
  {
   "cell_type": "markdown",
   "metadata": {},
   "source": [
    "**2.a.** How many JUND binding motif sites are there are in regions of open chromatin from human fetal brain tissue?<br><br> \n",
    "Use <code>DNase_brain.tsv</code>.<br>\n",
    "JUND binds <code>TGACTCA</code> and <code>TGAGTCA</code><br>\n",
    "\n",
    "Run your script on <code>DNase_placenta.tsv</code> and <code>DNase_spinalCord.tsv</code>, too!"
   ]
  },
  {
   "cell_type": "code",
   "execution_count": 25,
   "metadata": {},
   "outputs": [],
   "source": [
    "# YOUR SOLUTION HERE\n",
    "\n"
   ]
  },
  {
   "cell_type": "markdown",
   "metadata": {},
   "source": [
    "**2.b.** Can you figure out how to use <code>grep</code> from the command line to accomplish this same task?"
   ]
  },
  {
   "cell_type": "markdown",
   "metadata": {},
   "source": [
    "**2.c.** Make it so you can run your script from the command line like this:<br><br>\n",
    "<code>python  findMotifs.py  INPUT_FILENAME  REGEX_FOR_TF_MOTIF</code>\n",
    "\n",
    "i.e.\n",
    "<code>python  findMotifs.py  DNase_brain.tsv  TACGGGCAT</code>"
   ]
  }
 ],
 "metadata": {
  "kernelspec": {
   "display_name": "Python 3",
   "language": "python",
   "name": "python3"
  },
  "language_info": {
   "codemirror_mode": {
    "name": "ipython",
    "version": 3
   },
   "file_extension": ".py",
   "mimetype": "text/x-python",
   "name": "python",
   "nbconvert_exporter": "python",
   "pygments_lexer": "ipython3",
   "version": "3.7.4"
  }
 },
 "nbformat": 4,
 "nbformat_minor": 2
}
