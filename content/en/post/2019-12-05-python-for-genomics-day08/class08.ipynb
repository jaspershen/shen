{
 "cells": [
  {
   "cell_type": "markdown",
   "metadata": {},
   "source": [
    "# regular expressions, class(正则表达式和class)"
   ]
  },
  {
   "cell_type": "code",
   "execution_count": null,
   "metadata": {},
   "outputs": [],
   "source": [
    "# regular expressions provide powerful matching\n",
    "# see Regular-Expression-Quick-Reference-v1.2.pdf\n",
    "#\n",
    "# import re"
   ]
  },
  {
   "cell_type": "markdown",
   "metadata": {},
   "source": [
    "prefix with 'r' makes it a raw string so you can match across \\n. then you don't need to escape\n",
    "\n",
    "'.' - its an operator - matches any one character except \\n\n",
    "\n",
    "点(.)可以用来匹配任意字符,`\\n`除外.\n",
    "\n",
    "\\ backslash, makes special plain and plain special\n",
    "\n",
    "space is a character.\n",
    "\n",
    "空格也是一个字符.\n",
    "\n",
    "^ - beginning of a line/string \n",
    "$ - end of line/string\n",
    "\n",
    "^a.. \n",
    ".ed$\n",
    "\n",
    "\\b :== word boundaries\n",
    "\n",
    "word :== a-z,A-Z,_,0-9\n",
    "\n",
    "character sets(字符集合):\n",
    "[a-z] any lowercase letter, matching 1 char 任意一个小写字符\n",
    "[a-z]+ any lowercase letter, matching 1 or more +加号代表一个或者多个\n",
    "[0-9] digits, just one [a-z,0-9] what does this match? lowercase, digits or ',' \n",
    "[a-z,0-9-] the above plus the hyphen.\n",
    "\n",
    "[^aeiouy] everything but aeiouy.\n",
    "\n",
    "\\d :== digit \\D :== anything but a digit\n",
    "\\w :== word set of characters [a-zA-Z0-9_] \\W :== not word, one char\n",
    "\\s :== one char of whitespace, spaces and tabs \\S :== one char not whitespace\n",
    "[a|b] :== a or b\n",
    "\n",
    "flags:\n",
    "re.I :== re.IGNORECASE \n",
    "re.M :== re.MULTILINE \n",
    "\n",
    "single and double quotes are grouping characters.\n"
   ]
  },
  {
   "cell_type": "code",
   "execution_count": null,
   "metadata": {},
   "outputs": [],
   "source": []
  },
  {
   "cell_type": "markdown",
   "metadata": {},
   "source": [
    "# re.sub()"
   ]
  },
  {
   "cell_type": "markdown",
   "metadata": {},
   "source": [
    "该函数和R中的函数sub,或者string::str_replace相同.\n",
    "Remove intron for a gene sequence, leaving just the coding sequence"
   ]
  },
  {
   "cell_type": "code",
   "execution_count": 1,
   "metadata": {},
   "outputs": [],
   "source": [
    "import re\n",
    "\n",
    "dna = 'ATGGTCTACATAGCTGACAAACAGCACGTAGCAATCGGTCGAATCTC\\\n",
    "GAGAGGCATATGGTCACATGATCGGTCGAGCGTGTTTCAAAGTTTGCGCCTAG'\n",
    "introns = {'intron_1' : 'ATCGGTCGAA',\n",
    "           'intron_2' : 'ATCGGTCGAGCGTGT'}"
   ]
  },
  {
   "cell_type": "code",
   "execution_count": null,
   "metadata": {},
   "outputs": [],
   "source": [
    "coding = dna\n",
    "print(len(coding))\n",
    "print(coding)\n",
    "for i in introns.values():\n",
    "    coding = re.sub(i, '|', coding)\n",
    "print(len(coding))\n",
    "print(coding)"
   ]
  },
  {
   "cell_type": "markdown",
   "metadata": {},
   "source": [
    "# re.finditer()"
   ]
  },
  {
   "cell_type": "code",
   "execution_count": 4,
   "metadata": {},
   "outputs": [],
   "source": [
    "# find a pattern that includes a specified number of characters\n",
    "# on either side.\n",
    "\n",
    "# return the match, and the specific characters that match the boundary"
   ]
  },
  {
   "cell_type": "code",
   "execution_count": 8,
   "metadata": {},
   "outputs": [
    {
     "ename": "TypeError",
     "evalue": "'callable_iterator' object is not subscriptable",
     "output_type": "error",
     "traceback": [
      "\u001b[1;31m---------------------------------------------------------------------------\u001b[0m",
      "\u001b[1;31mTypeError\u001b[0m                                 Traceback (most recent call last)",
      "\u001b[1;32m<ipython-input-8-67db3c598867>\u001b[0m in \u001b[0;36m<module>\u001b[1;34m\u001b[0m\n\u001b[0;32m     11\u001b[0m \u001b[1;33m\u001b[0m\u001b[0m\n\u001b[0;32m     12\u001b[0m \u001b[0mtemp\u001b[0m \u001b[1;33m=\u001b[0m \u001b[0mre\u001b[0m\u001b[1;33m.\u001b[0m\u001b[0mfinditer\u001b[0m\u001b[1;33m(\u001b[0m\u001b[1;34mr'(.{20})TATTAT(.{20})'\u001b[0m\u001b[1;33m,\u001b[0m \u001b[0mdna_example\u001b[0m\u001b[1;33m)\u001b[0m\u001b[1;33m\u001b[0m\u001b[1;33m\u001b[0m\u001b[0m\n\u001b[1;32m---> 13\u001b[1;33m \u001b[0mtemp1\u001b[0m \u001b[1;33m=\u001b[0m \u001b[0mtemp\u001b[0m\u001b[1;33m[\u001b[0m\u001b[1;36m0\u001b[0m\u001b[1;33m]\u001b[0m\u001b[1;33m\u001b[0m\u001b[1;33m\u001b[0m\u001b[0m\n\u001b[0m\u001b[0;32m     14\u001b[0m \u001b[0mprint\u001b[0m\u001b[1;33m(\u001b[0m\u001b[0mtemp1\u001b[0m\u001b[1;33m)\u001b[0m\u001b[1;33m\u001b[0m\u001b[1;33m\u001b[0m\u001b[0m\n",
      "\u001b[1;31mTypeError\u001b[0m: 'callable_iterator' object is not subscriptable"
     ]
    }
   ],
   "source": [
    "dna_example = 'ACAAAATACGTTTTGTAAATGTTGTGCTGTTAACACTGCAAATAAA\\\n",
    "CTTGGTAGCAAACACTTCCAAAAGGAATTCACCGGTTTCCAAAGACAGTCTTCTAATTCCT\\\n",
    "CATTAGTAATAAGTAAAATGTTTATTGTTGTAGCTCTGGATATTATCCGGTTTCCAAAGAC\\\n",
    "AGTCTTCTAATTCCTCATTAGTAATAAGTAAAATGTTTATTGTTGTAGCTCTGGACAAAAT\\\n",
    "ACGTTTTGTAAATGTTGTGCTGTTAACACTGCAAATAAACTTGGTAGCAAACACTTCCAAA\\\n",
    "AGGAATTCACCGGTTTCCAAAGACAGTCTTCTAATTCCTCATTAGTAATAAGTAAAATGTT\\\n",
    "TATTGTTGTAGCTCTGGATATTATCCGGTTTCCAAAGACAGTCTTCTAATTCCTCATTAGT\\\n",
    "AATAAGTAAAATGTTTATTGTTGTAGCTCTGG'\n",
    "\n",
    "# re.finditer(pattern, string)\n",
    "\n",
    "temp = re.finditer(r'(.{20})TATTAT(.{20})', dna_example)\n",
    "temp1 = temp[0]\n",
    "print(temp1)\n"
   ]
  },
  {
   "cell_type": "code",
   "execution_count": 7,
   "metadata": {},
   "outputs": [
    {
     "name": "stdout",
     "output_type": "stream",
     "text": [
      "\n",
      "Whole match : TTTATTGTTGTAGCTCTGGATATTATCCGGTTTCCAAAGACAGTCT\n",
      "\n",
      "Upstream    :\t128\tTTTATTGTTGTAGCTCTGGA\t148\n",
      "Match       :\tTATTAT\n",
      "Downstream  :\t154\tCCGGTTTCCAAAGACAGTCT\t174\n",
      "\n",
      "Whole match : TTTATTGTTGTAGCTCTGGATATTATCCGGTTTCCAAAGACAGTCT\n",
      "\n",
      "Upstream    :\t350\tTTTATTGTTGTAGCTCTGGA\t370\n",
      "Match       :\tTATTAT\n",
      "Downstream  :\t376\tCCGGTTTCCAAAGACAGTCT\t396\n"
     ]
    }
   ],
   "source": [
    "dna_example = 'ACAAAATACGTTTTGTAAATGTTGTGCTGTTAACACTGCAAATAAA\\\n",
    "CTTGGTAGCAAACACTTCCAAAAGGAATTCACCGGTTTCCAAAGACAGTCTTCTAATTCCT\\\n",
    "CATTAGTAATAAGTAAAATGTTTATTGTTGTAGCTCTGGATATTATCCGGTTTCCAAAGAC\\\n",
    "AGTCTTCTAATTCCTCATTAGTAATAAGTAAAATGTTTATTGTTGTAGCTCTGGACAAAAT\\\n",
    "ACGTTTTGTAAATGTTGTGCTGTTAACACTGCAAATAAACTTGGTAGCAAACACTTCCAAA\\\n",
    "AGGAATTCACCGGTTTCCAAAGACAGTCTTCTAATTCCTCATTAGTAATAAGTAAAATGTT\\\n",
    "TATTGTTGTAGCTCTGGATATTATCCGGTTTCCAAAGACAGTCTTCTAATTCCTCATTAGT\\\n",
    "AATAAGTAAAATGTTTATTGTTGTAGCTCTGG'\n",
    "\n",
    "# re.finditer(pattern, string)\n",
    "\n",
    "for found in re.finditer(r'(.{20})TATTAT(.{20})', dna_example):\n",
    "    whole    = found.group(0)\n",
    "    up       = found.group(1)\n",
    "    down     = found.group(2)\n",
    "    up_start = found.start(1) + 1\n",
    "    up_end   = found.end(1)   + 1\n",
    "    dn_start = found.start(2) + 1\n",
    "    dn_end   = found.end(2)   + 1\n",
    "  \n",
    "    print()\n",
    "    print('Whole match :', whole)\n",
    "    print()\n",
    "    print('Upstream    :', up_start, up, up_end, sep='\\t')\n",
    "    print('Match       :', dna_example[up_end-1:dn_start-1], sep='\\t')\n",
    "    print('Downstream  :', dn_start, down, dn_end, sep='\\t')"
   ]
  },
  {
   "cell_type": "code",
   "execution_count": null,
   "metadata": {},
   "outputs": [],
   "source": []
  },
  {
   "cell_type": "markdown",
   "metadata": {},
   "source": [
    "# re.match, match from the start of the string"
   ]
  },
  {
   "cell_type": "markdown",
   "metadata": {},
   "source": [
    "跟R中的基础函数match相同."
   ]
  },
  {
   "cell_type": "code",
   "execution_count": 9,
   "metadata": {},
   "outputs": [],
   "source": [
    "# https://www.w3schools.com/python/python_regex.asp\n",
    "\n",
    "import re\n",
    "\n",
    "genes = ['ADe1', 'ADE1', 'Ade10', 'Ade10p', 'ADE1p', 'aDe1p', '3421', 'Adep10']"
   ]
  },
  {
   "cell_type": "code",
   "execution_count": 11,
   "metadata": {},
   "outputs": [
    {
     "name": "stdout",
     "output_type": "stream",
     "text": [
      "not: ADe1\n",
      "not: ADE1\n",
      "not: Ade10\n",
      "not: Ade10p\n",
      "not: ADE1p\n",
      "Gene Name: aDe1p\n",
      "not: 3421\n",
      "not: Adep10\n"
     ]
    }
   ],
   "source": [
    "# from the start, first character lowercase letter\n",
    "for item in genes:\n",
    "    if re.match(r'[a-z]', item):#至少有用一个小写字母开头\n",
    "        print('Gene Name:', item)\n",
    "    else:\n",
    "        print('not:', item)"
   ]
  },
  {
   "cell_type": "code",
   "execution_count": 12,
   "metadata": {},
   "outputs": [
    {
     "name": "stdout",
     "output_type": "stream",
     "text": [
      "not: ADe1\n",
      "not: ADE1\n",
      "not: Ade10\n",
      "not: Ade10p\n",
      "not: ADE1p\n",
      "not: aDe1p\n",
      "Gene Name: 3421\n",
      "not: Adep10\n"
     ]
    }
   ],
   "source": [
    "# from the start, 1 or more lowercase letters, 1 digit\n",
    "for item in genes:\n",
    "    if re.match(r'[a-z]*\\d', item):\n",
    "        print('Gene Name:', item)\n",
    "    else:\n",
    "        print('not:', item)"
   ]
  },
  {
   "cell_type": "code",
   "execution_count": 13,
   "metadata": {},
   "outputs": [
    {
     "name": "stdout",
     "output_type": "stream",
     "text": [
      "not: ADe1\n",
      "not: ADE1\n",
      "not: Ade10\n",
      "not: Ade10p\n",
      "not: ADE1p\n",
      "Gene Name: aDe1p\n",
      "not: 3421\n",
      "not: Adep10\n"
     ]
    }
   ],
   "source": [
    "# from the start, 1 lowercase letter followed by three of anything\n",
    "for item in genes:\n",
    "    if re.match(r'[a-z]...', item):\n",
    "        print('Gene Name:', item)\n",
    "    else:\n",
    "        print('not:', item)"
   ]
  },
  {
   "cell_type": "markdown",
   "metadata": {},
   "source": [
    "# re.search, anywhere in the string\n",
    "\n",
    "类似于R中的grep函数."
   ]
  },
  {
   "cell_type": "code",
   "execution_count": 14,
   "metadata": {},
   "outputs": [
    {
     "name": "stdout",
     "output_type": "stream",
     "text": [
      "Gene Name: ADe1\n",
      "not: ADE1\n",
      "Gene Name: Ade10\n",
      "Gene Name: Ade10p\n",
      "not: ADE1p\n",
      "Gene Name: aDe1p\n",
      "not: 3421\n",
      "Gene Name: Adep10\n"
     ]
    }
   ],
   "source": [
    "# 1 lowercase letter followed by a digit\n",
    "for item in genes:\n",
    "    if re.search(r'[a-z]\\d', item):\n",
    "        print('Gene Name:', item)\n",
    "    else:\n",
    "        print('not:', item)"
   ]
  },
  {
   "cell_type": "code",
   "execution_count": 15,
   "metadata": {},
   "outputs": [
    {
     "name": "stdout",
     "output_type": "stream",
     "text": [
      "Gene Name: ADe1\n",
      "not: ADE1\n",
      "Gene Name: Ade10\n",
      "Gene Name: Ade10p\n",
      "Gene Name: ADE1p\n",
      "Gene Name: aDe1p\n",
      "not: 3421\n",
      "Gene Name: Adep10\n"
     ]
    }
   ],
   "source": [
    "# 1 lowercase letter followed by 0 or more digits\n",
    "for item in genes:\n",
    "    if re.search(r'[a-z]\\d*', item):\n",
    "        print('Gene Name:', item)\n",
    "    else:\n",
    "        print('not:', item)"
   ]
  },
  {
   "cell_type": "code",
   "execution_count": 16,
   "metadata": {},
   "outputs": [
    {
     "name": "stdout",
     "output_type": "stream",
     "text": [
      "not: ADe1\n",
      "not: ADE1\n",
      "Gene Name: Ade10\n",
      "Gene Name: Ade10p\n",
      "not: ADE1p\n",
      "not: aDe1p\n",
      "not: 3421\n",
      "Gene Name: Adep10\n"
     ]
    }
   ],
   "source": [
    "# 1 lowercase letter followed by 0 or more digits and optional letter 'p'\n",
    "for item in genes:\n",
    "    if re.search(r'[A-Z][a-z]{2}\\d*p?', item):\n",
    "        print('Gene Name:', item)\n",
    "    else:\n",
    "        print('not:', item)"
   ]
  },
  {
   "cell_type": "code",
   "execution_count": 17,
   "metadata": {},
   "outputs": [
    {
     "name": "stdout",
     "output_type": "stream",
     "text": [
      "Gene Name: ADe1\n",
      "Gene Name: ADE1\n",
      "Gene Name: Ade10\n",
      "Gene Name: Ade10p\n",
      "Gene Name: ADE1p\n",
      "Gene Name: aDe1p\n",
      "not: 3421\n",
      "Gene Name: Adep10\n"
     ]
    }
   ],
   "source": [
    "# 1 lowercase letter followed by 1 or more digits and optional letter 'p'\n",
    "for item in genes:\n",
    "    if re.search(r'[a-z]\\d+p?', item, re.IGNORECASE):\n",
    "        print('Gene Name:', item)\n",
    "    else:\n",
    "        print('not:', item)"
   ]
  },
  {
   "cell_type": "code",
   "execution_count": 18,
   "metadata": {},
   "outputs": [
    {
     "name": "stdout",
     "output_type": "stream",
     "text": [
      "Gene Name: ADe1\n",
      "Gene Name: ADE1\n",
      "Gene Name: Ade10\n",
      "Gene Name: Ade10p\n",
      "Gene Name: ADE1p\n",
      "Gene Name: aDe1p\n",
      "not: 3421\n",
      "Gene Name: Adep10\n"
     ]
    }
   ],
   "source": [
    "# any 3 letters followed by 1 or more digits ignoring case\n",
    "for item in genes:\n",
    "    if re.search(r'[a-z][a-z][a-z]\\d+', item, re.I):\n",
    "        print('Gene Name:', item)\n",
    "    else:\n",
    "        print('not:', item)"
   ]
  },
  {
   "cell_type": "code",
   "execution_count": 19,
   "metadata": {},
   "outputs": [
    {
     "name": "stdout",
     "output_type": "stream",
     "text": [
      "Gene Name: ADe1\n",
      "Gene Name: ADE1\n",
      "Gene Name: Ade10\n",
      "Gene Name: Ade10p\n",
      "Gene Name: ADE1p\n",
      "Gene Name: aDe1p\n",
      "not: 3421\n",
      "Gene Name: Adep10\n"
     ]
    }
   ],
   "source": [
    "# any 3 letters followed by 1 or more digits, ignoring case\n",
    "for item in genes:\n",
    "    if re.search(r'[a-z]{3}\\d+', item, re.I):\n",
    "        print('Gene Name:', item)\n",
    "    else:\n",
    "        print('not:', item)"
   ]
  },
  {
   "cell_type": "code",
   "execution_count": 20,
   "metadata": {},
   "outputs": [
    {
     "name": "stdout",
     "output_type": "stream",
     "text": [
      "Gene Name: ADe1\n",
      "Gene Name: ADE1\n",
      "Gene Name: Ade10\n",
      "Gene Name: Ade10p\n",
      "Gene Name: ADE1p\n",
      "Gene Name: aDe1p\n",
      "not: 3421\n",
      "Gene Name: Adep10\n"
     ]
    }
   ],
   "source": [
    "# any 2 or 3 letters followed by 1 or more digits, an optional letter 'p', ignoring case\n",
    "for item in genes:\n",
    "    if re.search(r'[a-z]{2,3}\\d+p?', item, re.I):\n",
    "        print('Gene Name:', item)\n",
    "    else:\n",
    "        print('not:', item)"
   ]
  },
  {
   "cell_type": "code",
   "execution_count": 21,
   "metadata": {},
   "outputs": [
    {
     "name": "stdout",
     "output_type": "stream",
     "text": [
      "Gene Name: ADe1\n",
      "Gene Name: ADE1\n",
      "Gene Name: Ade10\n",
      "Gene Name: Ade10p\n",
      "Gene Name: ADE1p\n",
      "Gene Name: aDe1p\n",
      "not: 3421\n",
      "Gene Name: Adep10\n"
     ]
    }
   ],
   "source": [
    "# any 3 letters followed by 1-3 digits, optional letter 'p' \n",
    "# an optional 1 character, ignoring case\n",
    "for item in genes:\n",
    "    if re.search(r'[a-z]{3}\\d{1,2}p?', item, re.I):\n",
    "        print('Gene Name:', item)\n",
    "    else:\n",
    "        print('not:', item)"
   ]
  },
  {
   "cell_type": "code",
   "execution_count": null,
   "metadata": {},
   "outputs": [],
   "source": []
  },
  {
   "cell_type": "markdown",
   "metadata": {},
   "source": [
    "# re.findall()\n",
    "\n",
    "找出所有符合要求的字符,以列表的形式返回.如果没有符合要求的,则会返回一个空list或者none?"
   ]
  },
  {
   "cell_type": "code",
   "execution_count": 22,
   "metadata": {},
   "outputs": [
    {
     "name": "stdout",
     "output_type": "stream",
     "text": [
      "['ade1', 'Ade1p', 'ADE2p', 'Ade6p', 'Ade4p', 'bat1', 'cat2', 'ewe4p', 'ade6']\n"
     ]
    }
   ],
   "source": [
    "# find all cases with: 3 letters of either case, one or more digits, optional 'p'\n",
    "\n",
    "s = 'The ade1 encoded the Ade1p which interacts with both ADE2p, Ade6p and Ade4p. \\\n",
    "This paper also discusses bat1, cat2, ewe4p, ade6,7'\n",
    "\n",
    "fa = re.findall(r'[a-zA-Z]{3}\\d+p?', s)\n",
    "print(fa)"
   ]
  },
  {
   "cell_type": "code",
   "execution_count": 24,
   "metadata": {},
   "outputs": [
    {
     "name": "stdout",
     "output_type": "stream",
     "text": [
      "['ade1', 'bat1', 'cat2', 'ewe4', 'ade6']\n"
     ]
    }
   ],
   "source": [
    "fa = re.findall(r'[a-z]{3}\\d+', s)\n",
    "\n",
    "print(fa)"
   ]
  },
  {
   "cell_type": "code",
   "execution_count": 25,
   "metadata": {},
   "outputs": [
    {
     "name": "stdout",
     "output_type": "stream",
     "text": [
      "['ade1 ', 'Ade1p', 'Ade6p', 'Ade4p', 'bat1,', 'cat2,', 'ade6,']\n"
     ]
    }
   ],
   "source": [
    "fa = re.findall(r'([A-Z][a-z]{2}\\d+p|[a-z]{3}\\d+[^p])', s)\n",
    "\n",
    "print(fa)"
   ]
  },
  {
   "cell_type": "code",
   "execution_count": 26,
   "metadata": {},
   "outputs": [
    {
     "name": "stdout",
     "output_type": "stream",
     "text": [
      "['ade1']\n",
      "['Ade1']\n",
      "['Ade6']\n",
      "['Ade4']\n",
      "['bat1']\n",
      "['cat2']\n",
      "['ade6']\n"
     ]
    }
   ],
   "source": [
    "for x in fa:\n",
    "    fa2 = re.findall(r'[a-zA-Z]{3}\\d+', x)\n",
    "    print(fa2)"
   ]
  },
  {
   "cell_type": "code",
   "execution_count": null,
   "metadata": {},
   "outputs": [],
   "source": []
  },
  {
   "cell_type": "markdown",
   "metadata": {},
   "source": [
    "# classes(类)"
   ]
  },
  {
   "cell_type": "code",
   "execution_count": 27,
   "metadata": {},
   "outputs": [],
   "source": [
    "# purchase example\n",
    "#product,color,size等都是order的属性\n",
    "#可以在class语句内部定义该类的方法,比如__init__和report都是order类的方法\n",
    "class order:\n",
    "    def __init__(self, product='', color='', size='', number=0, **keywords):\n",
    "        if int(number) < 1:\n",
    "            number = 1\n",
    "        if product == '':\n",
    "            product = 'undefined'\n",
    "        if color == '':\n",
    "            color == 'black'\n",
    "        if size == '':\n",
    "            size = 'medium'\n",
    "        self.product = product\n",
    "        self.color = color\n",
    "        self.size = size\n",
    "        self.number = number\n",
    "\n",
    "    def report(self):\n",
    "        return self.product, self.color, self.size, self.number"
   ]
  },
  {
   "cell_type": "markdown",
   "metadata": {},
   "source": [
    "创建该类的一个具体的对象,像使用函数一样进行创建."
   ]
  },
  {
   "cell_type": "code",
   "execution_count": 29,
   "metadata": {},
   "outputs": [
    {
     "name": "stdout",
     "output_type": "stream",
     "text": [
      "Order one: shoes red 12 1\n"
     ]
    }
   ],
   "source": [
    "one = order(product='shoes', color='red', size='12')\n",
    "x = one.report()\n",
    "print('Order one:', *x)"
   ]
  },
  {
   "cell_type": "markdown",
   "metadata": {},
   "source": [
    "这里再熟悉一下*,**的用法."
   ]
  },
  {
   "cell_type": "code",
   "execution_count": 30,
   "metadata": {},
   "outputs": [
    {
     "name": "stdout",
     "output_type": "stream",
     "text": [
      "Order two: undefined black 12 1\n"
     ]
    }
   ],
   "source": [
    "two = order('', 'black', 12, 1)\n",
    "print('Order two:', *two.report())"
   ]
  },
  {
   "cell_type": "code",
   "execution_count": 31,
   "metadata": {},
   "outputs": [
    {
     "name": "stdout",
     "output_type": "stream",
     "text": [
      "Order three: undefined purple medium 2\n"
     ]
    }
   ],
   "source": [
    "three = order(color='white')\n",
    "three = order(product='bike')\n",
    "three = order(color='purple', number=2)\n",
    "print('Order three:', *three.report())"
   ]
  },
  {
   "cell_type": "markdown",
   "metadata": {},
   "source": [
    "下面这种用法还是没看懂,下面再瞅瞅资料"
   ]
  },
  {
   "cell_type": "code",
   "execution_count": 33,
   "metadata": {},
   "outputs": [
    {
     "name": "stderr",
     "output_type": "stream",
     "text": [
      "'head' is not recognized as an internal or external command,\n",
      "operable program or batch file.\n"
     ]
    }
   ],
   "source": [
    "!head -3 example_quant.tsv"
   ]
  },
  {
   "cell_type": "code",
   "execution_count": null,
   "metadata": {},
   "outputs": [],
   "source": [
    "class data_class:\n",
    "    def __init__(self, Header , Value):\n",
    "        for i in range(len(Header)):\n",
    "            if i < 2:\n",
    "                setattr(self, Header[i] , Value[i])\n",
    "            else:\n",
    "                setattr(self, Header[i] , float(Value[i]))"
   ]
  },
  {
   "cell_type": "markdown",
   "metadata": {},
   "source": [
    "新的函数,`setattr()`,查一下资料."
   ]
  },
  {
   "cell_type": "code",
   "execution_count": 34,
   "metadata": {},
   "outputs": [
    {
     "name": "stdout",
     "output_type": "stream",
     "text": [
      "Help on built-in function setattr in module builtins:\n",
      "\n",
      "setattr(obj, name, value, /)\n",
      "    Sets the named attribute on the given object to the specified value.\n",
      "    \n",
      "    setattr(x, 'y', v) is equivalent to ``x.y = v''\n",
      "\n"
     ]
    }
   ],
   "source": [
    "help(setattr)"
   ]
  },
  {
   "cell_type": "code",
   "execution_count": 35,
   "metadata": {},
   "outputs": [
    {
     "name": "stdout",
     "output_type": "stream",
     "text": [
      "['gene_id', 'transcript_id(s)', 'length', 'effective_length', 'expected_count', 'TPM', 'FPKM', 'posterior_mean_count', 'posterior_standard_deviation_of_count', 'pme_TPM', 'pme_FPKM', 'TPM_ci_lower_bound', 'TPM_ci_upper_bound', 'FPKM_ci_lower_bound', 'FPKM_ci_upper_bound']\n"
     ]
    },
    {
     "ename": "NameError",
     "evalue": "name 'data_class' is not defined",
     "output_type": "error",
     "traceback": [
      "\u001b[1;31m---------------------------------------------------------------------------\u001b[0m",
      "\u001b[1;31mNameError\u001b[0m                                 Traceback (most recent call last)",
      "\u001b[1;32m<ipython-input-35-ed14ba9d95a9>\u001b[0m in \u001b[0;36m<module>\u001b[1;34m\u001b[0m\n\u001b[0;32m     15\u001b[0m         \u001b[1;31m# must decode the data into the utf-8 character set\u001b[0m\u001b[1;33m\u001b[0m\u001b[1;33m\u001b[0m\u001b[1;33m\u001b[0m\u001b[0m\n\u001b[0;32m     16\u001b[0m         \u001b[0mline\u001b[0m \u001b[1;33m=\u001b[0m \u001b[0mline\u001b[0m\u001b[1;33m.\u001b[0m\u001b[0mdecode\u001b[0m\u001b[1;33m(\u001b[0m\u001b[1;34m'utf-8'\u001b[0m\u001b[1;33m)\u001b[0m\u001b[1;33m.\u001b[0m\u001b[0mrstrip\u001b[0m\u001b[1;33m(\u001b[0m\u001b[1;34m'\\n'\u001b[0m\u001b[1;33m)\u001b[0m\u001b[1;33m.\u001b[0m\u001b[0msplit\u001b[0m\u001b[1;33m(\u001b[0m\u001b[1;34m'\\t'\u001b[0m\u001b[1;33m)\u001b[0m\u001b[1;33m\u001b[0m\u001b[1;33m\u001b[0m\u001b[0m\n\u001b[1;32m---> 17\u001b[1;33m         \u001b[0mdata\u001b[0m \u001b[1;33m=\u001b[0m \u001b[0mdata_class\u001b[0m\u001b[1;33m(\u001b[0m\u001b[0mheader_list\u001b[0m\u001b[1;33m,\u001b[0m \u001b[0mline\u001b[0m\u001b[1;33m)\u001b[0m\u001b[1;33m\u001b[0m\u001b[1;33m\u001b[0m\u001b[0m\n\u001b[0m\u001b[0;32m     18\u001b[0m \u001b[1;33m\u001b[0m\u001b[0m\n\u001b[0;32m     19\u001b[0m         \u001b[1;32mif\u001b[0m \u001b[0mdata\u001b[0m\u001b[1;33m.\u001b[0m\u001b[0mgene_id\u001b[0m\u001b[1;33m.\u001b[0m\u001b[0mstartswith\u001b[0m\u001b[1;33m(\u001b[0m\u001b[1;34m'ENSG'\u001b[0m\u001b[1;33m)\u001b[0m \u001b[1;32mand\u001b[0m \u001b[0mdata\u001b[0m\u001b[1;33m.\u001b[0m\u001b[0mTPM\u001b[0m \u001b[1;33m>\u001b[0m \u001b[1;36m0.5\u001b[0m\u001b[1;33m:\u001b[0m\u001b[1;33m\u001b[0m\u001b[1;33m\u001b[0m\u001b[0m\n",
      "\u001b[1;31mNameError\u001b[0m: name 'data_class' is not defined"
     ]
    }
   ],
   "source": [
    "import urllib.request\n",
    "\n",
    "# variable for URL\n",
    "Quant_File_URL = 'https://www.encodeproject.org/files/ENCFF505TUS/@@download/ENCFF505TUS.tsv'\n",
    "count = 0\n",
    "\n",
    "# open the byte stream for data\n",
    "with urllib.request.urlopen(Quant_File_URL) as inStream:\n",
    "    \n",
    "    header_list = next(inStream).decode('utf-8').rstrip('\\n').split('\\t') ## read one line from inStream\n",
    "    print(header_list)\n",
    "    \n",
    "    # parse the stream line by line\n",
    "    for line in inStream:\n",
    "        # must decode the data into the utf-8 character set\n",
    "        line = line.decode('utf-8').rstrip('\\n').split('\\t')\n",
    "        data = data_class(header_list, line)\n",
    "\n",
    "        if data.gene_id.startswith('ENSG') and data.TPM > 0.5:\n",
    "            if count < 5:\n",
    "                print(data.gene_id, data.TPM, data.TPM_ci_upper_bound, data.pme_TPM, sep='\\t')\n",
    "            count += 1\n"
   ]
  },
  {
   "cell_type": "code",
   "execution_count": null,
   "metadata": {},
   "outputs": [],
   "source": []
  }
 ],
 "metadata": {
  "kernelspec": {
   "display_name": "Python 3",
   "language": "python",
   "name": "python3"
  },
  "language_info": {
   "codemirror_mode": {
    "name": "ipython",
    "version": 3
   },
   "file_extension": ".py",
   "mimetype": "text/x-python",
   "name": "python",
   "nbconvert_exporter": "python",
   "pygments_lexer": "ipython3",
   "version": "3.7.4"
  }
 },
 "nbformat": 4,
 "nbformat_minor": 2
}
