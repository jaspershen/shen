{
 "cells": [
  {
   "cell_type": "markdown",
   "metadata": {},
   "source": [
    "# biopython"
   ]
  },
  {
   "cell_type": "code",
   "execution_count": null,
   "metadata": {},
   "outputs": [],
   "source": [
    "# https://biopython.org/wiki/Download"
   ]
  },
  {
   "cell_type": "markdown",
   "metadata": {},
   "source": [
    "# biopython search of pubmed"
   ]
  },
  {
   "cell_type": "code",
   "execution_count": null,
   "metadata": {},
   "outputs": [],
   "source": [
    "from Bio import SeqIO\n",
    "from Bio.Seq import Seq\n",
    "from Bio import Entrez\n",
    "\n",
    "# NOTE:\n",
    "# Please change to your email address.\n",
    "# NCBI uses this for there logging of the resources use\n",
    "\n",
    "Entrez.email = 'cherry@stanford.edu'\n",
    "\n",
    "with Entrez.einfo() as handle:\n",
    "    record = Entrez.read(handle)\n",
    "\n",
    "print(record['DbList'])"
   ]
  },
  {
   "cell_type": "code",
   "execution_count": null,
   "metadata": {},
   "outputs": [],
   "source": [
    "# search NCBI Pubmed with query as you would do from their web interface\n",
    "with Entrez.esearch(db='pubmed', term='church g[auth] AND cell[journal]') as handle:\n",
    "    records = Entrez.read(handle)\n",
    "    print(records)\n",
    "    print('-------------')\n",
    "    for r_key in records:\n",
    "        print(r_key, ': ', records[r_key])"
   ]
  },
  {
   "cell_type": "code",
   "execution_count": null,
   "metadata": {},
   "outputs": [],
   "source": [
    "# fetch PMIDs returned from search above\n",
    "pubmed_records = len(records['IdList'])\n",
    "print('number of records:', pubmed_records)"
   ]
  },
  {
   "cell_type": "code",
   "execution_count": null,
   "metadata": {},
   "outputs": [],
   "source": [
    "# retrieve papers from search above\n",
    "with Entrez.efetch(db='pubmed', id=records['IdList'][0], retmode='xml') as handle:\n",
    "    data = Entrez.read(handle)\n",
    "print(data)"
   ]
  },
  {
   "cell_type": "code",
   "execution_count": null,
   "metadata": {},
   "outputs": [],
   "source": [
    "# XML format is complex and takes time to work through to extract what you want\n",
    "for i in range(pubmed_records):\n",
    "    with Entrez.efetch(db='pubmed', id=records['IdList'][i], retmode='xml') as handle:\n",
    "        data = Entrez.read(handle)\n",
    "        for y in data['PubmedArticle'][0]['MedlineCitation']:\n",
    "            #print(y)\n",
    "            if y == 'PMID':\n",
    "                print(y, ':', data['PubmedArticle'][0]['MedlineCitation'][y], '\\n')\n",
    "            if y == 'Article':\n",
    "                for x in data['PubmedArticle'][0]['MedlineCitation'][y]:\n",
    "                    #print(x)\n",
    "                    if x in ['Journal', 'ArticleTitle', 'Abstract']:\n",
    "                        print(x, ':', data['PubmedArticle'][0]['MedlineCitation']['Article'][x], '\\n')\n",
    "        "
   ]
  },
  {
   "cell_type": "code",
   "execution_count": null,
   "metadata": {},
   "outputs": [],
   "source": []
  },
  {
   "cell_type": "code",
   "execution_count": null,
   "metadata": {},
   "outputs": [],
   "source": [
    "# can search any of the NCBI databases listed in the einfo command above\n",
    "with Entrez.esearch(db='snp', term='rs328') as handle:\n",
    "    records = Entrez.read(handle)\n",
    "    print(records)\n",
    "    print('-------------')\n",
    "    for r_key in records:\n",
    "        print(r_key, ': ', records[r_key])"
   ]
  },
  {
   "cell_type": "code",
   "execution_count": null,
   "metadata": {},
   "outputs": [],
   "source": [
    "# optional, can use this module to parse return XML\n",
    "import xmltodict\n",
    "# conda xmltodict"
   ]
  },
  {
   "cell_type": "code",
   "execution_count": null,
   "metadata": {},
   "outputs": [],
   "source": [
    "# https://www.ncbi.nlm.nih.gov/snp/rs328\n",
    "# https://eutils.ncbi.nlm.nih.gov/entrez/eutils/efetch.fcgi?db=snp&id=rs328&report=XML\n",
    "\n",
    "with Entrez.efetch(db='snp', id='52834251', retmode='xml') as handle:\n",
    "    #print(handle.read())\n",
    "    snp_dict = xmltodict.parse(handle.read())\n",
    "for i in snp_dict['ExchangeSet']['DocumentSummary']:\n",
    "    print(i, ':', snp_dict['ExchangeSet']['DocumentSummary'][i])"
   ]
  },
  {
   "cell_type": "code",
   "execution_count": null,
   "metadata": {},
   "outputs": [],
   "source": []
  },
  {
   "cell_type": "markdown",
   "metadata": {},
   "source": [
    "# biopython Bio.Seq"
   ]
  },
  {
   "cell_type": "code",
   "execution_count": null,
   "metadata": {},
   "outputs": [],
   "source": [
    "# biopython sequences\n",
    "# https://blast.ncbi.nlm.nih.gov/Blast.cgi?CMD=Web&PAGE_TYPE=BlastDocs&DOC_TYPE=BlastHelp"
   ]
  },
  {
   "cell_type": "code",
   "execution_count": null,
   "metadata": {},
   "outputs": [],
   "source": [
    "# class of objects for sequences\n",
    "from Bio.Alphabet import IUPAC\n",
    "from Bio.Seq import Seq\n",
    "\n",
    "my_seq = Seq('GATCGATGGGCCTATATAGGATCGAAAATCGC', IUPAC.unambiguous_dna)\n",
    "my_seq"
   ]
  },
  {
   "cell_type": "code",
   "execution_count": null,
   "metadata": {},
   "outputs": [],
   "source": [
    "# basic sequence as biopython Seq object\n",
    "print(my_seq)\n",
    "my_seq.find('TATATAG')"
   ]
  },
  {
   "cell_type": "code",
   "execution_count": null,
   "metadata": {},
   "outputs": [],
   "source": [
    "# Seq object\n",
    "my_seq[4:12]"
   ]
  },
  {
   "cell_type": "code",
   "execution_count": null,
   "metadata": {},
   "outputs": [],
   "source": [
    "# just like str\n",
    "type(my_seq[4:12])"
   ]
  },
  {
   "cell_type": "code",
   "execution_count": null,
   "metadata": {},
   "outputs": [],
   "source": [
    "# just like str\n",
    "print(my_seq[4:12])"
   ]
  },
  {
   "cell_type": "code",
   "execution_count": null,
   "metadata": {},
   "outputs": [],
   "source": []
  },
  {
   "cell_type": "code",
   "execution_count": null,
   "metadata": {},
   "outputs": [],
   "source": [
    "# amino acid sequence too\n",
    "protein_seq = Seq('EVRNAK', IUPAC.protein)\n",
    "protein_seq"
   ]
  },
  {
   "cell_type": "code",
   "execution_count": null,
   "metadata": {},
   "outputs": [],
   "source": [
    "# alphabet has been specified and biopython will not let two\n",
    "# different alphabets to be combined\n",
    "# new_seq = protein_seq + dna_seq # uncomment"
   ]
  },
  {
   "cell_type": "code",
   "execution_count": null,
   "metadata": {},
   "outputs": [],
   "source": [
    "# can have mutable string like object\n",
    "from Bio.Seq import MutableSeq\n",
    "\n",
    "mutable_seq = MutableSeq('GATCGATGGGCCTATATAGGATCGAAAATCGCGATCG')"
   ]
  },
  {
   "cell_type": "code",
   "execution_count": null,
   "metadata": {},
   "outputs": [],
   "source": [
    "# mutable, unlike a str\n",
    "print(mutable_seq)\n",
    "\n",
    "mutable_seq[4] = 'C'\n",
    "print(mutable_seq)\n",
    "\n",
    "mutable_seq[3] = 'T'\n",
    "print(mutable_seq)\n",
    "\n",
    "mutable_seq.remove('G')\n",
    "print(mutable_seq)\n",
    "\n",
    "mutable_seq.reverse()\n",
    "print(mutable_seq)"
   ]
  },
  {
   "cell_type": "code",
   "execution_count": null,
   "metadata": {},
   "outputs": [],
   "source": [
    "# str is not mutable\n",
    "new_seq = mutable_seq.toseq()\n",
    "#new_seq[3] = 'G' # uncomment"
   ]
  },
  {
   "cell_type": "code",
   "execution_count": null,
   "metadata": {},
   "outputs": [],
   "source": [
    "# parse files with multiple sequences\n",
    "# including GenBank format\n",
    "from Bio import SeqIO\n",
    "from Bio.Seq import Seq\n",
    "\n",
    "seqs = {}\n",
    "\n",
    "# read genbank formated sequences from NCBI\n",
    "# this file has multiple records\n",
    "for seq_record in SeqIO.parse('ls_orchid.gbk', 'genbank'):\n",
    "    seqs.update({seq_record.id: [seq_record.description, seq_record.seq]})"
   ]
  },
  {
   "cell_type": "code",
   "execution_count": null,
   "metadata": {},
   "outputs": [],
   "source": [
    "seqs.keys()"
   ]
  },
  {
   "cell_type": "code",
   "execution_count": null,
   "metadata": {},
   "outputs": [],
   "source": [
    "# what was parsed\n",
    "for each in seqs:\n",
    "    print(each, 'length =', len(seqs[each][1]))\n",
    "    print(seqs[each][0])\n",
    "    print(seqs[each][1][:50], '...', seqs[each][1][len(seqs[each])-50:])\n",
    "    print()\n",
    "    #print(seqs[each][2])"
   ]
  },
  {
   "cell_type": "code",
   "execution_count": null,
   "metadata": {},
   "outputs": [],
   "source": [
    "# print one full records\n",
    "print(seq_record)"
   ]
  },
  {
   "cell_type": "code",
   "execution_count": null,
   "metadata": {},
   "outputs": [],
   "source": [
    "# print one full records\n",
    "print(seq_record.seq)"
   ]
  },
  {
   "cell_type": "code",
   "execution_count": null,
   "metadata": {},
   "outputs": [],
   "source": [
    "# complement seq that was loaded, key is name of loaded sequence\n",
    "print( '\\nComplement:', seqs['Z78523.1'][1].complement() )"
   ]
  },
  {
   "cell_type": "code",
   "execution_count": null,
   "metadata": {},
   "outputs": [],
   "source": [
    "# convert T to U\n",
    "print( '\\nTranscribe:', seqs['Z78523.1'][1].transcribe() )"
   ]
  },
  {
   "cell_type": "code",
   "execution_count": null,
   "metadata": {},
   "outputs": [],
   "source": [
    "# translate to protein\n",
    "print( '\\nTranslate:', seqs['Z78523.1'][1].translate(table='Vertebrate Mitochondrial') )\n",
    "\n",
    "# ignore warning"
   ]
  },
  {
   "cell_type": "code",
   "execution_count": null,
   "metadata": {},
   "outputs": [],
   "source": [
    "# specify specific codon usage table\n",
    "print( '\\nTranslate Bacterial:', seqs['Z78523.1'][1].translate(table='Bacterial') )"
   ]
  },
  {
   "cell_type": "code",
   "execution_count": null,
   "metadata": {},
   "outputs": [],
   "source": [
    "# parse clustalW formated results\n",
    "# these are from clustalw on rice; /afs/ir.stanford.edu/class/gene211/bin/clustalw2"
   ]
  },
  {
   "cell_type": "code",
   "execution_count": null,
   "metadata": {},
   "outputs": [],
   "source": [
    "from Bio import AlignIO\n",
    "align = AlignIO.read(\"opuntia.aln\", \"clustal\")\n",
    "print(type(align), dir(align), sep='\\n')\n",
    "print()\n",
    "print(type(align[0]), dir(align[0]), sep='\\n')"
   ]
  },
  {
   "cell_type": "code",
   "execution_count": null,
   "metadata": {},
   "outputs": [],
   "source": [
    "for each in range(len(align)):\n",
    "    print(align[each].id, align[each].seq, sep='\\n')"
   ]
  },
  {
   "cell_type": "code",
   "execution_count": null,
   "metadata": {},
   "outputs": [],
   "source": [
    "print(align.get_alignment_length())\n",
    "print()\n",
    "print(align.column_annotations)"
   ]
  },
  {
   "cell_type": "code",
   "execution_count": null,
   "metadata": {},
   "outputs": [],
   "source": [
    "# parse and display dna file formated by clustalw2 on rice\n",
    "from Bio import Phylo\n",
    "tree = Phylo.read(\"opuntia.dnd\", \"newick\")\n",
    "Phylo.draw_ascii(tree)"
   ]
  },
  {
   "cell_type": "code",
   "execution_count": null,
   "metadata": {},
   "outputs": [],
   "source": []
  },
  {
   "cell_type": "code",
   "execution_count": null,
   "metadata": {},
   "outputs": [],
   "source": [
    "# similar parse output of muscle multiple sequence alignment program on rice\n",
    "# /usr/bin/muscle\n",
    "from Bio import AlignIO\n",
    "align = AlignIO.read(\"opuntia.muscle.aln\", \"clustal\")\n",
    "print(align)\n",
    "print()\n",
    "print(align[0])"
   ]
  },
  {
   "cell_type": "code",
   "execution_count": null,
   "metadata": {},
   "outputs": [],
   "source": [
    "# go through what was parsed out of these files\n",
    "# can be very helpful to use the results in a script\n",
    "align[0].id"
   ]
  },
  {
   "cell_type": "code",
   "execution_count": null,
   "metadata": {},
   "outputs": [],
   "source": [
    "align[1].id"
   ]
  },
  {
   "cell_type": "code",
   "execution_count": null,
   "metadata": {},
   "outputs": [],
   "source": [
    "align[0].seq"
   ]
  },
  {
   "cell_type": "code",
   "execution_count": null,
   "metadata": {},
   "outputs": [],
   "source": [
    "print(align[0].seq)"
   ]
  },
  {
   "cell_type": "code",
   "execution_count": null,
   "metadata": {},
   "outputs": [],
   "source": [
    "align[0].seq.reverse_complement()"
   ]
  },
  {
   "cell_type": "code",
   "execution_count": null,
   "metadata": {},
   "outputs": [],
   "source": [
    "print(align[0].seq.reverse_complement())"
   ]
  },
  {
   "cell_type": "code",
   "execution_count": null,
   "metadata": {},
   "outputs": [],
   "source": [
    "# other file formats that can be used with biopython\n",
    "\n",
    "# from Bio.PDB.PDBParser import PDBParser\n",
    "# from Bio import ExPASy\n",
    "# from Bio.PopGen import GenePop\n",
    "# from Bio import Phylo"
   ]
  },
  {
   "cell_type": "code",
   "execution_count": null,
   "metadata": {},
   "outputs": [],
   "source": [
    "# read genbank formated file and shuffle\n",
    "from Bio import SeqIO\n",
    "original_rec = SeqIO.read(\"Z78533.gb\", \"genbank\")\n",
    "\n",
    "import random\n",
    "nuc_list = list(original_rec.seq)\n",
    "shuffled_rec = random.shuffle(nuc_list)  # acts in situ!\n",
    "print(nuc_list)"
   ]
  },
  {
   "cell_type": "code",
   "execution_count": null,
   "metadata": {},
   "outputs": [],
   "source": [
    "# put shuffled sequenced back together again\n",
    "shuffled_rec = ''.join(nuc_list)\n",
    "print('shuffled:', shuffled_rec)\n",
    "print()\n",
    "print('original:', original_rec.seq)"
   ]
  },
  {
   "cell_type": "code",
   "execution_count": null,
   "metadata": {},
   "outputs": [],
   "source": []
  },
  {
   "cell_type": "code",
   "execution_count": null,
   "metadata": {},
   "outputs": [],
   "source": [
    "#https://biopython.readthedocs.io/en/latest/Tutorial/chapter_cookbook.html"
   ]
  },
  {
   "cell_type": "code",
   "execution_count": null,
   "metadata": {},
   "outputs": [],
   "source": [
    "# working with sequencing data from fastq\n",
    "# big files\n",
    "\n",
    "from Bio import SeqIO\n",
    "count = 0\n",
    "fastq_records = SeqIO.parse('YJM244_SRR800767.fastq', 'fastq')\n",
    "for rec in fastq_records:\n",
    "    count += 1\n",
    "print(\"%i reads\" % count)"
   ]
  },
  {
   "cell_type": "code",
   "execution_count": null,
   "metadata": {},
   "outputs": [],
   "source": [
    "# limit reads to only those with quality score > 20\n",
    "\n",
    "good_reads = (rec for rec in \\\n",
    "              SeqIO.parse('YJM244_SRR800767.fastq', 'fastq') \\\n",
    "              if min(rec.letter_annotations['phred_quality']) >= 20)\n",
    "count = SeqIO.write(good_reads, 'good_quality.fastq', 'fastq')\n",
    "print('Saved %i reads' % count)"
   ]
  },
  {
   "cell_type": "code",
   "execution_count": null,
   "metadata": {},
   "outputs": [],
   "source": [
    "# output only sequences with primer sequence\n",
    "from Bio import SeqIO\n",
    "primer_reads = (rec for rec in \\\n",
    "                SeqIO.parse('YJM244_SRR800767.fastq', 'fastq') \\\n",
    "                #if rec.seq.startswith(\"GATGACGGTGT\"))\n",
    "                if rec.seq.startswith('TATATATATA'))\n",
    "count = SeqIO.write(primer_reads, 'with_primer.fastq', 'fastq')\n",
    "print('Saved %i reads' % count)"
   ]
  },
  {
   "cell_type": "code",
   "execution_count": null,
   "metadata": {},
   "outputs": [],
   "source": []
  },
  {
   "cell_type": "code",
   "execution_count": null,
   "metadata": {},
   "outputs": [],
   "source": [
    "#from Bio import Translate"
   ]
  },
  {
   "cell_type": "code",
   "execution_count": null,
   "metadata": {},
   "outputs": [],
   "source": [
    "from Bio import SeqIO\n",
    "from Bio.Seq import Seq\n",
    "from Bio import Entrez\n",
    "Entrez.email = 'cherry@stanford.edu'\n",
    "\n",
    "#seqs = {}\n",
    "\n",
    "#for seq_record in SeqIO.parse('ls_orchid.gbk', 'genbank'):\n",
    "#    seqs.update({seq_record.id: seq_record.seq})\n",
    "\n",
    "with Entrez.efetch(db='nucleotide', rettype='gb', retmode='text', id='6273291') as handle:\n",
    "    seq_record = SeqIO.read(handle, 'gb')"
   ]
  },
  {
   "cell_type": "code",
   "execution_count": null,
   "metadata": {},
   "outputs": [],
   "source": [
    "print('{} with {} features'.format(seq_record.id, len(seq_record.features)))\n",
    "print(seq_record.features)"
   ]
  },
  {
   "cell_type": "code",
   "execution_count": null,
   "metadata": {
    "scrolled": true
   },
   "outputs": [],
   "source": [
    "print('\\nFEATURES:', seq_record.features)\n",
    "print()\n",
    "\n",
    "with Entrez.efetch(db='nucleotide', rettype='gb', retmode='text',\n",
    "    id='6273291,6273290,6273289') as handle:\n",
    "    for seq_record in SeqIO.parse(handle, \"gb\"):\n",
    "        print('%s %s' % (seq_record.id, seq_record.description))\n",
    "        print('\\tSequence length {}, {} features, from: {}'.format(len(seq_record),\n",
    "                len(seq_record.features), seq_record.annotations['source']))"
   ]
  },
  {
   "cell_type": "code",
   "execution_count": null,
   "metadata": {},
   "outputs": [],
   "source": []
  },
  {
   "cell_type": "code",
   "execution_count": null,
   "metadata": {},
   "outputs": [],
   "source": [
    "# biopython BLAST"
   ]
  },
  {
   "cell_type": "code",
   "execution_count": null,
   "metadata": {},
   "outputs": [],
   "source": [
    "# adding time so you know whats going on\n",
    "# this is a search happening at NCBI\n",
    "from Bio.Blast import NCBIWWW\n",
    "import datetime\n",
    "\n",
    "print ('Starting remote BLAST:', datetime.datetime.now())\n",
    "\n",
    "with NCBIWWW.qblast('blastn', 'nt', seqs['Z78523.1']) as result_handle:\n",
    "    with open('my_blast.xml', 'w') as out_handle:\n",
    "        out_handle.write(result_handle.read())\n",
    "\n",
    "print ('BLAST complete:', datetime.datetime.now())"
   ]
  },
  {
   "cell_type": "code",
   "execution_count": null,
   "metadata": {},
   "outputs": [],
   "source": [
    "# my_blast.xml file was stored from BLAST search\n",
    "# now parsing through that XML file\n",
    "from Bio import SearchIO\n",
    "blast_qresult = SearchIO.read('my_blast.xml', 'blast-xml')\n",
    "print(blast_qresult)"
   ]
  },
  {
   "cell_type": "code",
   "execution_count": null,
   "metadata": {},
   "outputs": [],
   "source": [
    "# could parse the XML file again\n",
    "# qresult = next(SearchIO.parse('my_blast.xml', 'blast-xml'))\n",
    "# fragment = qresult[0][0][0]\n",
    "fragment = blast_qresult[0][0][0]\n",
    "print('FRAGMENT:', fragment)\n",
    "print()\n",
    "print('QUERY:', fragment.query)\n",
    "print()\n",
    "print('HIT:', fragment.hit)\n",
    "print()\n",
    "print('ALN:', fragment.aln)\n",
    "print()\n",
    "print('HIT_SPAN:', fragment.hit_span)\n",
    "print()\n",
    "print('HIT_RANGE:', fragment.hit_range)\n",
    "print()\n",
    "print('HIT_START:', fragment.hit_start)\n",
    "print()\n",
    "print('HIT_END:', fragment.hit_end)"
   ]
  },
  {
   "cell_type": "code",
   "execution_count": null,
   "metadata": {},
   "outputs": [],
   "source": [
    "#fragment = qresult[0][0][0]   # first hit, first hsp, first fragment\n",
    "print('QUERY:', list(fragment.query))\n",
    "print()\n",
    "print('HIT:', list(fragment.hit))\n",
    "print()\n",
    "print('ALN:', list(fragment.aln))\n",
    "print()\n",
    "print('HIT_SPAN:', fragment.hit_span)\n",
    "print()\n",
    "print('HIT_RANGE:', fragment.hit_range)\n",
    "print()\n",
    "print('HIT_START:', fragment.hit_start)\n",
    "print()\n",
    "print('HIT_END:', fragment.hit_end)\n",
    "print()\n",
    "print('FRAGMENT:', list(fragment))"
   ]
  },
  {
   "cell_type": "code",
   "execution_count": null,
   "metadata": {},
   "outputs": [],
   "source": [
    "hit_cnt = 0\n",
    "for hit in blast_qresult:\n",
    "    hit_cnt += 1\n",
    "    print('#' + str(hit_cnt), hit)"
   ]
  },
  {
   "cell_type": "code",
   "execution_count": null,
   "metadata": {},
   "outputs": [],
   "source": [
    "# can create now output from all the info in the XML file\n",
    "from Bio.Blast import NCBIXML\n",
    "\n",
    "with open('my_blast.xml', 'r') as parse_handle:\n",
    "\n",
    "    blast_records = NCBIXML.parse(parse_handle)\n",
    "\n",
    "    EXPECT_VALUE = 0.04\n",
    "    ALIGNMENT_PRINT_LIMIT = 4\n",
    "\n",
    "    alignment_count = 0\n",
    "        \n",
    "    for blast_record in blast_records:\n",
    "        for alignment in blast_record.alignments:\n",
    "            for hsp in alignment.hsps:\n",
    "                if hsp.expect < EXPECT_VALUE:\n",
    "                    alignment_count += 1\n",
    "                    print('')\n",
    "                    for x in range(0, len(alignment.title), 70):\n",
    "                        print(alignment.title[x:x+70])\n",
    "                    print('Length:', alignment.length)\n",
    "                    print('E-value:', hsp.expect)\n",
    "                    print(hsp.query[0:75] + '...')\n",
    "                    print(hsp.match[0:75] + '...')\n",
    "                    print(hsp.sbjct[0:75] + '...')\n",
    "                print('hsp expect =', hsp.expect)\n",
    "            if alignment_count > ALIGNMENT_PRINT_LIMIT:\n",
    "                break"
   ]
  },
  {
   "cell_type": "code",
   "execution_count": null,
   "metadata": {},
   "outputs": [],
   "source": [
    "# more output formating\n",
    "\n",
    "with open('my_blast.xml', 'r') as parse_handle:\n",
    "\n",
    "    blast_records = NCBIXML.parse(parse_handle)\n",
    "\n",
    "    EXPECT_VALUE = 0.04\n",
    "    ALIGNMENT_PRINT_LIMIT = 4\n",
    "\n",
    "    alignment_count = 0\n",
    "        \n",
    "    for blast_record in blast_records:\n",
    "        for alignment in blast_record.alignments:\n",
    "            print('ALIGNMENT', alignment)\n",
    "            for hsp in alignment.hsps:\n",
    "                print('hsp', alignment.hsps)\n",
    "                if hsp.expect < EXPECT_VALUE:\n",
    "                    alignment_count += 1\n",
    "                    print('')\n",
    "                    print(alignment.title[:75] + '...')\n",
    "                    print('Length:', alignment.length)\n",
    "                    print('E-value:', hsp.expect)\n",
    "                    for x in range(0, len(hsp.query), 75):\n",
    "                        print(hsp.query[x:x+75])\n",
    "                        print(hsp.match[x:x+75])\n",
    "                        print(hsp.sbjct[x:x+75])\n",
    "                        print('')\n",
    "                else:\n",
    "                    print('expect', hsp.expect)\n",
    "                    print()\n",
    "                    \n",
    "            if alignment_count > ALIGNMENT_PRINT_LIMIT:\n",
    "                break"
   ]
  },
  {
   "cell_type": "code",
   "execution_count": null,
   "metadata": {},
   "outputs": [],
   "source": []
  }
 ],
 "metadata": {
  "kernelspec": {
   "display_name": "Python 3",
   "language": "python",
   "name": "python3"
  },
  "language_info": {
   "codemirror_mode": {
    "name": "ipython",
    "version": 3
   },
   "file_extension": ".py",
   "mimetype": "text/x-python",
   "name": "python",
   "nbconvert_exporter": "python",
   "pygments_lexer": "ipython3",
   "version": "3.7.4"
  },
  "name": "_merged"
 },
 "nbformat": 4,
 "nbformat_minor": 2
}
