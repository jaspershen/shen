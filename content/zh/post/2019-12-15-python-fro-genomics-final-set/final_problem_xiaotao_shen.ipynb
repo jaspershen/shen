{
 "cells": [
  {
   "cell_type": "markdown",
   "metadata": {},
   "source": [
    "\n",
    "Problem Set #3\n",
    "\n",
    "The last problem set is free form and gives you a chance to design a script using the data files on RNA-seq quantification and GENCODE from last week, or use some other data that you find interesting. There are four requirements for your analysis:\n",
    "\n",
    "1. Use Python to process the data.  The point is to use Python, not necessarily to conduct a significant scientific analysis.\n",
    "\n",
    "2. Create at least one graphic with matplotlib, seaborn or plotly.\n",
    "\n",
    "3. Use pandas for part of your data processing, more than just reading in a TSV.\n",
    "\n",
    "4. Do all of this in a Jupyter notebook, although if you need to use a command line tool for part of the data processing that is okay.\n",
    "\n",
    "Using docstring at the beginning of your script to provide a short description of the logic of your script as we’ll not necessarily know the data you are using and the point of the script. Include inline comments as appropriate.  Include a description of the information you graphed as a comment near the graph generation code. \n",
    "\n",
    "Submit three files: your .ipynb file with inline output, HTML version of the notebook, and upload at least one image your script created. Upload an image file created from the script, not a screen capture. We DO NOT want the data files, these are often very large. The notebook file will show us enough so we can see the intermediate processing.\n",
    "\n",
    "-Mike"
   ]
  },
  {
   "cell_type": "code",
   "execution_count": 1,
   "metadata": {},
   "outputs": [
    {
     "data": {
      "text/plain": [
       "'D:\\\\my github\\\\shen\\\\content\\\\en\\\\post\\\\2019-12-15-python-fro-genomics-final-set'"
      ]
     },
     "execution_count": 1,
     "metadata": {},
     "output_type": "execute_result"
    }
   ],
   "source": [
    "'''\n",
    "I just want to know the different expression genes between sigmoid colon and stomach.\n",
    "'''\n",
    "import os as os\n",
    "os.getcwd()"
   ]
  },
  {
   "cell_type": "code",
   "execution_count": 2,
   "metadata": {},
   "outputs": [
    {
     "data": {
      "text/plain": [
       "['.ipynb_checkpoints',\n",
       " 'BIOS274-2019-PS2-description.pdf',\n",
       " 'ENCFF016CBS.tsv',\n",
       " 'example_URL_code.ipynb',\n",
       " 'final_problem_xiaotao_shen.ipynb',\n",
       " 'output_file',\n",
       " 'Problem_Set2_Part1_Xiaotao_Shen.ipynb',\n",
       " 'ps2_gencode_url.tsv',\n",
       " 'ps2_gene_quant_URLs.tsv',\n",
       " 'Xiaotao Shen code for problem set2.ipynb']"
      ]
     },
     "execution_count": 2,
     "metadata": {},
     "output_type": "execute_result"
    }
   ],
   "source": [
    "os.listdir()"
   ]
  },
  {
   "cell_type": "code",
   "execution_count": 3,
   "metadata": {},
   "outputs": [],
   "source": [
    "import numpy as np\n",
    "import pandas as pd"
   ]
  },
  {
   "cell_type": "code",
   "execution_count": 4,
   "metadata": {},
   "outputs": [
    {
     "data": {
      "text/html": [
       "<div>\n",
       "<style scoped>\n",
       "    .dataframe tbody tr th:only-of-type {\n",
       "        vertical-align: middle;\n",
       "    }\n",
       "\n",
       "    .dataframe tbody tr th {\n",
       "        vertical-align: top;\n",
       "    }\n",
       "\n",
       "    .dataframe thead th {\n",
       "        text-align: right;\n",
       "    }\n",
       "</style>\n",
       "<table border=\"1\" class=\"dataframe\">\n",
       "  <thead>\n",
       "    <tr style=\"text-align: right;\">\n",
       "      <th></th>\n",
       "      <th>0</th>\n",
       "      <th>1</th>\n",
       "      <th>2</th>\n",
       "    </tr>\n",
       "  </thead>\n",
       "  <tbody>\n",
       "    <tr>\n",
       "      <th>0</th>\n",
       "      <td>ENCFF016CBS</td>\n",
       "      <td>omental fat pad</td>\n",
       "      <td>https://www.encodeproject.org/files/ENCFF016CB...</td>\n",
       "    </tr>\n",
       "    <tr>\n",
       "      <th>1</th>\n",
       "      <td>ENCFF365ZMW</td>\n",
       "      <td>sigmoid colon</td>\n",
       "      <td>https://www.encodeproject.org/files/ENCFF365ZM...</td>\n",
       "    </tr>\n",
       "    <tr>\n",
       "      <th>2</th>\n",
       "      <td>ENCFF408GFZ</td>\n",
       "      <td>subcutaneous adipose tissue</td>\n",
       "      <td>https://www.encodeproject.org/files/ENCFF408GF...</td>\n",
       "    </tr>\n",
       "    <tr>\n",
       "      <th>3</th>\n",
       "      <td>ENCFF505TUS</td>\n",
       "      <td>prostate gland</td>\n",
       "      <td>https://www.encodeproject.org/files/ENCFF505TU...</td>\n",
       "    </tr>\n",
       "    <tr>\n",
       "      <th>4</th>\n",
       "      <td>ENCFF633OSJ</td>\n",
       "      <td>suprapubic skin</td>\n",
       "      <td>https://www.encodeproject.org/files/ENCFF633OS...</td>\n",
       "    </tr>\n",
       "    <tr>\n",
       "      <th>5</th>\n",
       "      <td>ENCFF862LZL</td>\n",
       "      <td>heart left ventricle</td>\n",
       "      <td>https://www.encodeproject.org/files/ENCFF862LZ...</td>\n",
       "    </tr>\n",
       "    <tr>\n",
       "      <th>6</th>\n",
       "      <td>ENCFF863ERP</td>\n",
       "      <td>testis</td>\n",
       "      <td>https://www.encodeproject.org/files/ENCFF863ER...</td>\n",
       "    </tr>\n",
       "    <tr>\n",
       "      <th>7</th>\n",
       "      <td>ENCFF916ODF</td>\n",
       "      <td>vagina</td>\n",
       "      <td>https://www.encodeproject.org/files/ENCFF916OD...</td>\n",
       "    </tr>\n",
       "    <tr>\n",
       "      <th>8</th>\n",
       "      <td>ENCFF918KPC</td>\n",
       "      <td>stomach</td>\n",
       "      <td>https://www.encodeproject.org/files/ENCFF918KP...</td>\n",
       "    </tr>\n",
       "  </tbody>\n",
       "</table>\n",
       "</div>"
      ],
      "text/plain": [
       "             0                            1  \\\n",
       "0  ENCFF016CBS              omental fat pad   \n",
       "1  ENCFF365ZMW                sigmoid colon   \n",
       "2  ENCFF408GFZ  subcutaneous adipose tissue   \n",
       "3  ENCFF505TUS               prostate gland   \n",
       "4  ENCFF633OSJ              suprapubic skin   \n",
       "5  ENCFF862LZL         heart left ventricle   \n",
       "6  ENCFF863ERP                       testis   \n",
       "7  ENCFF916ODF                       vagina   \n",
       "8  ENCFF918KPC                      stomach   \n",
       "\n",
       "                                                   2  \n",
       "0  https://www.encodeproject.org/files/ENCFF016CB...  \n",
       "1  https://www.encodeproject.org/files/ENCFF365ZM...  \n",
       "2  https://www.encodeproject.org/files/ENCFF408GF...  \n",
       "3  https://www.encodeproject.org/files/ENCFF505TU...  \n",
       "4  https://www.encodeproject.org/files/ENCFF633OS...  \n",
       "5  https://www.encodeproject.org/files/ENCFF862LZ...  \n",
       "6  https://www.encodeproject.org/files/ENCFF863ER...  \n",
       "7  https://www.encodeproject.org/files/ENCFF916OD...  \n",
       "8  https://www.encodeproject.org/files/ENCFF918KP...  "
      ]
     },
     "execution_count": 4,
     "metadata": {},
     "output_type": "execute_result"
    }
   ],
   "source": [
    "ps2_gene_quant_url = pd.read_csv(\"ps2_gene_quant_URLs.tsv\", sep='\\t', header = None)\n",
    "ps2_gene_quant_url"
   ]
  },
  {
   "cell_type": "markdown",
   "metadata": {},
   "source": [
    "## Read sigmoid colon and stomach gene expression data"
   ]
  },
  {
   "cell_type": "code",
   "execution_count": 5,
   "metadata": {},
   "outputs": [],
   "source": [
    "sigmoid_colon_data = pd.read_csv(list(ps2_gene_quant_url.iloc[1])[2], sep = '\\t')"
   ]
  },
  {
   "cell_type": "code",
   "execution_count": 6,
   "metadata": {},
   "outputs": [],
   "source": [
    "stomach_data = pd.read_csv(list(ps2_gene_quant_url.iloc[8])[2], sep = '\\t')"
   ]
  },
  {
   "cell_type": "code",
   "execution_count": 7,
   "metadata": {},
   "outputs": [
    {
     "data": {
      "text/html": [
       "<div>\n",
       "<style scoped>\n",
       "    .dataframe tbody tr th:only-of-type {\n",
       "        vertical-align: middle;\n",
       "    }\n",
       "\n",
       "    .dataframe tbody tr th {\n",
       "        vertical-align: top;\n",
       "    }\n",
       "\n",
       "    .dataframe thead th {\n",
       "        text-align: right;\n",
       "    }\n",
       "</style>\n",
       "<table border=\"1\" class=\"dataframe\">\n",
       "  <thead>\n",
       "    <tr style=\"text-align: right;\">\n",
       "      <th></th>\n",
       "      <th>gene_id</th>\n",
       "      <th>transcript_id(s)</th>\n",
       "      <th>length</th>\n",
       "      <th>effective_length</th>\n",
       "      <th>expected_count</th>\n",
       "      <th>TPM</th>\n",
       "      <th>FPKM</th>\n",
       "      <th>posterior_mean_count</th>\n",
       "      <th>posterior_standard_deviation_of_count</th>\n",
       "      <th>pme_TPM</th>\n",
       "      <th>pme_FPKM</th>\n",
       "      <th>TPM_ci_lower_bound</th>\n",
       "      <th>TPM_ci_upper_bound</th>\n",
       "      <th>FPKM_ci_lower_bound</th>\n",
       "      <th>FPKM_ci_upper_bound</th>\n",
       "    </tr>\n",
       "  </thead>\n",
       "  <tbody>\n",
       "    <tr>\n",
       "      <th>0</th>\n",
       "      <td>10904</td>\n",
       "      <td>10904</td>\n",
       "      <td>93.0</td>\n",
       "      <td>0.0</td>\n",
       "      <td>0.0</td>\n",
       "      <td>0.0</td>\n",
       "      <td>0.0</td>\n",
       "      <td>0.0</td>\n",
       "      <td>0.0</td>\n",
       "      <td>0.0</td>\n",
       "      <td>0.0</td>\n",
       "      <td>0.0</td>\n",
       "      <td>0.0</td>\n",
       "      <td>0.0</td>\n",
       "      <td>0.0</td>\n",
       "    </tr>\n",
       "    <tr>\n",
       "      <th>1</th>\n",
       "      <td>12954</td>\n",
       "      <td>12954</td>\n",
       "      <td>94.0</td>\n",
       "      <td>0.0</td>\n",
       "      <td>0.0</td>\n",
       "      <td>0.0</td>\n",
       "      <td>0.0</td>\n",
       "      <td>0.0</td>\n",
       "      <td>0.0</td>\n",
       "      <td>0.0</td>\n",
       "      <td>0.0</td>\n",
       "      <td>0.0</td>\n",
       "      <td>0.0</td>\n",
       "      <td>0.0</td>\n",
       "      <td>0.0</td>\n",
       "    </tr>\n",
       "    <tr>\n",
       "      <th>2</th>\n",
       "      <td>12956</td>\n",
       "      <td>12956</td>\n",
       "      <td>72.0</td>\n",
       "      <td>0.0</td>\n",
       "      <td>0.0</td>\n",
       "      <td>0.0</td>\n",
       "      <td>0.0</td>\n",
       "      <td>0.0</td>\n",
       "      <td>0.0</td>\n",
       "      <td>0.0</td>\n",
       "      <td>0.0</td>\n",
       "      <td>0.0</td>\n",
       "      <td>0.0</td>\n",
       "      <td>0.0</td>\n",
       "      <td>0.0</td>\n",
       "    </tr>\n",
       "    <tr>\n",
       "      <th>3</th>\n",
       "      <td>12958</td>\n",
       "      <td>12958</td>\n",
       "      <td>82.0</td>\n",
       "      <td>0.0</td>\n",
       "      <td>0.0</td>\n",
       "      <td>0.0</td>\n",
       "      <td>0.0</td>\n",
       "      <td>0.0</td>\n",
       "      <td>0.0</td>\n",
       "      <td>0.0</td>\n",
       "      <td>0.0</td>\n",
       "      <td>0.0</td>\n",
       "      <td>0.0</td>\n",
       "      <td>0.0</td>\n",
       "      <td>0.0</td>\n",
       "    </tr>\n",
       "    <tr>\n",
       "      <th>4</th>\n",
       "      <td>12960</td>\n",
       "      <td>12960</td>\n",
       "      <td>73.0</td>\n",
       "      <td>0.0</td>\n",
       "      <td>0.0</td>\n",
       "      <td>0.0</td>\n",
       "      <td>0.0</td>\n",
       "      <td>0.0</td>\n",
       "      <td>0.0</td>\n",
       "      <td>0.0</td>\n",
       "      <td>0.0</td>\n",
       "      <td>0.0</td>\n",
       "      <td>0.0</td>\n",
       "      <td>0.0</td>\n",
       "      <td>0.0</td>\n",
       "    </tr>\n",
       "  </tbody>\n",
       "</table>\n",
       "</div>"
      ],
      "text/plain": [
       "  gene_id transcript_id(s)  length  effective_length  expected_count  TPM  \\\n",
       "0   10904            10904    93.0               0.0             0.0  0.0   \n",
       "1   12954            12954    94.0               0.0             0.0  0.0   \n",
       "2   12956            12956    72.0               0.0             0.0  0.0   \n",
       "3   12958            12958    82.0               0.0             0.0  0.0   \n",
       "4   12960            12960    73.0               0.0             0.0  0.0   \n",
       "\n",
       "   FPKM  posterior_mean_count  posterior_standard_deviation_of_count  pme_TPM  \\\n",
       "0   0.0                   0.0                                    0.0      0.0   \n",
       "1   0.0                   0.0                                    0.0      0.0   \n",
       "2   0.0                   0.0                                    0.0      0.0   \n",
       "3   0.0                   0.0                                    0.0      0.0   \n",
       "4   0.0                   0.0                                    0.0      0.0   \n",
       "\n",
       "   pme_FPKM  TPM_ci_lower_bound  TPM_ci_upper_bound  FPKM_ci_lower_bound  \\\n",
       "0       0.0                 0.0                 0.0                  0.0   \n",
       "1       0.0                 0.0                 0.0                  0.0   \n",
       "2       0.0                 0.0                 0.0                  0.0   \n",
       "3       0.0                 0.0                 0.0                  0.0   \n",
       "4       0.0                 0.0                 0.0                  0.0   \n",
       "\n",
       "   FPKM_ci_upper_bound  \n",
       "0                  0.0  \n",
       "1                  0.0  \n",
       "2                  0.0  \n",
       "3                  0.0  \n",
       "4                  0.0  "
      ]
     },
     "execution_count": 7,
     "metadata": {},
     "output_type": "execute_result"
    }
   ],
   "source": [
    "sigmoid_colon_data.head(5)"
   ]
  },
  {
   "cell_type": "code",
   "execution_count": 8,
   "metadata": {},
   "outputs": [
    {
     "data": {
      "text/html": [
       "<div>\n",
       "<style scoped>\n",
       "    .dataframe tbody tr th:only-of-type {\n",
       "        vertical-align: middle;\n",
       "    }\n",
       "\n",
       "    .dataframe tbody tr th {\n",
       "        vertical-align: top;\n",
       "    }\n",
       "\n",
       "    .dataframe thead th {\n",
       "        text-align: right;\n",
       "    }\n",
       "</style>\n",
       "<table border=\"1\" class=\"dataframe\">\n",
       "  <thead>\n",
       "    <tr style=\"text-align: right;\">\n",
       "      <th></th>\n",
       "      <th>gene_id</th>\n",
       "      <th>transcript_id(s)</th>\n",
       "      <th>length</th>\n",
       "      <th>effective_length</th>\n",
       "      <th>expected_count</th>\n",
       "      <th>TPM</th>\n",
       "      <th>FPKM</th>\n",
       "      <th>posterior_mean_count</th>\n",
       "      <th>posterior_standard_deviation_of_count</th>\n",
       "      <th>pme_TPM</th>\n",
       "      <th>pme_FPKM</th>\n",
       "      <th>TPM_ci_lower_bound</th>\n",
       "      <th>TPM_ci_upper_bound</th>\n",
       "      <th>FPKM_ci_lower_bound</th>\n",
       "      <th>FPKM_ci_upper_bound</th>\n",
       "    </tr>\n",
       "  </thead>\n",
       "  <tbody>\n",
       "    <tr>\n",
       "      <th>0</th>\n",
       "      <td>10904</td>\n",
       "      <td>10904</td>\n",
       "      <td>93.0</td>\n",
       "      <td>0.0</td>\n",
       "      <td>0.0</td>\n",
       "      <td>0.0</td>\n",
       "      <td>0.0</td>\n",
       "      <td>0.0</td>\n",
       "      <td>0.0</td>\n",
       "      <td>0.0</td>\n",
       "      <td>0.0</td>\n",
       "      <td>0.0</td>\n",
       "      <td>0.0</td>\n",
       "      <td>0.0</td>\n",
       "      <td>0.0</td>\n",
       "    </tr>\n",
       "    <tr>\n",
       "      <th>1</th>\n",
       "      <td>12954</td>\n",
       "      <td>12954</td>\n",
       "      <td>94.0</td>\n",
       "      <td>0.0</td>\n",
       "      <td>0.0</td>\n",
       "      <td>0.0</td>\n",
       "      <td>0.0</td>\n",
       "      <td>0.0</td>\n",
       "      <td>0.0</td>\n",
       "      <td>0.0</td>\n",
       "      <td>0.0</td>\n",
       "      <td>0.0</td>\n",
       "      <td>0.0</td>\n",
       "      <td>0.0</td>\n",
       "      <td>0.0</td>\n",
       "    </tr>\n",
       "    <tr>\n",
       "      <th>2</th>\n",
       "      <td>12956</td>\n",
       "      <td>12956</td>\n",
       "      <td>72.0</td>\n",
       "      <td>0.0</td>\n",
       "      <td>0.0</td>\n",
       "      <td>0.0</td>\n",
       "      <td>0.0</td>\n",
       "      <td>0.0</td>\n",
       "      <td>0.0</td>\n",
       "      <td>0.0</td>\n",
       "      <td>0.0</td>\n",
       "      <td>0.0</td>\n",
       "      <td>0.0</td>\n",
       "      <td>0.0</td>\n",
       "      <td>0.0</td>\n",
       "    </tr>\n",
       "    <tr>\n",
       "      <th>3</th>\n",
       "      <td>12958</td>\n",
       "      <td>12958</td>\n",
       "      <td>82.0</td>\n",
       "      <td>0.0</td>\n",
       "      <td>0.0</td>\n",
       "      <td>0.0</td>\n",
       "      <td>0.0</td>\n",
       "      <td>0.0</td>\n",
       "      <td>0.0</td>\n",
       "      <td>0.0</td>\n",
       "      <td>0.0</td>\n",
       "      <td>0.0</td>\n",
       "      <td>0.0</td>\n",
       "      <td>0.0</td>\n",
       "      <td>0.0</td>\n",
       "    </tr>\n",
       "    <tr>\n",
       "      <th>4</th>\n",
       "      <td>12960</td>\n",
       "      <td>12960</td>\n",
       "      <td>73.0</td>\n",
       "      <td>0.0</td>\n",
       "      <td>0.0</td>\n",
       "      <td>0.0</td>\n",
       "      <td>0.0</td>\n",
       "      <td>0.0</td>\n",
       "      <td>0.0</td>\n",
       "      <td>0.0</td>\n",
       "      <td>0.0</td>\n",
       "      <td>0.0</td>\n",
       "      <td>0.0</td>\n",
       "      <td>0.0</td>\n",
       "      <td>0.0</td>\n",
       "    </tr>\n",
       "  </tbody>\n",
       "</table>\n",
       "</div>"
      ],
      "text/plain": [
       "  gene_id transcript_id(s)  length  effective_length  expected_count  TPM  \\\n",
       "0   10904            10904    93.0               0.0             0.0  0.0   \n",
       "1   12954            12954    94.0               0.0             0.0  0.0   \n",
       "2   12956            12956    72.0               0.0             0.0  0.0   \n",
       "3   12958            12958    82.0               0.0             0.0  0.0   \n",
       "4   12960            12960    73.0               0.0             0.0  0.0   \n",
       "\n",
       "   FPKM  posterior_mean_count  posterior_standard_deviation_of_count  pme_TPM  \\\n",
       "0   0.0                   0.0                                    0.0      0.0   \n",
       "1   0.0                   0.0                                    0.0      0.0   \n",
       "2   0.0                   0.0                                    0.0      0.0   \n",
       "3   0.0                   0.0                                    0.0      0.0   \n",
       "4   0.0                   0.0                                    0.0      0.0   \n",
       "\n",
       "   pme_FPKM  TPM_ci_lower_bound  TPM_ci_upper_bound  FPKM_ci_lower_bound  \\\n",
       "0       0.0                 0.0                 0.0                  0.0   \n",
       "1       0.0                 0.0                 0.0                  0.0   \n",
       "2       0.0                 0.0                 0.0                  0.0   \n",
       "3       0.0                 0.0                 0.0                  0.0   \n",
       "4       0.0                 0.0                 0.0                  0.0   \n",
       "\n",
       "   FPKM_ci_upper_bound  \n",
       "0                  0.0  \n",
       "1                  0.0  \n",
       "2                  0.0  \n",
       "3                  0.0  \n",
       "4                  0.0  "
      ]
     },
     "execution_count": 8,
     "metadata": {},
     "output_type": "execute_result"
    }
   ],
   "source": [
    "stomach_data.head(5)"
   ]
  },
  {
   "cell_type": "markdown",
   "metadata": {},
   "source": [
    "## Clean data"
   ]
  },
  {
   "cell_type": "code",
   "execution_count": 9,
   "metadata": {},
   "outputs": [],
   "source": [
    "##only remain gene id and TPM and remove the genes with TPM = 0\n",
    "sigmoid_colon_data = sigmoid_colon_data[['gene_id', 'TPM']]\n",
    "sigmoid_colon_data = sigmoid_colon_data[sigmoid_colon_data.TPM > 0]"
   ]
  },
  {
   "cell_type": "code",
   "execution_count": 10,
   "metadata": {},
   "outputs": [
    {
     "name": "stdout",
     "output_type": "stream",
     "text": [
      "(20750, 2)\n"
     ]
    },
    {
     "data": {
      "text/html": [
       "<div>\n",
       "<style scoped>\n",
       "    .dataframe tbody tr th:only-of-type {\n",
       "        vertical-align: middle;\n",
       "    }\n",
       "\n",
       "    .dataframe tbody tr th {\n",
       "        vertical-align: top;\n",
       "    }\n",
       "\n",
       "    .dataframe thead th {\n",
       "        text-align: right;\n",
       "    }\n",
       "</style>\n",
       "<table border=\"1\" class=\"dataframe\">\n",
       "  <thead>\n",
       "    <tr style=\"text-align: right;\">\n",
       "      <th></th>\n",
       "      <th>gene_id</th>\n",
       "      <th>TPM</th>\n",
       "    </tr>\n",
       "  </thead>\n",
       "  <tbody>\n",
       "    <tr>\n",
       "      <th>649</th>\n",
       "      <td>ENSG00000000003.14</td>\n",
       "      <td>0.46</td>\n",
       "    </tr>\n",
       "    <tr>\n",
       "      <th>650</th>\n",
       "      <td>ENSG00000000005.5</td>\n",
       "      <td>0.01</td>\n",
       "    </tr>\n",
       "    <tr>\n",
       "      <th>651</th>\n",
       "      <td>ENSG00000000419.12</td>\n",
       "      <td>4.51</td>\n",
       "    </tr>\n",
       "    <tr>\n",
       "      <th>652</th>\n",
       "      <td>ENSG00000000457.13</td>\n",
       "      <td>0.78</td>\n",
       "    </tr>\n",
       "    <tr>\n",
       "      <th>653</th>\n",
       "      <td>ENSG00000000460.16</td>\n",
       "      <td>0.36</td>\n",
       "    </tr>\n",
       "  </tbody>\n",
       "</table>\n",
       "</div>"
      ],
      "text/plain": [
       "                gene_id   TPM\n",
       "649  ENSG00000000003.14  0.46\n",
       "650   ENSG00000000005.5  0.01\n",
       "651  ENSG00000000419.12  4.51\n",
       "652  ENSG00000000457.13  0.78\n",
       "653  ENSG00000000460.16  0.36"
      ]
     },
     "execution_count": 10,
     "metadata": {},
     "output_type": "execute_result"
    }
   ],
   "source": [
    "print(sigmoid_colon_data.shape)\n",
    "sigmoid_colon_data.head(5)"
   ]
  },
  {
   "cell_type": "code",
   "execution_count": 11,
   "metadata": {},
   "outputs": [],
   "source": [
    "##only remain gene id and TPM and remove the genes with TPM = 0\n",
    "stomach_data = stomach_data[['gene_id', 'TPM']]\n",
    "stomach_data = stomach_data[stomach_data.TPM > 0]"
   ]
  },
  {
   "cell_type": "code",
   "execution_count": 12,
   "metadata": {},
   "outputs": [
    {
     "name": "stdout",
     "output_type": "stream",
     "text": [
      "(16461, 2)\n"
     ]
    },
    {
     "data": {
      "text/html": [
       "<div>\n",
       "<style scoped>\n",
       "    .dataframe tbody tr th:only-of-type {\n",
       "        vertical-align: middle;\n",
       "    }\n",
       "\n",
       "    .dataframe tbody tr th {\n",
       "        vertical-align: top;\n",
       "    }\n",
       "\n",
       "    .dataframe thead th {\n",
       "        text-align: right;\n",
       "    }\n",
       "</style>\n",
       "<table border=\"1\" class=\"dataframe\">\n",
       "  <thead>\n",
       "    <tr style=\"text-align: right;\">\n",
       "      <th></th>\n",
       "      <th>gene_id</th>\n",
       "      <th>TPM</th>\n",
       "    </tr>\n",
       "  </thead>\n",
       "  <tbody>\n",
       "    <tr>\n",
       "      <th>649</th>\n",
       "      <td>ENSG00000000003.14</td>\n",
       "      <td>0.49</td>\n",
       "    </tr>\n",
       "    <tr>\n",
       "      <th>651</th>\n",
       "      <td>ENSG00000000419.12</td>\n",
       "      <td>0.24</td>\n",
       "    </tr>\n",
       "    <tr>\n",
       "      <th>652</th>\n",
       "      <td>ENSG00000000457.13</td>\n",
       "      <td>0.28</td>\n",
       "    </tr>\n",
       "    <tr>\n",
       "      <th>653</th>\n",
       "      <td>ENSG00000000460.16</td>\n",
       "      <td>2.18</td>\n",
       "    </tr>\n",
       "    <tr>\n",
       "      <th>654</th>\n",
       "      <td>ENSG00000000938.12</td>\n",
       "      <td>0.15</td>\n",
       "    </tr>\n",
       "  </tbody>\n",
       "</table>\n",
       "</div>"
      ],
      "text/plain": [
       "                gene_id   TPM\n",
       "649  ENSG00000000003.14  0.49\n",
       "651  ENSG00000000419.12  0.24\n",
       "652  ENSG00000000457.13  0.28\n",
       "653  ENSG00000000460.16  2.18\n",
       "654  ENSG00000000938.12  0.15"
      ]
     },
     "execution_count": 12,
     "metadata": {},
     "output_type": "execute_result"
    }
   ],
   "source": [
    "print(stomach_data.shape)\n",
    "stomach_data.head(5)"
   ]
  },
  {
   "cell_type": "markdown",
   "metadata": {},
   "source": [
    "## Align stomach_data and sigmoid_colon_data"
   ]
  },
  {
   "cell_type": "code",
   "execution_count": 13,
   "metadata": {},
   "outputs": [
    {
     "name": "stdout",
     "output_type": "stream",
     "text": [
      "Index(['gene_id', 'TPM_1'], dtype='object')\n",
      "Index(['gene_id', 'TPM_2'], dtype='object')\n"
     ]
    }
   ],
   "source": [
    "stomach_data.columns = ['gene_id', 'TPM_1']\n",
    "print(stomach_data.columns)\n",
    "sigmoid_colon_data.columns = ['gene_id', 'TPM_2']\n",
    "print(sigmoid_colon_data.columns)"
   ]
  },
  {
   "cell_type": "code",
   "execution_count": 14,
   "metadata": {},
   "outputs": [],
   "source": [
    "gene_data = stomach_data.join(sigmoid_colon_data.set_index('gene_id'), on='gene_id')"
   ]
  },
  {
   "cell_type": "code",
   "execution_count": 15,
   "metadata": {},
   "outputs": [
    {
     "name": "stdout",
     "output_type": "stream",
     "text": [
      "(16461, 3)\n"
     ]
    },
    {
     "data": {
      "text/html": [
       "<div>\n",
       "<style scoped>\n",
       "    .dataframe tbody tr th:only-of-type {\n",
       "        vertical-align: middle;\n",
       "    }\n",
       "\n",
       "    .dataframe tbody tr th {\n",
       "        vertical-align: top;\n",
       "    }\n",
       "\n",
       "    .dataframe thead th {\n",
       "        text-align: right;\n",
       "    }\n",
       "</style>\n",
       "<table border=\"1\" class=\"dataframe\">\n",
       "  <thead>\n",
       "    <tr style=\"text-align: right;\">\n",
       "      <th></th>\n",
       "      <th>gene_id</th>\n",
       "      <th>TPM_1</th>\n",
       "      <th>TPM_2</th>\n",
       "    </tr>\n",
       "  </thead>\n",
       "  <tbody>\n",
       "    <tr>\n",
       "      <th>649</th>\n",
       "      <td>ENSG00000000003.14</td>\n",
       "      <td>0.49</td>\n",
       "      <td>0.46</td>\n",
       "    </tr>\n",
       "    <tr>\n",
       "      <th>651</th>\n",
       "      <td>ENSG00000000419.12</td>\n",
       "      <td>0.24</td>\n",
       "      <td>4.51</td>\n",
       "    </tr>\n",
       "    <tr>\n",
       "      <th>652</th>\n",
       "      <td>ENSG00000000457.13</td>\n",
       "      <td>0.28</td>\n",
       "      <td>0.78</td>\n",
       "    </tr>\n",
       "    <tr>\n",
       "      <th>653</th>\n",
       "      <td>ENSG00000000460.16</td>\n",
       "      <td>2.18</td>\n",
       "      <td>0.36</td>\n",
       "    </tr>\n",
       "    <tr>\n",
       "      <th>654</th>\n",
       "      <td>ENSG00000000938.12</td>\n",
       "      <td>0.15</td>\n",
       "      <td>0.40</td>\n",
       "    </tr>\n",
       "  </tbody>\n",
       "</table>\n",
       "</div>"
      ],
      "text/plain": [
       "                gene_id  TPM_1  TPM_2\n",
       "649  ENSG00000000003.14   0.49   0.46\n",
       "651  ENSG00000000419.12   0.24   4.51\n",
       "652  ENSG00000000457.13   0.28   0.78\n",
       "653  ENSG00000000460.16   2.18   0.36\n",
       "654  ENSG00000000938.12   0.15   0.40"
      ]
     },
     "execution_count": 15,
     "metadata": {},
     "output_type": "execute_result"
    }
   ],
   "source": [
    "print(gene_data.shape)\n",
    "gene_data.head(5)"
   ]
  },
  {
   "cell_type": "markdown",
   "metadata": {},
   "source": [
    "## Find different expression genes"
   ]
  },
  {
   "cell_type": "code",
   "execution_count": 16,
   "metadata": {},
   "outputs": [],
   "source": [
    "import math as math\n",
    "fold_change = gene_data.TPM_2/gene_data.TPM_1\n",
    "log2_fold_change = [math.log2(x) for x in fold_change]"
   ]
  },
  {
   "cell_type": "code",
   "execution_count": 17,
   "metadata": {},
   "outputs": [],
   "source": [
    "gene_data['fold_change'] = fold_change\n",
    "gene_data['log2_fold_change'] = log2_fold_change"
   ]
  },
  {
   "cell_type": "code",
   "execution_count": 18,
   "metadata": {},
   "outputs": [
    {
     "data": {
      "text/html": [
       "<div>\n",
       "<style scoped>\n",
       "    .dataframe tbody tr th:only-of-type {\n",
       "        vertical-align: middle;\n",
       "    }\n",
       "\n",
       "    .dataframe tbody tr th {\n",
       "        vertical-align: top;\n",
       "    }\n",
       "\n",
       "    .dataframe thead th {\n",
       "        text-align: right;\n",
       "    }\n",
       "</style>\n",
       "<table border=\"1\" class=\"dataframe\">\n",
       "  <thead>\n",
       "    <tr style=\"text-align: right;\">\n",
       "      <th></th>\n",
       "      <th>gene_id</th>\n",
       "      <th>TPM_1</th>\n",
       "      <th>TPM_2</th>\n",
       "      <th>fold_change</th>\n",
       "      <th>log2_fold_change</th>\n",
       "    </tr>\n",
       "  </thead>\n",
       "  <tbody>\n",
       "    <tr>\n",
       "      <th>649</th>\n",
       "      <td>ENSG00000000003.14</td>\n",
       "      <td>0.49</td>\n",
       "      <td>0.46</td>\n",
       "      <td>0.938776</td>\n",
       "      <td>-0.091148</td>\n",
       "    </tr>\n",
       "    <tr>\n",
       "      <th>651</th>\n",
       "      <td>ENSG00000000419.12</td>\n",
       "      <td>0.24</td>\n",
       "      <td>4.51</td>\n",
       "      <td>18.791667</td>\n",
       "      <td>4.232021</td>\n",
       "    </tr>\n",
       "    <tr>\n",
       "      <th>652</th>\n",
       "      <td>ENSG00000000457.13</td>\n",
       "      <td>0.28</td>\n",
       "      <td>0.78</td>\n",
       "      <td>2.785714</td>\n",
       "      <td>1.478047</td>\n",
       "    </tr>\n",
       "    <tr>\n",
       "      <th>653</th>\n",
       "      <td>ENSG00000000460.16</td>\n",
       "      <td>2.18</td>\n",
       "      <td>0.36</td>\n",
       "      <td>0.165138</td>\n",
       "      <td>-2.598259</td>\n",
       "    </tr>\n",
       "    <tr>\n",
       "      <th>654</th>\n",
       "      <td>ENSG00000000938.12</td>\n",
       "      <td>0.15</td>\n",
       "      <td>0.40</td>\n",
       "      <td>2.666667</td>\n",
       "      <td>1.415037</td>\n",
       "    </tr>\n",
       "  </tbody>\n",
       "</table>\n",
       "</div>"
      ],
      "text/plain": [
       "                gene_id  TPM_1  TPM_2  fold_change  log2_fold_change\n",
       "649  ENSG00000000003.14   0.49   0.46     0.938776         -0.091148\n",
       "651  ENSG00000000419.12   0.24   4.51    18.791667          4.232021\n",
       "652  ENSG00000000457.13   0.28   0.78     2.785714          1.478047\n",
       "653  ENSG00000000460.16   2.18   0.36     0.165138         -2.598259\n",
       "654  ENSG00000000938.12   0.15   0.40     2.666667          1.415037"
      ]
     },
     "execution_count": 18,
     "metadata": {},
     "output_type": "execute_result"
    }
   ],
   "source": [
    "gene_data.head(5)"
   ]
  },
  {
   "cell_type": "code",
   "execution_count": 21,
   "metadata": {},
   "outputs": [
    {
     "ename": "SyntaxError",
     "evalue": "invalid syntax (<ipython-input-21-886ad395f1de>, line 1)",
     "output_type": "error",
     "traceback": [
      "\u001b[1;36m  File \u001b[1;32m\"<ipython-input-21-886ad395f1de>\"\u001b[1;36m, line \u001b[1;32m1\u001b[0m\n\u001b[1;33m    from seaborn as sns\u001b[0m\n\u001b[1;37m                  ^\u001b[0m\n\u001b[1;31mSyntaxError\u001b[0m\u001b[1;31m:\u001b[0m invalid syntax\n"
     ]
    }
   ],
   "source": [
    "from seaborn as sns"
   ]
  },
  {
   "cell_type": "code",
   "execution_count": 20,
   "metadata": {},
   "outputs": [
    {
     "name": "stderr",
     "output_type": "stream",
     "text": [
      "d:\\software\\python\\lib\\site-packages\\plotnine\\scales\\scale.py:93: MatplotlibDeprecationWarning: \n",
      "The iterable function was deprecated in Matplotlib 3.1 and will be removed in 3.3. Use np.iterable instead.\n",
      "  if cbook.iterable(self.breaks) and cbook.iterable(self.labels):\n",
      "d:\\software\\python\\lib\\site-packages\\plotnine\\layer.py:449: UserWarning: geom_point : Removed 1071 rows containing missing values.\n",
      "  self.data = self.geom.handle_na(self.data)\n",
      "d:\\software\\python\\lib\\site-packages\\plotnine\\utils.py:553: MatplotlibDeprecationWarning: \n",
      "The iterable function was deprecated in Matplotlib 3.1 and will be removed in 3.3. Use np.iterable instead.\n",
      "  return cbook.iterable(var) and not is_string(var)\n"
     ]
    },
    {
     "data": {
      "image/png": "[encoded data removed]",
      "text/plain": [
       "<Figure size 640x480 with 1 Axes>"
      ]
     },
     "metadata": {},
     "output_type": "display_data"
    },
    {
     "data": {
      "text/plain": [
       "<ggplot: (-9223371844339231456)>"
      ]
     },
     "execution_count": 20,
     "metadata": {},
     "output_type": "execute_result"
    }
   ],
   "source": [
    "sns.scatterplot(x=\"gene_id\", y=\"log2_fold_change\", data=gene_data)"
   ]
  },
  {
   "cell_type": "code",
   "execution_count": null,
   "metadata": {},
   "outputs": [],
   "source": []
  }
 ],
 "metadata": {
  "kernelspec": {
   "display_name": "Python 3",
   "language": "python",
   "name": "python3"
  },
  "language_info": {
   "codemirror_mode": {
    "name": "ipython",
    "version": 3
   },
   "file_extension": ".py",
   "mimetype": "text/x-python",
   "name": "python",
   "nbconvert_exporter": "python",
   "pygments_lexer": "ipython3",
   "version": "3.7.4"
  }
 },
 "nbformat": 4,
 "nbformat_minor": 2
}
