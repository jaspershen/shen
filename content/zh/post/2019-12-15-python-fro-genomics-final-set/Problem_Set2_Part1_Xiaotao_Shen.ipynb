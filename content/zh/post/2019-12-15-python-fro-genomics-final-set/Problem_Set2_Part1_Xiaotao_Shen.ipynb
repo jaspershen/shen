{
 "cells": [
  {
   "cell_type": "code",
   "execution_count": 32,
   "metadata": {},
   "outputs": [
    {
     "data": {
      "text/plain": [
       "['.ipynb_checkpoints',\n",
       " 'BIOS274-2019-PS2-description.pdf',\n",
       " 'ENCFF016CBS.tsv',\n",
       " 'example_URL_code.ipynb',\n",
       " 'output_file',\n",
       " 'Problem_Set2_Part1_Xiaotao_Shen.ipynb',\n",
       " 'ps2_gencode_url.tsv',\n",
       " 'ps2_gene_quant_URLs.tsv',\n",
       " 'Untitled.ipynb',\n",
       " 'Xiaotao Shen code for problem set2.ipynb']"
      ]
     },
     "execution_count": 32,
     "metadata": {},
     "output_type": "execute_result"
    }
   ],
   "source": [
    "import os as os\n",
    "import pandas as pd\n",
    "import re as re\n",
    "os.getcwd()\n",
    "os.listdir()"
   ]
  },
  {
   "cell_type": "markdown",
   "metadata": {},
   "source": [
    "## Read the ps2_gene_quant_URLs.tsv"
   ]
  },
  {
   "cell_type": "code",
   "execution_count": 33,
   "metadata": {},
   "outputs": [
    {
     "data": {
      "text/html": [
       "<div>\n",
       "<style scoped>\n",
       "    .dataframe tbody tr th:only-of-type {\n",
       "        vertical-align: middle;\n",
       "    }\n",
       "\n",
       "    .dataframe tbody tr th {\n",
       "        vertical-align: top;\n",
       "    }\n",
       "\n",
       "    .dataframe thead th {\n",
       "        text-align: right;\n",
       "    }\n",
       "</style>\n",
       "<table border=\"1\" class=\"dataframe\">\n",
       "  <thead>\n",
       "    <tr style=\"text-align: right;\">\n",
       "      <th></th>\n",
       "      <th>0</th>\n",
       "      <th>1</th>\n",
       "      <th>2</th>\n",
       "    </tr>\n",
       "  </thead>\n",
       "  <tbody>\n",
       "    <tr>\n",
       "      <th>0</th>\n",
       "      <td>ENCFF016CBS</td>\n",
       "      <td>omental fat pad</td>\n",
       "      <td>https://www.encodeproject.org/files/ENCFF016CB...</td>\n",
       "    </tr>\n",
       "    <tr>\n",
       "      <th>1</th>\n",
       "      <td>ENCFF365ZMW</td>\n",
       "      <td>sigmoid colon</td>\n",
       "      <td>https://www.encodeproject.org/files/ENCFF365ZM...</td>\n",
       "    </tr>\n",
       "    <tr>\n",
       "      <th>2</th>\n",
       "      <td>ENCFF408GFZ</td>\n",
       "      <td>subcutaneous adipose tissue</td>\n",
       "      <td>https://www.encodeproject.org/files/ENCFF408GF...</td>\n",
       "    </tr>\n",
       "    <tr>\n",
       "      <th>3</th>\n",
       "      <td>ENCFF505TUS</td>\n",
       "      <td>prostate gland</td>\n",
       "      <td>https://www.encodeproject.org/files/ENCFF505TU...</td>\n",
       "    </tr>\n",
       "    <tr>\n",
       "      <th>4</th>\n",
       "      <td>ENCFF633OSJ</td>\n",
       "      <td>suprapubic skin</td>\n",
       "      <td>https://www.encodeproject.org/files/ENCFF633OS...</td>\n",
       "    </tr>\n",
       "    <tr>\n",
       "      <th>5</th>\n",
       "      <td>ENCFF862LZL</td>\n",
       "      <td>heart left ventricle</td>\n",
       "      <td>https://www.encodeproject.org/files/ENCFF862LZ...</td>\n",
       "    </tr>\n",
       "    <tr>\n",
       "      <th>6</th>\n",
       "      <td>ENCFF863ERP</td>\n",
       "      <td>testis</td>\n",
       "      <td>https://www.encodeproject.org/files/ENCFF863ER...</td>\n",
       "    </tr>\n",
       "    <tr>\n",
       "      <th>7</th>\n",
       "      <td>ENCFF916ODF</td>\n",
       "      <td>vagina</td>\n",
       "      <td>https://www.encodeproject.org/files/ENCFF916OD...</td>\n",
       "    </tr>\n",
       "    <tr>\n",
       "      <th>8</th>\n",
       "      <td>ENCFF918KPC</td>\n",
       "      <td>stomach</td>\n",
       "      <td>https://www.encodeproject.org/files/ENCFF918KP...</td>\n",
       "    </tr>\n",
       "  </tbody>\n",
       "</table>\n",
       "</div>"
      ],
      "text/plain": [
       "             0                            1  \\\n",
       "0  ENCFF016CBS              omental fat pad   \n",
       "1  ENCFF365ZMW                sigmoid colon   \n",
       "2  ENCFF408GFZ  subcutaneous adipose tissue   \n",
       "3  ENCFF505TUS               prostate gland   \n",
       "4  ENCFF633OSJ              suprapubic skin   \n",
       "5  ENCFF862LZL         heart left ventricle   \n",
       "6  ENCFF863ERP                       testis   \n",
       "7  ENCFF916ODF                       vagina   \n",
       "8  ENCFF918KPC                      stomach   \n",
       "\n",
       "                                                   2  \n",
       "0  https://www.encodeproject.org/files/ENCFF016CB...  \n",
       "1  https://www.encodeproject.org/files/ENCFF365ZM...  \n",
       "2  https://www.encodeproject.org/files/ENCFF408GF...  \n",
       "3  https://www.encodeproject.org/files/ENCFF505TU...  \n",
       "4  https://www.encodeproject.org/files/ENCFF633OS...  \n",
       "5  https://www.encodeproject.org/files/ENCFF862LZ...  \n",
       "6  https://www.encodeproject.org/files/ENCFF863ER...  \n",
       "7  https://www.encodeproject.org/files/ENCFF916OD...  \n",
       "8  https://www.encodeproject.org/files/ENCFF918KP...  "
      ]
     },
     "execution_count": 33,
     "metadata": {},
     "output_type": "execute_result"
    }
   ],
   "source": [
    "ps2_gene_quant_url = pd.read_csv(\"ps2_gene_quant_URLs.tsv\", sep='\\t', header = None)\n",
    "ps2_gene_quant_url"
   ]
  },
  {
   "cell_type": "markdown",
   "metadata": {},
   "source": [
    "## Creat new folder to output files"
   ]
  },
  {
   "cell_type": "code",
   "execution_count": 17,
   "metadata": {},
   "outputs": [],
   "source": [
    "os.makedirs(\"output_file\")\n",
    "os.chdir(\"output_file\")"
   ]
  },
  {
   "cell_type": "code",
   "execution_count": null,
   "metadata": {},
   "outputs": [],
   "source": [
    "i = 0\n",
    "info = list(ps2_gene_quant_url.iloc[i])\n",
    "info\n",
    "info[2]\n",
    "data = pd.read_csv(info[2], sep='\\t')\n",
    "data\n",
    "data.to_csv(\"data.csv\")"
   ]
  },
  {
   "cell_type": "code",
   "execution_count": 26,
   "metadata": {},
   "outputs": [
    {
     "name": "stdout",
     "output_type": "stream",
     "text": [
      "0 1 2 3 4 5 6 7 8 "
     ]
    }
   ],
   "source": [
    "for i in range(ps2_gene_quant_url.shape[0]):\n",
    "    print(i, end=\" \")\n",
    "    info = list(ps2_gene_quant_url.iloc[i])\n",
    "    #read data\n",
    "    data = pd.read_csv(info[2], sep='\\t')\n",
    "    #only remain 'gene_id', 'TPM'\n",
    "    data = data[['gene_id', 'TPM']]\n",
    "    #filter data according to TPM\n",
    "    data = data[data.TPM > 0.5]\n",
    "    ##add a new column named file_accession\n",
    "    data['file_accession'] = info[0]\n",
    "    ##filter data according to gene_ID\n",
    "    gene_id = list(data.gene_id)\n",
    "    remain_idx = [idx for idx in range(len(gene_id)) if gene_id[idx].startswith('ENSG')]\n",
    "    idx1 = set(list(range(len(gene_id))))\n",
    "    idx2 = set(remain_idx)\n",
    "    other_gene_id = data.iloc[list(idx1.difference(idx2))].gene_id\n",
    "    other_gene_id = pd.DataFrame(other_gene_id)\n",
    "    data = data.iloc[remain_idx]\n",
    "    data.gene_id = [re.sub('\\\\.[0-9]*', '', id) for id in list(data.gene_id)]\n",
    "    ## output informaiton and gene name which are not start with ‘ENSG’ for each quantification file\n",
    "    quan_file_name = info[0] + '_quan_file.tsv'\n",
    "    quan_file_other_gene_name = info[0] + '_other_gene_name.tsv'\n",
    "    other_gene_id.to_csv(quan_file_other_gene_name, sep='\\t', index=False)\n",
    "    data.to_csv(quan_file_name, sep='\\t',index=False)"
   ]
  },
  {
   "cell_type": "markdown",
   "metadata": {},
   "source": [
    "## Read the GTF file"
   ]
  },
  {
   "cell_type": "code",
   "execution_count": 8,
   "metadata": {},
   "outputs": [
    {
     "name": "stdout",
     "output_type": "stream",
     "text": [
      "D:\\my github\\python_class\\Problem_Set2\n",
      "                                                   0\n",
      "0  https://www.encodeproject.org/files/gencode.v2...\n"
     ]
    }
   ],
   "source": [
    "os.chdir('..')\n",
    "print(os.getcwd())\n",
    "ps2_gencode_url = pd.read_csv(\"ps2_gencode_url.tsv\", sep = \"\\t\", header = None)\n",
    "print(ps2_gencode_url)"
   ]
  },
  {
   "cell_type": "code",
   "execution_count": 9,
   "metadata": {},
   "outputs": [],
   "source": [
    "import urllib.request\n",
    "import gzip"
   ]
  },
  {
   "cell_type": "code",
   "execution_count": 10,
   "metadata": {},
   "outputs": [],
   "source": [
    "# variable for URL\n",
    "request_URL = list(ps2_gencode_url.iloc[0])[0]"
   ]
  },
  {
   "cell_type": "code",
   "execution_count": 11,
   "metadata": {},
   "outputs": [],
   "source": [
    "# open stream for data\n",
    "response = urllib.request.urlopen(request_URL)"
   ]
  },
  {
   "cell_type": "code",
   "execution_count": 12,
   "metadata": {},
   "outputs": [],
   "source": [
    "# open gzipped connection\n",
    "import re as re\n",
    "gene_info = []\n",
    "with gzip.open(response, 'rt') as inFile:\n",
    "    for line in inFile:\n",
    "        line = line.rstrip('\\n')\n",
    "        # print(line)\n",
    "        if not line.startswith(\"#\"):\n",
    "            line = line.split(\"\\t\")\n",
    "            # print(line)\n",
    "            if line[1] == \"HAVANA\" and line[2] == \"gene\":\n",
    "                # gene.append(line)\n",
    "                attribute = line[8].split(';')\n",
    "                gene_id = [i for i in attribute if 'gene_id' in i]\n",
    "                gene_name = [i for i in attribute if 'gene_name' in i]\n",
    "                gene_type = [i for i in attribute if 'gene_type' in i]\n",
    "\n",
    "                if len(gene_id) > 0 and len(gene_name) > 0 and len(gene_type) > 0:\n",
    "                    gene_id = gene_id[0].replace('gene_id ', '').replace('\"', '').strip()\n",
    "                    gene_id = re.sub('\\\\.[0-9]*', '', gene_id)\n",
    "                    gene_name = gene_name[0].replace('gene_name ', '').replace('\"', '').strip()\n",
    "                    gene_type = gene_type[0].replace('gene_type ', '').replace('\"', '').strip()\n",
    "                    temp_gene = [gene_id, gene_name, gene_type]\n",
    "                    # print(temp_gene)\n",
    "                    gene_info.append(temp_gene)\n",
    "\n",
    "gene_info = pd.DataFrame(gene_info)\n",
    "gene_info.columns = [\"gene_id\", \"gene_name\", \"gene_type\"]\n",
    "\n",
    "gene_info.to_csv(\"GTF_file.tsv\", sep = \"\\t\", index=False)"
   ]
  },
  {
   "cell_type": "code",
   "execution_count": 36,
   "metadata": {},
   "outputs": [],
   "source": [
    "df = pd.DataFrame({'key': ['K0', 'K1', 'K2', 'K3', 'K4', 'K5'],\n",
    "                 'A': ['A0', 'A1', 'A2', 'A3', 'A4', 'A5']})"
   ]
  },
  {
   "cell_type": "code",
   "execution_count": 37,
   "metadata": {},
   "outputs": [
    {
     "data": {
      "text/html": [
       "<div>\n",
       "<style scoped>\n",
       "    .dataframe tbody tr th:only-of-type {\n",
       "        vertical-align: middle;\n",
       "    }\n",
       "\n",
       "    .dataframe tbody tr th {\n",
       "        vertical-align: top;\n",
       "    }\n",
       "\n",
       "    .dataframe thead th {\n",
       "        text-align: right;\n",
       "    }\n",
       "</style>\n",
       "<table border=\"1\" class=\"dataframe\">\n",
       "  <thead>\n",
       "    <tr style=\"text-align: right;\">\n",
       "      <th></th>\n",
       "      <th>key</th>\n",
       "      <th>A</th>\n",
       "    </tr>\n",
       "  </thead>\n",
       "  <tbody>\n",
       "    <tr>\n",
       "      <th>0</th>\n",
       "      <td>K0</td>\n",
       "      <td>A0</td>\n",
       "    </tr>\n",
       "    <tr>\n",
       "      <th>1</th>\n",
       "      <td>K1</td>\n",
       "      <td>A1</td>\n",
       "    </tr>\n",
       "    <tr>\n",
       "      <th>2</th>\n",
       "      <td>K2</td>\n",
       "      <td>A2</td>\n",
       "    </tr>\n",
       "    <tr>\n",
       "      <th>3</th>\n",
       "      <td>K3</td>\n",
       "      <td>A3</td>\n",
       "    </tr>\n",
       "    <tr>\n",
       "      <th>4</th>\n",
       "      <td>K4</td>\n",
       "      <td>A4</td>\n",
       "    </tr>\n",
       "    <tr>\n",
       "      <th>5</th>\n",
       "      <td>K5</td>\n",
       "      <td>A5</td>\n",
       "    </tr>\n",
       "  </tbody>\n",
       "</table>\n",
       "</div>"
      ],
      "text/plain": [
       "  key   A\n",
       "0  K0  A0\n",
       "1  K1  A1\n",
       "2  K2  A2\n",
       "3  K3  A3\n",
       "4  K4  A4\n",
       "5  K5  A5"
      ]
     },
     "execution_count": 37,
     "metadata": {},
     "output_type": "execute_result"
    }
   ],
   "source": [
    "df"
   ]
  },
  {
   "cell_type": "code",
   "execution_count": 38,
   "metadata": {},
   "outputs": [],
   "source": [
    "other = pd.DataFrame({'key': ['K0', 'K1', 'K2'],\n",
    "                       'B': ['B0', 'B1', 'B2']})"
   ]
  },
  {
   "cell_type": "code",
   "execution_count": 39,
   "metadata": {},
   "outputs": [
    {
     "data": {
      "text/html": [
       "<div>\n",
       "<style scoped>\n",
       "    .dataframe tbody tr th:only-of-type {\n",
       "        vertical-align: middle;\n",
       "    }\n",
       "\n",
       "    .dataframe tbody tr th {\n",
       "        vertical-align: top;\n",
       "    }\n",
       "\n",
       "    .dataframe thead th {\n",
       "        text-align: right;\n",
       "    }\n",
       "</style>\n",
       "<table border=\"1\" class=\"dataframe\">\n",
       "  <thead>\n",
       "    <tr style=\"text-align: right;\">\n",
       "      <th></th>\n",
       "      <th>key</th>\n",
       "      <th>B</th>\n",
       "    </tr>\n",
       "  </thead>\n",
       "  <tbody>\n",
       "    <tr>\n",
       "      <th>0</th>\n",
       "      <td>K0</td>\n",
       "      <td>B0</td>\n",
       "    </tr>\n",
       "    <tr>\n",
       "      <th>1</th>\n",
       "      <td>K1</td>\n",
       "      <td>B1</td>\n",
       "    </tr>\n",
       "    <tr>\n",
       "      <th>2</th>\n",
       "      <td>K2</td>\n",
       "      <td>B2</td>\n",
       "    </tr>\n",
       "  </tbody>\n",
       "</table>\n",
       "</div>"
      ],
      "text/plain": [
       "  key   B\n",
       "0  K0  B0\n",
       "1  K1  B1\n",
       "2  K2  B2"
      ]
     },
     "execution_count": 39,
     "metadata": {},
     "output_type": "execute_result"
    }
   ],
   "source": [
    "other"
   ]
  },
  {
   "cell_type": "code",
   "execution_count": 42,
   "metadata": {},
   "outputs": [
    {
     "data": {
      "text/html": [
       "<div>\n",
       "<style scoped>\n",
       "    .dataframe tbody tr th:only-of-type {\n",
       "        vertical-align: middle;\n",
       "    }\n",
       "\n",
       "    .dataframe tbody tr th {\n",
       "        vertical-align: top;\n",
       "    }\n",
       "\n",
       "    .dataframe thead th {\n",
       "        text-align: right;\n",
       "    }\n",
       "</style>\n",
       "<table border=\"1\" class=\"dataframe\">\n",
       "  <thead>\n",
       "    <tr style=\"text-align: right;\">\n",
       "      <th></th>\n",
       "      <th>key_caller</th>\n",
       "      <th>A</th>\n",
       "      <th>key_other</th>\n",
       "      <th>B</th>\n",
       "    </tr>\n",
       "  </thead>\n",
       "  <tbody>\n",
       "    <tr>\n",
       "      <th>0</th>\n",
       "      <td>K0</td>\n",
       "      <td>A0</td>\n",
       "      <td>K0</td>\n",
       "      <td>B0</td>\n",
       "    </tr>\n",
       "    <tr>\n",
       "      <th>1</th>\n",
       "      <td>K1</td>\n",
       "      <td>A1</td>\n",
       "      <td>K1</td>\n",
       "      <td>B1</td>\n",
       "    </tr>\n",
       "    <tr>\n",
       "      <th>2</th>\n",
       "      <td>K2</td>\n",
       "      <td>A2</td>\n",
       "      <td>K2</td>\n",
       "      <td>B2</td>\n",
       "    </tr>\n",
       "    <tr>\n",
       "      <th>3</th>\n",
       "      <td>K3</td>\n",
       "      <td>A3</td>\n",
       "      <td>NaN</td>\n",
       "      <td>NaN</td>\n",
       "    </tr>\n",
       "    <tr>\n",
       "      <th>4</th>\n",
       "      <td>K4</td>\n",
       "      <td>A4</td>\n",
       "      <td>NaN</td>\n",
       "      <td>NaN</td>\n",
       "    </tr>\n",
       "    <tr>\n",
       "      <th>5</th>\n",
       "      <td>K5</td>\n",
       "      <td>A5</td>\n",
       "      <td>NaN</td>\n",
       "      <td>NaN</td>\n",
       "    </tr>\n",
       "  </tbody>\n",
       "</table>\n",
       "</div>"
      ],
      "text/plain": [
       "  key_caller   A key_other    B\n",
       "0         K0  A0        K0   B0\n",
       "1         K1  A1        K1   B1\n",
       "2         K2  A2        K2   B2\n",
       "3         K3  A3       NaN  NaN\n",
       "4         K4  A4       NaN  NaN\n",
       "5         K5  A5       NaN  NaN"
      ]
     },
     "execution_count": 42,
     "metadata": {},
     "output_type": "execute_result"
    }
   ],
   "source": [
    "df.join(other, lsuffix='_caller', rsuffix='_other')"
   ]
  },
  {
   "cell_type": "code",
   "execution_count": null,
   "metadata": {},
   "outputs": [],
   "source": []
  }
 ],
 "metadata": {
  "kernelspec": {
   "display_name": "Python 3",
   "language": "python",
   "name": "python3"
  },
  "language_info": {
   "codemirror_mode": {
    "name": "ipython",
    "version": 3
   },
   "file_extension": ".py",
   "mimetype": "text/x-python",
   "name": "python",
   "nbconvert_exporter": "python",
   "pygments_lexer": "ipython3",
   "version": "3.7.4"
  }
 },
 "nbformat": 4,
 "nbformat_minor": 2
}
