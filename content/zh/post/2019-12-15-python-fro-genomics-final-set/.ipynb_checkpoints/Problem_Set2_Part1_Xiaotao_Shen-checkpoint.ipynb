{
 "cells": [
  {
   "cell_type": "code",
   "execution_count": 1,
   "metadata": {},
   "outputs": [
    {
     "data": {
      "text/plain": [
       "'D:\\\\my github\\\\shen\\\\content\\\\en\\\\post\\\\2019-12-15-python-fro-genomics-final-set'"
      ]
     },
     "execution_count": 1,
     "metadata": {},
     "output_type": "execute_result"
    }
   ],
   "source": [
    "import os as os\n",
    "import pandas as pd\n",
    "import re as re\n",
    "os.getcwd()"
   ]
  },
  {
   "cell_type": "markdown",
   "metadata": {},
   "source": [
    "## Read the ps2_gene_quant_URLs.tsv"
   ]
  },
  {
   "cell_type": "code",
   "execution_count": 2,
   "metadata": {},
   "outputs": [],
   "source": [
    "ps2_gene_quant_url = pd.read_csv(\"ps2_gene_quant_URLs.tsv\", sep='\\t', header = None)"
   ]
  },
  {
   "cell_type": "markdown",
   "metadata": {},
   "source": [
    "## Creat new folder to output files"
   ]
  },
  {
   "cell_type": "code",
   "execution_count": 3,
   "metadata": {},
   "outputs": [],
   "source": [
    "os.makedirs(\"output_file\")\n",
    "os.chdir(\"output_file\")"
   ]
  },
  {
   "cell_type": "code",
   "execution_count": null,
   "metadata": {},
   "outputs": [
    {
     "name": "stdout",
     "output_type": "stream",
     "text": [
      "0 1 2 3 4 5 6 7 8 "
     ]
    }
   ],
   "source": [
    "for i in range(ps2_gene_quant_url.shape[0]):\n",
    "    print(i, end=\" \")\n",
    "    info = list(ps2_gene_quant_url.iloc[i])\n",
    "    #read data\n",
    "    data = pd.read_csv(info[2], sep='\\t')\n",
    "    #only remain 'gene_id', 'TPM'\n",
    "    data = data[['gene_id', 'TPM']]\n",
    "    #filter data according to TPM\n",
    "    data = data[data.TPM > 0.5]\n",
    "    ##add a new column named file_accession\n",
    "    data['file_accession'] = info[0]\n",
    "    ##filter data according to gene_ID\n",
    "    gene_id = list(data.gene_id)\n",
    "    remain_idx = [idx for idx in range(len(gene_id)) if gene_id[idx].startswith('ENSG')]\n",
    "    idx1 = set(list(range(len(gene_id))))\n",
    "    idx2 = set(remain_idx)\n",
    "    other_gene_id = data.iloc[list(idx1.difference(idx2))].gene_id\n",
    "    other_gene_id = pd.DataFrame(other_gene_id)\n",
    "    data = data.iloc[remain_idx]\n",
    "    data.gene_id = [re.sub('\\\\.[0-9]*', '', id) for id in list(data.gene_id)]\n",
    "    ## output informaiton and gene name which are not start with ‘ENSG’ for each quantification file\n",
    "    quan_file_name = info[0] + '_quan_file.tsv'\n",
    "    quan_file_other_gene_name = info[0] + '_other_gene_name.tsv'\n",
    "    other_gene_id.to_csv(quan_file_other_gene_name, sep='\\t', index=False)\n",
    "    data.to_csv(quan_file_name, sep='\\t',index=False)"
   ]
  },
  {
   "cell_type": "markdown",
   "metadata": {},
   "source": [
    "## Read the GTF file"
   ]
  },
  {
   "cell_type": "code",
   "execution_count": 8,
   "metadata": {},
   "outputs": [
    {
     "name": "stdout",
     "output_type": "stream",
     "text": [
      "D:\\my github\\python_class\\Problem_Set2\n",
      "                                                   0\n",
      "0  https://www.encodeproject.org/files/gencode.v2...\n"
     ]
    }
   ],
   "source": [
    "os.chdir('..')\n",
    "print(os.getcwd())\n",
    "ps2_gencode_url = pd.read_csv(\"ps2_gencode_url.tsv\", sep = \"\\t\", header = None)\n",
    "print(ps2_gencode_url)"
   ]
  },
  {
   "cell_type": "code",
   "execution_count": 9,
   "metadata": {},
   "outputs": [],
   "source": [
    "import urllib.request\n",
    "import gzip"
   ]
  },
  {
   "cell_type": "code",
   "execution_count": 10,
   "metadata": {},
   "outputs": [],
   "source": [
    "# variable for URL\n",
    "request_URL = list(ps2_gencode_url.iloc[0])[0]"
   ]
  },
  {
   "cell_type": "code",
   "execution_count": 11,
   "metadata": {},
   "outputs": [],
   "source": [
    "# open stream for data\n",
    "response = urllib.request.urlopen(request_URL)"
   ]
  },
  {
   "cell_type": "code",
   "execution_count": 12,
   "metadata": {},
   "outputs": [],
   "source": [
    "# open gzipped connection\n",
    "import re as re\n",
    "gene_info = []\n",
    "with gzip.open(response, 'rt') as inFile:\n",
    "    for line in inFile:\n",
    "        line = line.rstrip('\\n')\n",
    "        # print(line)\n",
    "        if not line.startswith(\"#\"):\n",
    "            line = line.split(\"\\t\")\n",
    "            # print(line)\n",
    "            if line[1] == \"HAVANA\" and line[2] == \"gene\":\n",
    "                # gene.append(line)\n",
    "                attribute = line[8].split(';')\n",
    "                gene_id = [i for i in attribute if 'gene_id' in i]\n",
    "                gene_name = [i for i in attribute if 'gene_name' in i]\n",
    "                gene_type = [i for i in attribute if 'gene_type' in i]\n",
    "\n",
    "                if len(gene_id) > 0 and len(gene_name) > 0 and len(gene_type) > 0:\n",
    "                    gene_id = gene_id[0].replace('gene_id ', '').replace('\"', '').strip()\n",
    "                    gene_id = re.sub('\\\\.[0-9]*', '', gene_id)\n",
    "                    gene_name = gene_name[0].replace('gene_name ', '').replace('\"', '').strip()\n",
    "                    gene_type = gene_type[0].replace('gene_type ', '').replace('\"', '').strip()\n",
    "                    temp_gene = [gene_id, gene_name, gene_type]\n",
    "                    # print(temp_gene)\n",
    "                    gene_info.append(temp_gene)\n",
    "\n",
    "gene_info = pd.DataFrame(gene_info)\n",
    "gene_info.columns = [\"gene_id\", \"gene_name\", \"gene_type\"]\n",
    "\n",
    "gene_info.to_csv(\"GTF_file.tsv\", sep = \"\\t\", index=False)"
   ]
  }
 ],
 "metadata": {
  "kernelspec": {
   "display_name": "Python 3",
   "language": "python",
   "name": "python3"
  },
  "language_info": {
   "codemirror_mode": {
    "name": "ipython",
    "version": 3
   },
   "file_extension": ".py",
   "mimetype": "text/x-python",
   "name": "python",
   "nbconvert_exporter": "python",
   "pygments_lexer": "ipython3",
   "version": "3.7.4"
  }
 },
 "nbformat": 4,
 "nbformat_minor": 2
}
