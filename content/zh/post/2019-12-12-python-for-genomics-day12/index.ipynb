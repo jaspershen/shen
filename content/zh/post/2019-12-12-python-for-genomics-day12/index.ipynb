{
 "cells": [
  {
   "cell_type": "markdown",
   "metadata": {},
   "source": [
    "# biopython包简介\n"
   ]
  },
  {
   "cell_type": "markdown",
   "metadata": {},
   "source": [
    "Biopython工程是一个使用Python来开发计算分子生物学工具的国际团体。(http://www.python.org) \n",
    "\n",
    "Biopython官网(http://www.biopython.org) 为使用和研究生物信息学的开发者提供了一个在线的资源库，包括模块、脚本以及一些基于Python的软件的网站链接。一般来讲，Biopython致力于通过创造高质量的和可重复利用的模块及类，从而使得Python在生物信息学中的应用变得更加容易。Biopython的特点包括解析各种生物信息学格式的文件(BLAST，Clustalw，FASTA，Genbank...)，访问在线的服务器(NCBI，Expasy...)，常见和不那么常见程序的接口(Clustalw， DSSP，MSMS...)，标准的序列类，各种收集的模块，KD树数据结构等等，还有一些文档。\n",
    "\n",
    "基本来说，我们喜欢使用Python来编程，并且希望通过创建高质量、可复用的模块和脚本来使得Python在生物信息学中的应用变得容易。"
   ]
  },
  {
   "cell_type": "markdown",
   "metadata": {},
   "source": [
    "## 使用biopython在pubmed进行查询"
   ]
  },
  {
   "cell_type": "code",
   "execution_count": 4,
   "metadata": {},
   "outputs": [],
   "source": [
    "from Bio import SeqIO\n",
    "from Bio.Seq import Seq\n",
    "from Bio import Entrez"
   ]
  },
  {
   "cell_type": "code",
   "execution_count": 5,
   "metadata": {},
   "outputs": [
    {
     "name": "stdout",
     "output_type": "stream",
     "text": [
      "['pubmed', 'protein', 'nuccore', 'ipg', 'nucleotide', 'structure', 'sparcle', 'genome', 'annotinfo', 'assembly', 'bioproject', 'biosample', 'blastdbinfo', 'books', 'cdd', 'clinvar', 'gap', 'gapplus', 'grasp', 'dbvar', 'gene', 'gds', 'geoprofiles', 'homologene', 'medgen', 'mesh', 'ncbisearch', 'nlmcatalog', 'omim', 'orgtrack', 'pmc', 'popset', 'probe', 'proteinclusters', 'pcassay', 'biosystems', 'pccompound', 'pcsubstance', 'seqannot', 'snp', 'sra', 'taxonomy', 'biocollections', 'gtr']\n"
     ]
    }
   ],
   "source": [
    "# NOTE:\n",
    "# Please change to your email address.\n",
    "# NCBI uses this for there logging of the resources use\n",
    "Entrez.email = 'shenxt@stanford.edu'\n",
    "with Entrez.einfo() as handle:\n",
    "    record = Entrez.read(handle)\n",
    "\n",
    "print(record['DbList'])"
   ]
  },
  {
   "cell_type": "code",
   "execution_count": 6,
   "metadata": {},
   "outputs": [
    {
     "name": "stdout",
     "output_type": "stream",
     "text": [
      "{'Count': '3', 'RetMax': '3', 'RetStart': '0', 'IdList': ['29677511', '11081629', '229970'], 'TranslationSet': [{'From': 'cell[journal]', 'To': '\"Cell\"[Journal]'}], 'TranslationStack': [{'Term': 'church g[Author]', 'Field': 'Author', 'Count': '546', 'Explode': 'N'}, {'Term': '\"Cell\"[Journal]', 'Field': 'Journal', 'Count': '20228', 'Explode': 'N'}, 'AND'], 'QueryTranslation': 'church g[Author] AND \"Cell\"[Journal]'}\n",
      "-------------\n",
      "Count :  3\n",
      "RetMax :  3\n",
      "RetStart :  0\n",
      "IdList :  ['29677511', '11081629', '229970']\n",
      "TranslationSet :  [{'From': 'cell[journal]', 'To': '\"Cell\"[Journal]'}]\n",
      "TranslationStack :  [{'Term': 'church g[Author]', 'Field': 'Author', 'Count': '546', 'Explode': 'N'}, {'Term': '\"Cell\"[Journal]', 'Field': 'Journal', 'Count': '20228', 'Explode': 'N'}, 'AND']\n",
      "QueryTranslation :  church g[Author] AND \"Cell\"[Journal]\n"
     ]
    }
   ],
   "source": [
    "# search NCBI Pubmed with query as you would do from their web interface\n",
    "with Entrez.esearch(db='pubmed', term='church g[auth] AND cell[journal]') as handle:\n",
    "    records = Entrez.read(handle)\n",
    "    print(records)\n",
    "    print('-------------')\n",
    "    for r_key in records:\n",
    "        print(r_key, ': ', records[r_key])"
   ]
  },
  {
   "cell_type": "code",
   "execution_count": 7,
   "metadata": {},
   "outputs": [
    {
     "name": "stdout",
     "output_type": "stream",
     "text": [
      "number of records: 3\n"
     ]
    }
   ],
   "source": [
    "# fetch PMIDs returned from search above\n",
    "pubmed_records = len(records['IdList'])\n",
    "print('number of records:', pubmed_records)"
   ]
  },
  {
   "cell_type": "code",
   "execution_count": 8,
   "metadata": {},
   "outputs": [
    {
     "name": "stdout",
     "output_type": "stream",
     "text": [
      "{'PubmedArticle': [{'MedlineCitation': DictElement({'KeywordList': [ListElement([StringElement('AML', attributes={'MajorTopicYN': 'Y'}), StringElement('AXL/GAS6', attributes={'MajorTopicYN': 'Y'}), StringElement('CRISPR', attributes={'MajorTopicYN': 'Y'}), StringElement('CRISPRa', attributes={'MajorTopicYN': 'Y'}), StringElement('TEM', attributes={'MajorTopicYN': 'Y'}), StringElement('cancer', attributes={'MajorTopicYN': 'Y'}), StringElement('cytarabine', attributes={'MajorTopicYN': 'Y'}), StringElement('drug-resistance', attributes={'MajorTopicYN': 'Y'}), StringElement('leukemia', attributes={'MajorTopicYN': 'Y'}), StringElement('lncRNA', attributes={'MajorTopicYN': 'Y'})], attributes={'Owner': 'NOTNLM'})], 'OtherAbstract': [], 'SpaceFlightMission': [], 'OtherID': [], 'GeneralNote': [], 'CitationSubset': ['IM'], 'PMID': StringElement('29677511', attributes={'Version': '1'}), 'DateCompleted': {'Year': '2019', 'Month': '02', 'Day': '11'}, 'DateRevised': {'Year': '2019', 'Month': '04', 'Day': '19'}, 'Article': DictElement({'ELocationID': [StringElement('S0092-8674(18)30384-2', attributes={'EIdType': 'pii', 'ValidYN': 'Y'}), StringElement('10.1016/j.cell.2018.03.052', attributes={'EIdType': 'doi', 'ValidYN': 'Y'})], 'Language': ['eng'], 'ArticleDate': [], 'Journal': {'ISSN': StringElement('1097-4172', attributes={'IssnType': 'Electronic'}), 'JournalIssue': DictElement({'Volume': '173', 'Issue': '3', 'PubDate': {'Year': '2018', 'Month': '04', 'Day': '19'}}, attributes={'CitedMedium': 'Internet'}), 'Title': 'Cell', 'ISOAbbreviation': 'Cell'}, 'ArticleTitle': 'An Integrated Genome-wide CRISPRa Approach to Functionalize lncRNAs in Drug Resistance.', 'Pagination': {'MedlinePgn': '649-664.e20'}, 'Abstract': {'AbstractText': ['Resistance to chemotherapy plays a significant role\\xa0in cancer mortality. To identify genetic units affecting sensitivity to cytarabine, the mainstay of treatment for acute myeloid leukemia (AML), we\\xa0developed a comprehensive and integrated genome-wide platform based on a dual protein-coding and non-coding integrated CRISPRa screening (DICaS). Putative resistance genes were initially identified using pharmacogenetic data from 760 human pan-cancer cell lines. Subsequently, genome scale functional characterization of both coding and long non-coding RNA (lncRNA) genes by CRISPR activation was performed. For lncRNA functional assessment, we developed a CRISPR activation of lncRNA (CaLR) strategy, targeting 14,701 lncRNA genes. Computational and functional analysis identified novel cell-cycle, survival/apoptosis, and cancer signaling genes. Furthermore, transcriptional activation of the GAS6-AS2 lncRNA, identified in our analysis, leads to hyperactivation of the GAS6/TAM pathway, a resistance mechanism in multiple cancers including AML. Thus, DICaS represents a novel and powerful approach to identify integrated coding and non-coding pathways of therapeutic relevance.'], 'CopyrightInformation': 'Copyright © 2018 Elsevier Inc. All rights reserved.'}, 'AuthorList': ListElement([DictElement({'Identifier': [], 'AffiliationInfo': [{'Identifier': [], 'Affiliation': 'Cancer Research Institute, Beth Israel Deaconess Cancer Center, Department of Medicine and Pathology, Beth Israel Deaconess Medical Center, Harvard Medical School, Boston, MA, USA; Ludwig Center at Harvard, Harvard Medical School, Boston, MA, USA.'}], 'LastName': 'Bester', 'ForeName': 'Assaf C', 'Initials': 'AC'}, attributes={'ValidYN': 'Y'}), DictElement({'Identifier': [], 'AffiliationInfo': [{'Identifier': [], 'Affiliation': 'Cancer Research Institute, Beth Israel Deaconess Cancer Center, Department of Medicine and Pathology, Beth Israel Deaconess Medical Center, Harvard Medical School, Boston, MA, USA; Ludwig Center at Harvard, Harvard Medical School, Boston, MA, USA.'}], 'LastName': 'Lee', 'ForeName': 'Jonathan D', 'Initials': 'JD'}, attributes={'ValidYN': 'Y'}), DictElement({'Identifier': [], 'AffiliationInfo': [{'Identifier': [], 'Affiliation': \"Wyss Institute for Biologically Inspired Engineering, Harvard University, Cambridge, MA, USA; Department of Pathology and Cell Biology, Columbia University College of Physicians and Surgeons, New York, NY 10032, USA; Taub Institute for Research on Alzheimer's Disease and the Aging Brain, Columbia University College of Physicians and Surgeons, New York, NY 10032, USA.\"}], 'LastName': 'Chavez', 'ForeName': 'Alejandro', 'Initials': 'A'}, attributes={'ValidYN': 'Y'}), DictElement({'Identifier': [], 'AffiliationInfo': [{'Identifier': [], 'Affiliation': 'Cancer Research Institute, Beth Israel Deaconess Cancer Center, Department of Medicine and Pathology, Beth Israel Deaconess Medical Center, Harvard Medical School, Boston, MA, USA; Ludwig Center at Harvard, Harvard Medical School, Boston, MA, USA.'}], 'LastName': 'Lee', 'ForeName': 'Yu-Ru', 'Initials': 'YR'}, attributes={'ValidYN': 'Y'}), DictElement({'Identifier': [], 'AffiliationInfo': [{'Identifier': [], 'Affiliation': 'Cancer Research Institute, Beth Israel Deaconess Cancer Center, Department of Medicine and Pathology, Beth Israel Deaconess Medical Center, Harvard Medical School, Boston, MA, USA; Ludwig Center at Harvard, Harvard Medical School, Boston, MA, USA.'}], 'LastName': 'Nachmani', 'ForeName': 'Daphna', 'Initials': 'D'}, attributes={'ValidYN': 'Y'}), DictElement({'Identifier': [], 'AffiliationInfo': [{'Identifier': [], 'Affiliation': 'Wyss Institute for Biologically Inspired Engineering, Harvard University, Cambridge, MA, USA.'}], 'LastName': 'Vora', 'ForeName': 'Suhani', 'Initials': 'S'}, attributes={'ValidYN': 'Y'}), DictElement({'Identifier': [], 'AffiliationInfo': [{'Identifier': [], 'Affiliation': 'Cancer Research Institute, Beth Israel Deaconess Cancer Center, Department of Medicine and Pathology, Beth Israel Deaconess Medical Center, Harvard Medical School, Boston, MA, USA; Ludwig Center at Harvard, Harvard Medical School, Boston, MA, USA.'}], 'LastName': 'Victor', 'ForeName': 'Joshua', 'Initials': 'J'}, attributes={'ValidYN': 'Y'}), DictElement({'Identifier': [], 'AffiliationInfo': [{'Identifier': [], 'Affiliation': 'Department of Stem Cell and Regenerative Biology, Harvard University, The Broad Institute of MIT and Harvard, Cambridge, MA, USA; Functional Genomics and Noncoding RNAs Research Unit, Institut de Recherches Cliniques de Montréal (IRCM), Montréal, QC, Canada; Department of Biochemistry and Molecular Medicine, Université de Montréal, Montréal, QC, Canada.'}], 'LastName': 'Sauvageau', 'ForeName': 'Martin', 'Initials': 'M'}, attributes={'ValidYN': 'Y'}), DictElement({'Identifier': [], 'AffiliationInfo': [{'Identifier': [], 'Affiliation': 'Department of Molecular Biotechnology and Health Sciences, and GenoBiToUS, Genomics and Bioinformatics Service, University of Turin, Turin, Italy.'}], 'LastName': 'Monteleone', 'ForeName': 'Emanuele', 'Initials': 'E'}, attributes={'ValidYN': 'Y'}), DictElement({'Identifier': [], 'AffiliationInfo': [{'Identifier': [], 'Affiliation': 'Department of Stem Cell and Regenerative Biology, Harvard University, The Broad Institute of MIT and Harvard, Cambridge, MA, USA.'}], 'LastName': 'Rinn', 'ForeName': 'John L', 'Initials': 'JL'}, attributes={'ValidYN': 'Y'}), DictElement({'Identifier': [], 'AffiliationInfo': [{'Identifier': [], 'Affiliation': 'Department of Molecular Biotechnology and Health Sciences, and GenoBiToUS, Genomics and Bioinformatics Service, University of Turin, Turin, Italy; Center for Translational Genomics and Bioinformatics, San Raffaele Scientific Institute IRCCS, Milan, Italy.'}], 'LastName': 'Provero', 'ForeName': 'Paolo', 'Initials': 'P'}, attributes={'ValidYN': 'Y'}), DictElement({'Identifier': [], 'AffiliationInfo': [{'Identifier': [], 'Affiliation': 'Wyss Institute for Biologically Inspired Engineering, Harvard University, Cambridge, MA, USA.'}], 'LastName': 'Church', 'ForeName': 'George M', 'Initials': 'GM'}, attributes={'ValidYN': 'Y'}), DictElement({'Identifier': [], 'AffiliationInfo': [{'Identifier': [], 'Affiliation': 'Cancer Research Institute, Beth Israel Deaconess Cancer Center, Department of Medicine and Pathology, Beth Israel Deaconess Medical Center, Harvard Medical School, Boston, MA, USA; Ludwig Center at Harvard, Harvard Medical School, Boston, MA, USA; Preclinical Murine Pharmacogenetics Facility and Mouse Hospital, Beth Israel Deaconess Medical Center, Harvard Medical School, Boston, MA, USA.'}], 'LastName': 'Clohessy', 'ForeName': 'John G', 'Initials': 'JG'}, attributes={'ValidYN': 'Y'}), DictElement({'Identifier': [], 'AffiliationInfo': [{'Identifier': [], 'Affiliation': 'Cancer Research Institute, Beth Israel Deaconess Cancer Center, Department of Medicine and Pathology, Beth Israel Deaconess Medical Center, Harvard Medical School, Boston, MA, USA; Ludwig Center at Harvard, Harvard Medical School, Boston, MA, USA. Electronic address: ppandolf@bidmc.harvard.edu.'}], 'LastName': 'Pandolfi', 'ForeName': 'Pier Paolo', 'Initials': 'PP'}, attributes={'ValidYN': 'Y'})], attributes={'CompleteYN': 'Y'}), 'GrantList': ListElement([{'GrantID': 'P50 HG005550', 'Acronym': 'HG', 'Agency': 'NHGRI NIH HHS', 'Country': 'United States'}, {'GrantID': 'R35 CA197529', 'Acronym': 'CA', 'Agency': 'NCI NIH HHS', 'Country': 'United States'}, {'GrantID': 'RM1 HG008525', 'Acronym': 'HG', 'Agency': 'NHGRI NIH HHS', 'Country': 'United States'}, {'GrantID': 'T32 CA009216', 'Acronym': 'CA', 'Agency': 'NCI NIH HHS', 'Country': 'United States'}], attributes={'CompleteYN': 'Y'}), 'PublicationTypeList': [StringElement('Journal Article', attributes={'UI': 'D016428'}), StringElement('Research Support, N.I.H., Extramural', attributes={'UI': 'D052061'}), StringElement(\"Research Support, Non-U.S. Gov't\", attributes={'UI': 'D013485'})]}, attributes={'PubModel': 'Print'}), 'MedlineJournalInfo': {'Country': 'United States', 'MedlineTA': 'Cell', 'NlmUniqueID': '0413066', 'ISSNLinking': '0092-8674'}, 'ChemicalList': [{'RegistryNumber': '0', 'NameOfSubstance': StringElement('Proteins', attributes={'UI': 'D011506'})}, {'RegistryNumber': '0', 'NameOfSubstance': StringElement('RNA, Long Noncoding', attributes={'UI': 'D062085'})}, {'RegistryNumber': '0', 'NameOfSubstance': StringElement('RNA, Messenger', attributes={'UI': 'D012333'})}, {'RegistryNumber': '04079A1RDZ', 'NameOfSubstance': StringElement('Cytarabine', attributes={'UI': 'D003561'})}, {'RegistryNumber': '63231-63-0', 'NameOfSubstance': StringElement('RNA', attributes={'UI': 'D012313'})}], 'MeshHeadingList': [{'QualifierName': [], 'DescriptorName': StringElement('Animals', attributes={'UI': 'D000818', 'MajorTopicYN': 'N'})}, {'QualifierName': [], 'DescriptorName': StringElement('CRISPR-Cas Systems', attributes={'UI': 'D064113', 'MajorTopicYN': 'Y'})}, {'QualifierName': [StringElement('pharmacology', attributes={'UI': 'Q000494', 'MajorTopicYN': 'N'})], 'DescriptorName': StringElement('Cytarabine', attributes={'UI': 'D003561', 'MajorTopicYN': 'N'})}, {'QualifierName': [], 'DescriptorName': StringElement('Drug Resistance, Neoplasm', attributes={'UI': 'D019008', 'MajorTopicYN': 'Y'})}, {'QualifierName': [], 'DescriptorName': StringElement('Female', attributes={'UI': 'D005260', 'MajorTopicYN': 'N'})}, {'QualifierName': [], 'DescriptorName': StringElement('Gene Expression Profiling', attributes={'UI': 'D020869', 'MajorTopicYN': 'N'})}, {'QualifierName': [], 'DescriptorName': StringElement('Gene Regulatory Networks', attributes={'UI': 'D053263', 'MajorTopicYN': 'N'})}, {'QualifierName': [], 'DescriptorName': StringElement('Genome, Human', attributes={'UI': 'D015894', 'MajorTopicYN': 'Y'})}, {'QualifierName': [], 'DescriptorName': StringElement('HEK293 Cells', attributes={'UI': 'D057809', 'MajorTopicYN': 'N'})}, {'QualifierName': [], 'DescriptorName': StringElement('HL-60 Cells', attributes={'UI': 'D018922', 'MajorTopicYN': 'N'})}, {'QualifierName': [], 'DescriptorName': StringElement('Humans', attributes={'UI': 'D006801', 'MajorTopicYN': 'N'})}, {'QualifierName': [], 'DescriptorName': StringElement('K562 Cells', attributes={'UI': 'D020014', 'MajorTopicYN': 'N'})}, {'QualifierName': [StringElement('drug therapy', attributes={'UI': 'Q000188', 'MajorTopicYN': 'N'}), StringElement('genetics', attributes={'UI': 'Q000235', 'MajorTopicYN': 'N'})], 'DescriptorName': StringElement('Leukemia, Myeloid, Acute', attributes={'UI': 'D015470', 'MajorTopicYN': 'N'})}, {'QualifierName': [], 'DescriptorName': StringElement('Male', attributes={'UI': 'D008297', 'MajorTopicYN': 'N'})}, {'QualifierName': [], 'DescriptorName': StringElement('Mice', attributes={'UI': 'D051379', 'MajorTopicYN': 'N'})}, {'QualifierName': [], 'DescriptorName': StringElement('Pharmacogenetics', attributes={'UI': 'D010597', 'MajorTopicYN': 'N'})}, {'QualifierName': [StringElement('genetics', attributes={'UI': 'Q000235', 'MajorTopicYN': 'N'})], 'DescriptorName': StringElement('Proteins', attributes={'UI': 'D011506', 'MajorTopicYN': 'N'})}, {'QualifierName': [StringElement('analysis', attributes={'UI': 'Q000032', 'MajorTopicYN': 'N'})], 'DescriptorName': StringElement('RNA', attributes={'UI': 'D012313', 'MajorTopicYN': 'N'})}, {'QualifierName': [StringElement('genetics', attributes={'UI': 'Q000235', 'MajorTopicYN': 'Y'})], 'DescriptorName': StringElement('RNA, Long Noncoding', attributes={'UI': 'D062085', 'MajorTopicYN': 'N'})}, {'QualifierName': [StringElement('genetics', attributes={'UI': 'Q000235', 'MajorTopicYN': 'N'})], 'DescriptorName': StringElement('RNA, Messenger', attributes={'UI': 'D012333', 'MajorTopicYN': 'N'})}, {'QualifierName': [], 'DescriptorName': StringElement('Signal Transduction', attributes={'UI': 'D015398', 'MajorTopicYN': 'N'})}]}, attributes={'Status': 'MEDLINE', 'Owner': 'NLM'}), 'PubmedData': {'ReferenceList': [{'ReferenceList': [], 'Reference': [{'Citation': 'Proc Natl Acad Sci U S A. 2005 Oct 25;102(43):15545-50', 'ArticleIdList': [StringElement('16199517', attributes={'IdType': 'pubmed'})]}, {'Citation': 'Cell. 2012 Sep 14;150(6):1107-20', 'ArticleIdList': [StringElement('22980975', attributes={'IdType': 'pubmed'})]}, {'Citation': 'Nucleic Acids Res. 2016 May 5;44(8):e71', 'ArticleIdList': [StringElement('26704973', attributes={'IdType': 'pubmed'})]}, {'Citation': 'Nucleic Acids Res. 2000 Jan 1;28(1):27-30', 'ArticleIdList': [StringElement('10592173', attributes={'IdType': 'pubmed'})]}, {'Citation': 'Clin Cancer Res. 2013 Apr 1;19(7):1748-59', 'ArticleIdList': [StringElement('23403638', attributes={'IdType': 'pubmed'})]}, {'Citation': 'Nat Chem Biol. 2016 Feb;12(2):109-16', 'ArticleIdList': [StringElement('26656090', attributes={'IdType': 'pubmed'})]}, {'Citation': 'Nat Methods. 2015 Jan;12(1):1', 'ArticleIdList': [StringElement('25699311', attributes={'IdType': 'pubmed'})]}, {'Citation': 'Nat Rev Genet. 2016 Jan;17(1):47-62', 'ArticleIdList': [StringElement('26666209', attributes={'IdType': 'pubmed'})]}, {'Citation': 'Genome Biol. 2014;15(12):554', 'ArticleIdList': [StringElement('25476604', attributes={'IdType': 'pubmed'})]}, {'Citation': 'Blood. 2002 Jan 1;99(1):252-7', 'ArticleIdList': [StringElement('11756179', attributes={'IdType': 'pubmed'})]}, {'Citation': 'Genes Dev. 2011 Sep 15;25(18):1915-27', 'ArticleIdList': [StringElement('21890647', attributes={'IdType': 'pubmed'})]}, {'Citation': 'Bioinformatics. 2011 Feb 1;27(3):431-2', 'ArticleIdList': [StringElement('21149340', attributes={'IdType': 'pubmed'})]}, {'Citation': 'Nature. 2013 Nov 21;503(7476):371-6', 'ArticleIdList': [StringElement('24107992', attributes={'IdType': 'pubmed'})]}, {'Citation': 'Cancer Res. 2015 Sep 15;75(18):3728-37', 'ArticleIdList': [StringElement('26208906', attributes={'IdType': 'pubmed'})]}, {'Citation': 'Bioinformatics. 2005 Aug 15;21(16):3439-40', 'ArticleIdList': [StringElement('16082012', attributes={'IdType': 'pubmed'})]}, {'Citation': 'BMC Bioinformatics. 2017 Mar 23;18(Suppl 5):144', 'ArticleIdList': [StringElement('28361701', attributes={'IdType': 'pubmed'})]}, {'Citation': 'Nat Methods. 2015 Jul;12(7):664-70', 'ArticleIdList': [StringElement('26030444', attributes={'IdType': 'pubmed'})]}, {'Citation': 'Cancer Cell. 2016 Apr 11;29(4):452-463', 'ArticleIdList': [StringElement('27070700', attributes={'IdType': 'pubmed'})]}, {'Citation': 'Bioinformatics. 2013 Jan 1;29(1):15-21', 'ArticleIdList': [StringElement('23104886', attributes={'IdType': 'pubmed'})]}, {'Citation': 'Cancer Cell. 2014 Sep 8;26(3):344-357', 'ArticleIdList': [StringElement('25203321', attributes={'IdType': 'pubmed'})]}, {'Citation': 'Biosci Rep. 2008 Jun;28(3):161-76', 'ArticleIdList': [StringElement('18522535', attributes={'IdType': 'pubmed'})]}, {'Citation': 'Bioinformatics. 2009 Aug 15;25(16):2078-9', 'ArticleIdList': [StringElement('19505943', attributes={'IdType': 'pubmed'})]}, {'Citation': 'Nat Methods. 2012 Jul;9(7):671-5', 'ArticleIdList': [StringElement('22930834', attributes={'IdType': 'pubmed'})]}, {'Citation': 'Nucleic Acids Res. 2016 Jul 8;44(W1):W83-9', 'ArticleIdList': [StringElement('27098042', attributes={'IdType': 'pubmed'})]}, {'Citation': 'Science. 2014 Jan 3;343(6166):80-4', 'ArticleIdList': [StringElement('24336569', attributes={'IdType': 'pubmed'})]}, {'Citation': 'Nat Med. 2017 Feb;23(2):250-255', 'ArticleIdList': [StringElement('27991919', attributes={'IdType': 'pubmed'})]}, {'Citation': 'Nat Genet. 2015 Mar;47(3):199-208', 'ArticleIdList': [StringElement('25599403', attributes={'IdType': 'pubmed'})]}, {'Citation': 'Pharmacogenomics. 2009 Oct;10(10):1657-74', 'ArticleIdList': [StringElement('19842938', attributes={'IdType': 'pubmed'})]}, {'Citation': 'Blood Cancer J. 2015 Mar 20;5:e297', 'ArticleIdList': [StringElement('25794133', attributes={'IdType': 'pubmed'})]}, {'Citation': 'Cell. 2013 Aug 29;154(5):1151-1161', 'ArticleIdList': [StringElement('23993102', attributes={'IdType': 'pubmed'})]}, {'Citation': 'Nat Med. 2015 Nov;21(11):1253-61', 'ArticleIdList': [StringElement('26540387', attributes={'IdType': 'pubmed'})]}, {'Citation': 'Leukemia. 2004 Feb;18(2):189-218', 'ArticleIdList': [StringElement('14737178', attributes={'IdType': 'pubmed'})]}, {'Citation': 'Nature. 2012 Mar 28;483(7391):570-5', 'ArticleIdList': [StringElement('22460902', attributes={'IdType': 'pubmed'})]}, {'Citation': 'Nat Methods. 2012 Jun 28;9(7):676-82', 'ArticleIdList': [StringElement('22743772', attributes={'IdType': 'pubmed'})]}, {'Citation': 'N Engl J Med. 2013 May 30;368(22):2059-74', 'ArticleIdList': [StringElement('23634996', attributes={'IdType': 'pubmed'})]}, {'Citation': 'BMC Bioinformatics. 2007 Oct 16;8:392', 'ArticleIdList': [StringElement('17939863', attributes={'IdType': 'pubmed'})]}, {'Citation': 'Curr Oncol Rep. 2017 Mar;19(3):19', 'ArticleIdList': [StringElement('28251492', attributes={'IdType': 'pubmed'})]}, {'Citation': 'Nat Med. 2017 Feb;23(2):256-263', 'ArticleIdList': [StringElement('28067901', attributes={'IdType': 'pubmed'})]}, {'Citation': 'Annu Rev Biochem. 2012;81:145-66', 'ArticleIdList': [StringElement('22663078', attributes={'IdType': 'pubmed'})]}, {'Citation': 'Nucleic Acids Res. 2010 Jul;38(Web Server issue):W96-102', 'ArticleIdList': [StringElement('20484371', attributes={'IdType': 'pubmed'})]}, {'Citation': 'Nature. 2012 Mar 28;483(7391):603-7', 'ArticleIdList': [StringElement('22460905', attributes={'IdType': 'pubmed'})]}, {'Citation': 'Bioinformatics. 2014 Apr 1;30(7):923-30', 'ArticleIdList': [StringElement('24227677', attributes={'IdType': 'pubmed'})]}, {'Citation': 'J Clin Med. 2015 Apr;4(4):665-95', 'ArticleIdList': [StringElement('25932335', attributes={'IdType': 'pubmed'})]}, {'Citation': 'Proc Natl Acad Sci U S A. 2017 Apr 11;114(15):3981-3986', 'ArticleIdList': [StringElement('28356518', attributes={'IdType': 'pubmed'})]}, {'Citation': 'Nat Protoc. 2017 Apr;12(4):828-863', 'ArticleIdList': [StringElement('28333914', attributes={'IdType': 'pubmed'})]}, {'Citation': 'Cancer Discov. 2017 Jul;7(7):716-735', 'ArticleIdList': [StringElement('28416471', attributes={'IdType': 'pubmed'})]}, {'Citation': 'Nat Methods. 2016 Jul;13(7):563-567', 'ArticleIdList': [StringElement('27214048', attributes={'IdType': 'pubmed'})]}, {'Citation': 'Cell. 2014 Oct 23;159(3):647-61', 'ArticleIdList': [StringElement('25307932', attributes={'IdType': 'pubmed'})]}, {'Citation': 'Cancer Cell. 2016 Jul 11;30(1):43-58', 'ArticleIdList': [StringElement('27344946', attributes={'IdType': 'pubmed'})]}, {'Citation': 'Cancer Lett. 2008 Sep 18;268(2):314-24', 'ArticleIdList': [StringElement('18502572', attributes={'IdType': 'pubmed'})]}, {'Citation': 'Cell Death Dis. 2017 Mar 23;8(3):e2700', 'ArticleIdList': [StringElement('28333143', attributes={'IdType': 'pubmed'})]}, {'Citation': 'Nucleic Acids Res. 2014 Jan;42(Database issue):D199-205', 'ArticleIdList': [StringElement('24214961', attributes={'IdType': 'pubmed'})]}, {'Citation': 'Genome Biol. 2014;15(12):550', 'ArticleIdList': [StringElement('25516281', attributes={'IdType': 'pubmed'})]}, {'Citation': 'Database (Oxford). 2016 Jun 23;2016:', 'ArticleIdList': [StringElement('27337980', attributes={'IdType': 'pubmed'})]}, {'Citation': 'Nucleic Acids Res. 2013 Jan;41(Database issue):D955-61', 'ArticleIdList': [StringElement('23180760', attributes={'IdType': 'pubmed'})]}, {'Citation': 'Oncogene. 2013 Nov 14;32(46):5359-68', 'ArticleIdList': [StringElement('23474756', attributes={'IdType': 'pubmed'})]}, {'Citation': 'Pharmacogenomics. 2015 Jul;16(8):877-90', 'ArticleIdList': [StringElement('26083014', attributes={'IdType': 'pubmed'})]}, {'Citation': 'Nature. 2017 Mar 9;543(7644):199-204', 'ArticleIdList': [StringElement('28241135', attributes={'IdType': 'pubmed'})]}, {'Citation': 'Science. 2017 Jan 6;355(6320):', 'ArticleIdList': [StringElement('27980086', attributes={'IdType': 'pubmed'})]}, {'Citation': 'Proc Natl Acad Sci U S A. 2014 Dec 30;111(52):18679-84', 'ArticleIdList': [StringElement('25512507', attributes={'IdType': 'pubmed'})]}, {'Citation': 'Nat Methods. 2015 Apr;12(4):326-8', 'ArticleIdList': [StringElement('25730490', attributes={'IdType': 'pubmed'})]}, {'Citation': 'Nature. 2015 Jan 29;517(7536):583-8', 'ArticleIdList': [StringElement('25494202', attributes={'IdType': 'pubmed'})]}, {'Citation': 'Nature. 2017 Aug 17;548(7667):343-346', 'ArticleIdList': [StringElement('28792927', attributes={'IdType': 'pubmed'})]}]}], 'History': [DictElement({'Year': '2017', 'Month': '08', 'Day': '13'}, attributes={'PubStatus': 'received'}), DictElement({'Year': '2017', 'Month': '12', 'Day': '10'}, attributes={'PubStatus': 'revised'}), DictElement({'Year': '2018', 'Month': '03', 'Day': '21'}, attributes={'PubStatus': 'accepted'}), DictElement({'Year': '2018', 'Month': '4', 'Day': '21', 'Hour': '6', 'Minute': '0'}, attributes={'PubStatus': 'entrez'}), DictElement({'Year': '2018', 'Month': '4', 'Day': '21', 'Hour': '6', 'Minute': '0'}, attributes={'PubStatus': 'pubmed'}), DictElement({'Year': '2019', 'Month': '2', 'Day': '12', 'Hour': '6', 'Minute': '0'}, attributes={'PubStatus': 'medline'})], 'PublicationStatus': 'ppublish', 'ArticleIdList': [StringElement('29677511', attributes={'IdType': 'pubmed'}), StringElement('S0092-8674(18)30384-2', attributes={'IdType': 'pii'}), StringElement('10.1016/j.cell.2018.03.052', attributes={'IdType': 'doi'}), StringElement('PMC6061940', attributes={'IdType': 'pmc'}), StringElement('NIHMS960108', attributes={'IdType': 'mid'})]}}], 'PubmedBookArticle': []}\n"
     ]
    }
   ],
   "source": [
    "# retrieve papers from search above\n",
    "with Entrez.efetch(db='pubmed', id=records['IdList'][0], retmode='xml') as handle:\n",
    "    data = Entrez.read(handle)\n",
    "print(data)"
   ]
  },
  {
   "cell_type": "code",
   "execution_count": 9,
   "metadata": {},
   "outputs": [
    {
     "name": "stdout",
     "output_type": "stream",
     "text": [
      "PMID : 29677511 \n",
      "\n",
      "Journal : {'ISSN': StringElement('1097-4172', attributes={'IssnType': 'Electronic'}), 'JournalIssue': DictElement({'Volume': '173', 'Issue': '3', 'PubDate': {'Year': '2018', 'Month': '04', 'Day': '19'}}, attributes={'CitedMedium': 'Internet'}), 'Title': 'Cell', 'ISOAbbreviation': 'Cell'} \n",
      "\n",
      "ArticleTitle : An Integrated Genome-wide CRISPRa Approach to Functionalize lncRNAs in Drug Resistance. \n",
      "\n",
      "Abstract : {'AbstractText': ['Resistance to chemotherapy plays a significant role\\xa0in cancer mortality. To identify genetic units affecting sensitivity to cytarabine, the mainstay of treatment for acute myeloid leukemia (AML), we\\xa0developed a comprehensive and integrated genome-wide platform based on a dual protein-coding and non-coding integrated CRISPRa screening (DICaS). Putative resistance genes were initially identified using pharmacogenetic data from 760 human pan-cancer cell lines. Subsequently, genome scale functional characterization of both coding and long non-coding RNA (lncRNA) genes by CRISPR activation was performed. For lncRNA functional assessment, we developed a CRISPR activation of lncRNA (CaLR) strategy, targeting 14,701 lncRNA genes. Computational and functional analysis identified novel cell-cycle, survival/apoptosis, and cancer signaling genes. Furthermore, transcriptional activation of the GAS6-AS2 lncRNA, identified in our analysis, leads to hyperactivation of the GAS6/TAM pathway, a resistance mechanism in multiple cancers including AML. Thus, DICaS represents a novel and powerful approach to identify integrated coding and non-coding pathways of therapeutic relevance.'], 'CopyrightInformation': 'Copyright © 2018 Elsevier Inc. All rights reserved.'} \n",
      "\n",
      "PMID : 11081629 \n",
      "\n",
      "Journal : {'ISSN': StringElement('0092-8674', attributes={'IssnType': 'Print'}), 'JournalIssue': DictElement({'Volume': '103', 'Issue': '3', 'PubDate': {'Year': '2000', 'Month': 'Oct', 'Day': '27'}}, attributes={'CitedMedium': 'Print'}), 'Title': 'Cell', 'ISOAbbreviation': 'Cell'} \n",
      "\n",
      "ArticleTitle : The Isw2 chromatin remodeling complex represses early meiotic genes upon recruitment by Ume6p. \n",
      "\n",
      "Abstract : {'AbstractText': ['The ISWI class of chromatin remodeling factors exhibits potent chromatin remodeling activities in vitro. However, the in vivo functions of this class of factors are unknown at a molecular level. We have found that S. cerevisiae Isw2 complex represses transcription of early meiotic genes during mitotic growth in a parallel pathway to Rpd3-Sin3 histone deacetylase complex. This repressor function of lsw2 complex is largely dependent upon Ume6p, which recruits the complex to target genes. Nuclease digestion analyses revealed that lsw2 complex establishes nuclease-inaccessible chromatin structure near the Ume6p binding site in vivo. Based on these findings, we propose a model for the mechanism of transcriptional repression by two distinct chromatin remodeling complexes.']} \n",
      "\n",
      "PMID : 229970 \n",
      "\n",
      "Journal : {'ISSN': StringElement('0092-8674', attributes={'IssnType': 'Print'}), 'JournalIssue': DictElement({'Volume': '18', 'Issue': '4', 'PubDate': {'Year': '1979', 'Month': 'Dec'}}, attributes={'CitedMedium': 'Print'}), 'Title': 'Cell', 'ISOAbbreviation': 'Cell'} \n",
      "\n",
      "ArticleTitle : Pleiotropic mutations within two yeast mitochondrial cytochrome genes block mRNA processing. \n",
      "\n",
      "Abstract : {'AbstractText': ['The mRNAs from two yeast mitochondrial genes cob-box (cytochrome b) and oxi-3 (cytochrome oxidase 40,000 dalton subunit) are processed from large (7-10 kb) precursors. Certain mutations in each gene block the maturation of the RNAs from both genes at a variety of specific steps. The pleiotropic cytochrome b mutants seem to lack a functional trans-acting RNA required for the processing of both messengers. In contrast, the oxi-3 mutants may act by producing an activity that inhibits specific steps.']} \n",
      "\n"
     ]
    }
   ],
   "source": [
    "# XML format is complex and takes time to work through to extract what you want\n",
    "for i in range(pubmed_records):\n",
    "    with Entrez.efetch(db='pubmed', id=records['IdList'][i], retmode='xml') as handle:\n",
    "        data = Entrez.read(handle)\n",
    "        for y in data['PubmedArticle'][0]['MedlineCitation']:\n",
    "            #print(y)\n",
    "            if y == 'PMID':\n",
    "                print(y, ':', data['PubmedArticle'][0]['MedlineCitation'][y], '\\n')\n",
    "            if y == 'Article':\n",
    "                for x in data['PubmedArticle'][0]['MedlineCitation'][y]:\n",
    "                    #print(x)\n",
    "                    if x in ['Journal', 'ArticleTitle', 'Abstract']:\n",
    "                        print(x, ':', data['PubmedArticle'][0]['MedlineCitation']['Article'][x], '\\n')"
   ]
  },
  {
   "cell_type": "code",
   "execution_count": 10,
   "metadata": {},
   "outputs": [
    {
     "name": "stdout",
     "output_type": "stream",
     "text": [
      "{'Count': '4', 'RetMax': '4', 'RetStart': '0', 'IdList': ['52834251', '17482566', '3735962', '328'], 'TranslationSet': [], 'TranslationStack': [{'Term': 'rs328[All Fields]', 'Field': 'All Fields', 'Count': '4', 'Explode': 'N'}, 'GROUP'], 'QueryTranslation': 'rs328[All Fields]'}\n",
      "-------------\n",
      "Count :  4\n",
      "RetMax :  4\n",
      "RetStart :  0\n",
      "IdList :  ['52834251', '17482566', '3735962', '328']\n",
      "TranslationSet :  []\n",
      "TranslationStack :  [{'Term': 'rs328[All Fields]', 'Field': 'All Fields', 'Count': '4', 'Explode': 'N'}, 'GROUP']\n",
      "QueryTranslation :  rs328[All Fields]\n"
     ]
    }
   ],
   "source": [
    "# can search any of the NCBI databases listed in the einfo command above\n",
    "with Entrez.esearch(db='snp', term='rs328') as handle:\n",
    "    records = Entrez.read(handle)\n",
    "    print(records)\n",
    "    print('-------------')\n",
    "    for r_key in records:\n",
    "        print(r_key, ': ', records[r_key])"
   ]
  },
  {
   "cell_type": "code",
   "execution_count": 12,
   "metadata": {},
   "outputs": [],
   "source": [
    "# optional, can use this module to parse return XML\n",
    "import xmltodict\n",
    "# conda xmltodict"
   ]
  },
  {
   "cell_type": "code",
   "execution_count": 13,
   "metadata": {},
   "outputs": [
    {
     "name": "stdout",
     "output_type": "stream",
     "text": [
      "@uid : 52834251\n",
      "SNP_ID : 328\n",
      "ALLELE_ORIGIN : None\n",
      "GLOBAL_MAFS : OrderedDict([('MAF', [OrderedDict([('STUDY', '1000Genomes'), ('FREQ', 'G=0.092452/463')]), OrderedDict([('STUDY', 'ALSPAC'), ('FREQ', 'G=0.106642/411')]), OrderedDict([('STUDY', 'Estonian'), ('FREQ', 'G=0.066964/300')]), OrderedDict([('STUDY', 'ExAC'), ('FREQ', 'G=0.093501/11340')]), OrderedDict([('STUDY', 'GnomAD'), ('FREQ', 'G=0.086979/2728')]), OrderedDict([('STUDY', 'GnomAD_exomes'), ('FREQ', 'G=0.092156/23148')]), OrderedDict([('STUDY', 'NorthernSweden'), ('FREQ', 'G=0.085/51')]), OrderedDict([('STUDY', 'PAGE_STUDY'), ('FREQ', 'G=0.07904/6220')]), OrderedDict([('STUDY', 'TOPMED'), ('FREQ', 'G=0.089712/11265')]), OrderedDict([('STUDY', 'TWINSUK'), ('FREQ', 'G=0.107875/400')]), OrderedDict([('STUDY', 'Vietnamese'), ('FREQ', 'G=0.127036/78')])])])\n",
      "GLOBAL_POPULATION : None\n",
      "GLOBAL_SAMPLESIZE : 0\n",
      "SUSPECTED : None\n",
      "CLINICAL_SIGNIFICANCE : likely-benign,benign\n",
      "GENES : OrderedDict([('GENE_E', OrderedDict([('NAME', 'LPL'), ('GENE_ID', '4023')]))])\n",
      "ACC : NC_000008.11\n",
      "CHR : 8\n",
      "HANDLE : SI_EXO,EVA-GONL,OMICIA,SSMP,NHLBI-ESP,GMI,EVA_UK10K_TWINSUK,EVA_GENOME_DK,TOPMED,EVA_MGP,BIOINF_KMB_FNS_UNIBA,OMUKHERJEE_ADBS,EVA_FINRISK,1000GENOMES,EVA_EXAC,USC_VALOUEV,DEBNICK,EGCUT_WGS,KHV_HUMAN_GENOMES,PERLEGEN,GRF,ILLUMINA,OMIM-CURATED-RECORDS,AFFY,PAGE_CC,CLINSEQ_SNP,JJLAB,ACPOP,PACBIO,SWEGEN,JMKIDD_LAB,GNOMAD,CSHL,WEILL_CORNELL_DGM,EVA_UK10K_ALSPAC,BUSHMAN,BL,BCM_SSAHASNP,YUSUKE,EXOME_CHIP,HUMAN_LONGEVITY,HAMMER_LAB,EVA,PAGE_STUDY,EVA_DECODE,IMCJ-GDT,WIAF-CSNP,APPLERA_GI\n",
      "FXN_CLASS : stop_gained,coding_sequence_variant\n",
      "VALIDATED : by-frequency,by-cluster\n",
      "DOCSUM : HGVS=NC_000008.11:g.19962213C>G,NC_000008.10:g.19819724C>G,NG_008855.2:g.65497C>G,NG_008855.1:g.28143C>G,NM_000237.3:c.1421C>G,NM_000237.2:c.1421C>G,NP_000228.1:p.Ser474Ter|SEQ=[C/G]|GENE=LPL:4023\n",
      "TAX_ID : 9606\n",
      "ORIG_BUILD : 36\n",
      "UPD_BUILD : 153\n",
      "CREATEDATE : 2000/09/19 17:02\n",
      "UPDATEDATE : 2019/07/13 14:17\n",
      "SS : 329,3173350,4921960,10467174,16343000,24648907,48420139,69043156,71648660,74808885,181341878,181834342,181835906,182258758,198888197,217321427,217397633,217399174,217407233,217418296,217419027,217422429,223585670,234352504,241227319,244238714,244294501,252841585,254171515,279724045,342253806,410878568,484193264,485584695,490960926,491410902,491921994,536381272,655035593,779528090,780867941,782542564,783552875,834998628,985272683,1067495952,1075340057,1328915353,1397520212,1582593788,1584057350,1594862344,1620133815,1663127848,1689111743,1711194717,1752723251,1917826331,1928562440,1946231552,1959093919,2024980591,2094987020,2095209247,2153202052,2301288406,2470946277,2634720469,2634720470,2634720471,2708962560,2737022600,2748007794,2864093419,2985433067,2986076219,3002804512,3022826115,3026281130,3348082059,3555884012,3625947311,3630013668,3630013669,3632621006,3635162189,3640869479,3644964726,3646373026,3653367072,3653367073,3654194881,3670484557,3721555547,3726520386,3735467091,3744577761,3745461972,3767717822,3771428713,3772954565,3786087390,3791353795,3796234962,3810881303\n",
      "ALLELE : S\n",
      "SNP_CLASS : snv\n",
      "CHRPOS : 8:19962213\n",
      "TEXT : MergedRs=328\n",
      "SNP_ID_SORT : 0000000328\n",
      "CLINICAL_SORT : 1\n",
      "CITED_SORT : None\n",
      "CHRPOS_SORT : 0019962213\n",
      "MERGED_SORT : 1\n"
     ]
    }
   ],
   "source": [
    "# https://www.ncbi.nlm.nih.gov/snp/rs328\n",
    "# https://eutils.ncbi.nlm.nih.gov/entrez/eutils/efetch.fcgi?db=snp&id=rs328&report=XML\n",
    "with Entrez.efetch(db='snp', id='52834251', retmode='xml') as handle:\n",
    "    #print(handle.read())\n",
    "    snp_dict = xmltodict.parse(handle.read())\n",
    "for i in snp_dict['ExchangeSet']['DocumentSummary']:\n",
    "    print(i, ':', snp_dict['ExchangeSet']['DocumentSummary'][i])"
   ]
  },
  {
   "cell_type": "markdown",
   "metadata": {},
   "source": [
    "## biopython中的Bio.Seq"
   ]
  },
  {
   "cell_type": "markdown",
   "metadata": {},
   "source": [
    " biopython sequences    \n",
    " https://blast.ncbi.nlm.nih.gov/Blast.cgi?CMD=Web&PAGE_TYPE=BlastDocs&DOC_TYPE=BlastHelp"
   ]
  },
  {
   "cell_type": "code",
   "execution_count": 14,
   "metadata": {},
   "outputs": [
    {
     "data": {
      "text/plain": [
       "Seq('GATCGATGGGCCTATATAGGATCGAAAATCGC', IUPACUnambiguousDNA())"
      ]
     },
     "execution_count": 14,
     "metadata": {},
     "output_type": "execute_result"
    }
   ],
   "source": [
    "# class of objects for sequences\n",
    "from Bio.Alphabet import IUPAC\n",
    "from Bio.Seq import Seq\n",
    "my_seq = Seq('GATCGATGGGCCTATATAGGATCGAAAATCGC', IUPAC.unambiguous_dna)\n",
    "my_seq"
   ]
  },
  {
   "cell_type": "code",
   "execution_count": null,
   "metadata": {},
   "outputs": [],
   "source": []
  }
 ],
 "metadata": {
  "kernelspec": {
   "display_name": "Python 3",
   "language": "python",
   "name": "python3"
  },
  "language_info": {
   "codemirror_mode": {
    "name": "ipython",
    "version": 3
   },
   "file_extension": ".py",
   "mimetype": "text/x-python",
   "name": "python",
   "nbconvert_exporter": "python",
   "pygments_lexer": "ipython3",
   "version": "3.7.4"
  }
 },
 "nbformat": 4,
 "nbformat_minor": 2
}
